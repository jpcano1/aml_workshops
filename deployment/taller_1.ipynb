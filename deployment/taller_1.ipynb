{
 "cells": [
  {
   "cell_type": "code",
   "execution_count": 8,
   "metadata": {},
   "outputs": [],
   "source": [
    "import mlflow.sagemaker as mfs\n",
    "import pandas as pd\n",
    "\n",
    "from dotenv import find_dotenv, load_dotenv\n",
    "load_dotenv(find_dotenv())\n",
    "\n",
    "import os"
   ]
  },
  {
   "cell_type": "code",
   "execution_count": 9,
   "metadata": {},
   "outputs": [],
   "source": [
    "app_name = os.getenv(\"AWS_SAGEMAKER_APP_NAME\")\n",
    "execution_role_arn = os.getenv(\"AWS_EXECUTION_ROLE_ARN\")\n",
    "image_ecr_url = os.getenv(\"AWS_IMAGE_ECR_URL\")\n",
    "region = os.getenv(\"AWS_REGION\")\n",
    "s3_bucket_name = os.getenv(\"AWS_S3_BUCKET_NAME\")\n",
    "experiment_id = \"0\"\n",
    "run_id = os.getenv(\"RUN_ID\")\n",
    "model_name = os.getenv(\"MLFLOW_MODEL_NAME\")"
   ]
  },
  {
   "cell_type": "code",
   "execution_count": 10,
   "metadata": {},
   "outputs": [],
   "source": [
    "model_uri = \"s3://{}/{}/{}/artifacts/{}/\".format(\n",
    "    s3_bucket_name, experiment_id, run_id, model_name,\n",
    ")"
   ]
  },
  {
   "cell_type": "code",
   "execution_count": 14,
   "metadata": {},
   "outputs": [
    {
     "name": "stderr",
     "output_type": "stream",
     "text": [
      "2022/02/23 11:05:02 INFO mlflow.sagemaker: Using the python_function flavor for deployment!\n",
      "2022/02/23 11:05:02 INFO mlflow.sagemaker: No model data bucket specified, using the default bucket\n"
     ]
    },
    {
     "ename": "ClientError",
     "evalue": "An error occurred (AccessDenied) when calling the ListBuckets operation: Access Denied",
     "output_type": "error",
     "traceback": [
      "\u001b[0;31m---------------------------------------------------------------------------\u001b[0m",
      "\u001b[0;31mClientError\u001b[0m                               Traceback (most recent call last)",
      "\u001b[1;32m/home/jpcano1/Documents/Universidad/Maestria/AML/aml_workshops/deployment/taller_1.ipynb Cell 5'\u001b[0m in \u001b[0;36m<module>\u001b[0;34m\u001b[0m\n\u001b[0;32m----> <a href='vscode-notebook-cell:/home/jpcano1/Documents/Universidad/Maestria/AML/aml_workshops/deployment/taller_1.ipynb#ch0000013?line=0'>1</a>\u001b[0m mfs\u001b[39m.\u001b[39;49mdeploy(\n\u001b[1;32m      <a href='vscode-notebook-cell:/home/jpcano1/Documents/Universidad/Maestria/AML/aml_workshops/deployment/taller_1.ipynb#ch0000013?line=1'>2</a>\u001b[0m     app_name\u001b[39m=\u001b[39;49mapp_name,\n\u001b[1;32m      <a href='vscode-notebook-cell:/home/jpcano1/Documents/Universidad/Maestria/AML/aml_workshops/deployment/taller_1.ipynb#ch0000013?line=2'>3</a>\u001b[0m     model_uri\u001b[39m=\u001b[39;49mmodel_uri,\n\u001b[1;32m      <a href='vscode-notebook-cell:/home/jpcano1/Documents/Universidad/Maestria/AML/aml_workshops/deployment/taller_1.ipynb#ch0000013?line=3'>4</a>\u001b[0m     execution_role_arn\u001b[39m=\u001b[39;49mexecution_role_arn,\n\u001b[1;32m      <a href='vscode-notebook-cell:/home/jpcano1/Documents/Universidad/Maestria/AML/aml_workshops/deployment/taller_1.ipynb#ch0000013?line=4'>5</a>\u001b[0m     region_name\u001b[39m=\u001b[39;49mregion,\n\u001b[1;32m      <a href='vscode-notebook-cell:/home/jpcano1/Documents/Universidad/Maestria/AML/aml_workshops/deployment/taller_1.ipynb#ch0000013?line=5'>6</a>\u001b[0m     image_url\u001b[39m=\u001b[39;49mimage_ecr_url,\n\u001b[1;32m      <a href='vscode-notebook-cell:/home/jpcano1/Documents/Universidad/Maestria/AML/aml_workshops/deployment/taller_1.ipynb#ch0000013?line=6'>7</a>\u001b[0m     mode\u001b[39m=\u001b[39;49mmfs\u001b[39m.\u001b[39;49mDEPLOYMENT_MODE_CREATE,\n\u001b[1;32m      <a href='vscode-notebook-cell:/home/jpcano1/Documents/Universidad/Maestria/AML/aml_workshops/deployment/taller_1.ipynb#ch0000013?line=7'>8</a>\u001b[0m )\n",
      "File \u001b[0;32m~/Documents/Universidad/Maestria/AML/aml_workshops/venv/lib/python3.9/site-packages/mlflow/sagemaker/__init__.py:348\u001b[0m, in \u001b[0;36mdeploy\u001b[0;34m(app_name, model_uri, execution_role_arn, bucket, image_url, region_name, mode, archive, instance_type, instance_count, vpc_config, flavor, synchronous, timeout_seconds)\u001b[0m\n\u001b[1;32m    <a href='file:///~/Documents/Universidad/Maestria/AML/aml_workshops/venv/lib/python3.9/site-packages/mlflow/sagemaker/__init__.py?line=345'>346</a>\u001b[0m \u001b[39mif\u001b[39;00m \u001b[39mnot\u001b[39;00m bucket:\n\u001b[1;32m    <a href='file:///~/Documents/Universidad/Maestria/AML/aml_workshops/venv/lib/python3.9/site-packages/mlflow/sagemaker/__init__.py?line=346'>347</a>\u001b[0m     _logger\u001b[39m.\u001b[39minfo(\u001b[39m\"\u001b[39m\u001b[39mNo model data bucket specified, using the default bucket\u001b[39m\u001b[39m\"\u001b[39m)\n\u001b[0;32m--> <a href='file:///~/Documents/Universidad/Maestria/AML/aml_workshops/venv/lib/python3.9/site-packages/mlflow/sagemaker/__init__.py?line=347'>348</a>\u001b[0m     bucket \u001b[39m=\u001b[39m _get_default_s3_bucket(region_name)\n\u001b[1;32m    <a href='file:///~/Documents/Universidad/Maestria/AML/aml_workshops/venv/lib/python3.9/site-packages/mlflow/sagemaker/__init__.py?line=349'>350</a>\u001b[0m model_s3_path \u001b[39m=\u001b[39m _upload_s3(\n\u001b[1;32m    <a href='file:///~/Documents/Universidad/Maestria/AML/aml_workshops/venv/lib/python3.9/site-packages/mlflow/sagemaker/__init__.py?line=350'>351</a>\u001b[0m     local_model_path\u001b[39m=\u001b[39mmodel_path,\n\u001b[1;32m    <a href='file:///~/Documents/Universidad/Maestria/AML/aml_workshops/venv/lib/python3.9/site-packages/mlflow/sagemaker/__init__.py?line=351'>352</a>\u001b[0m     bucket\u001b[39m=\u001b[39mbucket,\n\u001b[0;32m   (...)\u001b[0m\n\u001b[1;32m    <a href='file:///~/Documents/Universidad/Maestria/AML/aml_workshops/venv/lib/python3.9/site-packages/mlflow/sagemaker/__init__.py?line=354'>355</a>\u001b[0m     s3_client\u001b[39m=\u001b[39ms3_client,\n\u001b[1;32m    <a href='file:///~/Documents/Universidad/Maestria/AML/aml_workshops/venv/lib/python3.9/site-packages/mlflow/sagemaker/__init__.py?line=355'>356</a>\u001b[0m )\n\u001b[1;32m    <a href='file:///~/Documents/Universidad/Maestria/AML/aml_workshops/venv/lib/python3.9/site-packages/mlflow/sagemaker/__init__.py?line=357'>358</a>\u001b[0m \u001b[39mif\u001b[39;00m endpoint_exists:\n",
      "File \u001b[0;32m~/Documents/Universidad/Maestria/AML/aml_workshops/venv/lib/python3.9/site-packages/mlflow/sagemaker/__init__.py:608\u001b[0m, in \u001b[0;36m_get_default_s3_bucket\u001b[0;34m(region_name)\u001b[0m\n\u001b[1;32m    <a href='file:///~/Documents/Universidad/Maestria/AML/aml_workshops/venv/lib/python3.9/site-packages/mlflow/sagemaker/__init__.py?line=603'>604</a>\u001b[0m bucket_name \u001b[39m=\u001b[39m \u001b[39m\"\u001b[39m\u001b[39m{pfx}\u001b[39;00m\u001b[39m-\u001b[39m\u001b[39m{rn}\u001b[39;00m\u001b[39m-\u001b[39m\u001b[39m{aid}\u001b[39;00m\u001b[39m\"\u001b[39m\u001b[39m.\u001b[39mformat(\n\u001b[1;32m    <a href='file:///~/Documents/Universidad/Maestria/AML/aml_workshops/venv/lib/python3.9/site-packages/mlflow/sagemaker/__init__.py?line=604'>605</a>\u001b[0m     pfx\u001b[39m=\u001b[39mDEFAULT_BUCKET_NAME_PREFIX, rn\u001b[39m=\u001b[39mregion_name, aid\u001b[39m=\u001b[39maccount_id\n\u001b[1;32m    <a href='file:///~/Documents/Universidad/Maestria/AML/aml_workshops/venv/lib/python3.9/site-packages/mlflow/sagemaker/__init__.py?line=605'>606</a>\u001b[0m )\n\u001b[1;32m    <a href='file:///~/Documents/Universidad/Maestria/AML/aml_workshops/venv/lib/python3.9/site-packages/mlflow/sagemaker/__init__.py?line=606'>607</a>\u001b[0m s3 \u001b[39m=\u001b[39m sess\u001b[39m.\u001b[39mclient(\u001b[39m\"\u001b[39m\u001b[39ms3\u001b[39m\u001b[39m\"\u001b[39m)\n\u001b[0;32m--> <a href='file:///~/Documents/Universidad/Maestria/AML/aml_workshops/venv/lib/python3.9/site-packages/mlflow/sagemaker/__init__.py?line=607'>608</a>\u001b[0m response \u001b[39m=\u001b[39m s3\u001b[39m.\u001b[39;49mlist_buckets()\n\u001b[1;32m    <a href='file:///~/Documents/Universidad/Maestria/AML/aml_workshops/venv/lib/python3.9/site-packages/mlflow/sagemaker/__init__.py?line=608'>609</a>\u001b[0m buckets \u001b[39m=\u001b[39m [b[\u001b[39m\"\u001b[39m\u001b[39mName\u001b[39m\u001b[39m\"\u001b[39m] \u001b[39mfor\u001b[39;00m b \u001b[39min\u001b[39;00m response[\u001b[39m\"\u001b[39m\u001b[39mBuckets\u001b[39m\u001b[39m\"\u001b[39m]]\n\u001b[1;32m    <a href='file:///~/Documents/Universidad/Maestria/AML/aml_workshops/venv/lib/python3.9/site-packages/mlflow/sagemaker/__init__.py?line=609'>610</a>\u001b[0m \u001b[39mif\u001b[39;00m bucket_name \u001b[39mnot\u001b[39;00m \u001b[39min\u001b[39;00m buckets:\n",
      "File \u001b[0;32m~/Documents/Universidad/Maestria/AML/aml_workshops/venv/lib/python3.9/site-packages/botocore/client.py:391\u001b[0m, in \u001b[0;36mClientCreator._create_api_method.<locals>._api_call\u001b[0;34m(self, *args, **kwargs)\u001b[0m\n\u001b[1;32m    <a href='file:///~/Documents/Universidad/Maestria/AML/aml_workshops/venv/lib/python3.9/site-packages/botocore/client.py?line=387'>388</a>\u001b[0m     \u001b[39mraise\u001b[39;00m \u001b[39mTypeError\u001b[39;00m(\n\u001b[1;32m    <a href='file:///~/Documents/Universidad/Maestria/AML/aml_workshops/venv/lib/python3.9/site-packages/botocore/client.py?line=388'>389</a>\u001b[0m         \u001b[39m\"\u001b[39m\u001b[39m%s\u001b[39;00m\u001b[39m() only accepts keyword arguments.\u001b[39m\u001b[39m\"\u001b[39m \u001b[39m%\u001b[39m py_operation_name)\n\u001b[1;32m    <a href='file:///~/Documents/Universidad/Maestria/AML/aml_workshops/venv/lib/python3.9/site-packages/botocore/client.py?line=389'>390</a>\u001b[0m \u001b[39m# The \"self\" in this scope is referring to the BaseClient.\u001b[39;00m\n\u001b[0;32m--> <a href='file:///~/Documents/Universidad/Maestria/AML/aml_workshops/venv/lib/python3.9/site-packages/botocore/client.py?line=390'>391</a>\u001b[0m \u001b[39mreturn\u001b[39;00m \u001b[39mself\u001b[39;49m\u001b[39m.\u001b[39;49m_make_api_call(operation_name, kwargs)\n",
      "File \u001b[0;32m~/Documents/Universidad/Maestria/AML/aml_workshops/venv/lib/python3.9/site-packages/botocore/client.py:719\u001b[0m, in \u001b[0;36mBaseClient._make_api_call\u001b[0;34m(self, operation_name, api_params)\u001b[0m\n\u001b[1;32m    <a href='file:///~/Documents/Universidad/Maestria/AML/aml_workshops/venv/lib/python3.9/site-packages/botocore/client.py?line=716'>717</a>\u001b[0m     error_code \u001b[39m=\u001b[39m parsed_response\u001b[39m.\u001b[39mget(\u001b[39m\"\u001b[39m\u001b[39mError\u001b[39m\u001b[39m\"\u001b[39m, {})\u001b[39m.\u001b[39mget(\u001b[39m\"\u001b[39m\u001b[39mCode\u001b[39m\u001b[39m\"\u001b[39m)\n\u001b[1;32m    <a href='file:///~/Documents/Universidad/Maestria/AML/aml_workshops/venv/lib/python3.9/site-packages/botocore/client.py?line=717'>718</a>\u001b[0m     error_class \u001b[39m=\u001b[39m \u001b[39mself\u001b[39m\u001b[39m.\u001b[39mexceptions\u001b[39m.\u001b[39mfrom_code(error_code)\n\u001b[0;32m--> <a href='file:///~/Documents/Universidad/Maestria/AML/aml_workshops/venv/lib/python3.9/site-packages/botocore/client.py?line=718'>719</a>\u001b[0m     \u001b[39mraise\u001b[39;00m error_class(parsed_response, operation_name)\n\u001b[1;32m    <a href='file:///~/Documents/Universidad/Maestria/AML/aml_workshops/venv/lib/python3.9/site-packages/botocore/client.py?line=719'>720</a>\u001b[0m \u001b[39melse\u001b[39;00m:\n\u001b[1;32m    <a href='file:///~/Documents/Universidad/Maestria/AML/aml_workshops/venv/lib/python3.9/site-packages/botocore/client.py?line=720'>721</a>\u001b[0m     \u001b[39mreturn\u001b[39;00m parsed_response\n",
      "\u001b[0;31mClientError\u001b[0m: An error occurred (AccessDenied) when calling the ListBuckets operation: Access Denied"
     ]
    }
   ],
   "source": [
    "mfs.deploy(\n",
    "    app_name=app_name,\n",
    "    model_uri=model_uri,\n",
    "    execution_role_arn=execution_role_arn,\n",
    "    region_name=region,\n",
    "    image_url=image_ecr_url,\n",
    "    mode=mfs.DEPLOYMENT_MODE_CREATE,\n",
    ")"
   ]
  },
  {
   "cell_type": "code",
   "execution_count": null,
   "metadata": {},
   "outputs": [],
   "source": []
  }
 ],
 "metadata": {
  "interpreter": {
   "hash": "280b76e6aaeae113874c9319fa2f793adbe67ab5860b62f28b799e48ab580966"
  },
  "kernelspec": {
   "display_name": "Python 3.9.5 ('venv': venv)",
   "language": "python",
   "name": "python3"
  },
  "language_info": {
   "codemirror_mode": {
    "name": "ipython",
    "version": 3
   },
   "file_extension": ".py",
   "mimetype": "text/x-python",
   "name": "python",
   "nbconvert_exporter": "python",
   "pygments_lexer": "ipython3",
   "version": "3.9.5"
  },
  "orig_nbformat": 4
 },
 "nbformat": 4,
 "nbformat_minor": 2
}
