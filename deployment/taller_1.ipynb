{
 "cells": [
  {
   "cell_type": "code",
   "execution_count": 1,
   "metadata": {},
   "outputs": [],
   "source": [
    "import mlflow.sagemaker as mfs\n",
    "import pandas as pd\n",
    "\n",
    "from dotenv import find_dotenv, load_dotenv\n",
    "load_dotenv(find_dotenv())\n",
    "\n",
    "import os\n",
    "\n",
    "import boto3"
   ]
  },
  {
   "cell_type": "code",
   "execution_count": 2,
   "metadata": {},
   "outputs": [],
   "source": [
    "app_name = os.getenv(\"AWS_SAGEMAKER_APP_NAME\")\n",
    "execution_role_arn = os.getenv(\"AWS_EXECUTION_ROLE_ARN\")\n",
    "image_ecr_url = os.getenv(\"AWS_IMAGE_ECR_URL\")\n",
    "region = os.getenv(\"AWS_REGION\")\n",
    "s3_bucket_name = os.getenv(\"AWS_S3_BUCKET_NAME\")\n",
    "experiment_id = \"0\"\n",
    "run_id = os.getenv(\"RUN_ID\")\n",
    "model_name = os.getenv(\"MLFLOW_MODEL_NAME\")"
   ]
  },
  {
   "cell_type": "code",
   "execution_count": 3,
   "metadata": {},
   "outputs": [
    {
     "name": "stdout",
     "output_type": "stream",
     "text": [
      "s3://aml-deployments/0/08d1e242de90475a99139f391851cf4b/artifacts/taller_1_model/\n"
     ]
    }
   ],
   "source": [
    "model_uri = \"s3://{}/{}/{}/artifacts/{}/\".format(\n",
    "    s3_bucket_name, experiment_id, run_id, model_name,\n",
    ")\n",
    "print(model_uri)"
   ]
  },
  {
   "cell_type": "code",
   "execution_count": 4,
   "metadata": {},
   "outputs": [
    {
     "name": "stderr",
     "output_type": "stream",
     "text": [
      "2022/02/24 16:56:34 INFO mlflow.sagemaker: Using the python_function flavor for deployment!\n",
      "2022/02/24 16:56:34 INFO mlflow.sagemaker: No model data bucket specified, using the default bucket\n",
      "2022/02/24 16:56:35 INFO mlflow.sagemaker: Default bucket `mlflow-sagemaker-us-east-1-962145169713` already exists. Skipping creation.\n",
      "2022/02/24 16:56:36 INFO mlflow.sagemaker: tag response: {'ResponseMetadata': {'RequestId': '5FSC7DM6WGT8636X', 'HostId': '4/eVPZ47Xhy9XbcgbuwleXgcV/kcAX4RxwxD3rd9YC6gLCjtjdUi4ij4L2vW3xNNNhx9YVuROzA=', 'HTTPStatusCode': 200, 'HTTPHeaders': {'x-amz-id-2': '4/eVPZ47Xhy9XbcgbuwleXgcV/kcAX4RxwxD3rd9YC6gLCjtjdUi4ij4L2vW3xNNNhx9YVuROzA=', 'x-amz-request-id': '5FSC7DM6WGT8636X', 'date': 'Thu, 24 Feb 2022 21:56:37 GMT', 'server': 'AmazonS3', 'content-length': '0'}, 'RetryAttempts': 0}}\n",
      "2022/02/24 16:56:36 INFO mlflow.sagemaker: Creating new endpoint with name: aml-taller-1 ...\n",
      "2022/02/24 16:56:37 INFO mlflow.sagemaker: Created model with arn: arn:aws:sagemaker:us-east-1:962145169713:model/aml-taller-1-model-k-lhapluqxqd9muoqp7qpq\n",
      "2022/02/24 16:56:37 INFO mlflow.sagemaker: Created endpoint configuration with arn: arn:aws:sagemaker:us-east-1:962145169713:endpoint-config/aml-taller-1-config-gfyzdabppqywnzs780twbjw\n",
      "2022/02/24 16:56:37 INFO mlflow.sagemaker: Created endpoint with arn: arn:aws:sagemaker:us-east-1:962145169713:endpoint/aml-taller-1\n",
      "2022/02/24 16:56:37 INFO mlflow.sagemaker: Waiting for the deployment operation to complete...\n",
      "2022/02/24 16:56:37 INFO mlflow.sagemaker: Waiting for endpoint to reach the \"InService\" state. Current endpoint status: \"Creating\"\n",
      "2022/02/24 16:56:58 INFO mlflow.sagemaker: Waiting for endpoint to reach the \"InService\" state. Current endpoint status: \"Creating\"\n",
      "2022/02/24 16:57:18 INFO mlflow.sagemaker: Waiting for endpoint to reach the \"InService\" state. Current endpoint status: \"Creating\"\n",
      "2022/02/24 16:57:39 INFO mlflow.sagemaker: Waiting for endpoint to reach the \"InService\" state. Current endpoint status: \"Creating\"\n",
      "2022/02/24 16:57:59 INFO mlflow.sagemaker: Waiting for endpoint to reach the \"InService\" state. Current endpoint status: \"Creating\"\n",
      "2022/02/24 16:58:20 INFO mlflow.sagemaker: Waiting for endpoint to reach the \"InService\" state. Current endpoint status: \"Creating\"\n",
      "2022/02/24 16:58:40 INFO mlflow.sagemaker: Waiting for endpoint to reach the \"InService\" state. Current endpoint status: \"Creating\"\n",
      "2022/02/24 16:59:01 INFO mlflow.sagemaker: Waiting for endpoint to reach the \"InService\" state. Current endpoint status: \"Creating\"\n",
      "2022/02/24 16:59:21 INFO mlflow.sagemaker: Waiting for endpoint to reach the \"InService\" state. Current endpoint status: \"Creating\"\n",
      "2022/02/24 16:59:42 INFO mlflow.sagemaker: Waiting for endpoint to reach the \"InService\" state. Current endpoint status: \"Creating\"\n",
      "2022/02/24 17:00:02 INFO mlflow.sagemaker: Waiting for endpoint to reach the \"InService\" state. Current endpoint status: \"Creating\"\n",
      "2022/02/24 17:00:23 INFO mlflow.sagemaker: Waiting for endpoint to reach the \"InService\" state. Current endpoint status: \"Creating\"\n",
      "2022/02/24 17:00:44 INFO mlflow.sagemaker: Waiting for endpoint to reach the \"InService\" state. Current endpoint status: \"Creating\"\n",
      "2022/02/24 17:01:04 INFO mlflow.sagemaker: Waiting for endpoint to reach the \"InService\" state. Current endpoint status: \"Creating\"\n",
      "2022/02/24 17:01:25 INFO mlflow.sagemaker: Waiting for endpoint to reach the \"InService\" state. Current endpoint status: \"Creating\"\n",
      "2022/02/24 17:01:45 INFO mlflow.sagemaker: Waiting for endpoint to reach the \"InService\" state. Current endpoint status: \"Creating\"\n",
      "2022/02/24 17:02:06 INFO mlflow.sagemaker: Waiting for endpoint to reach the \"InService\" state. Current endpoint status: \"Creating\"\n",
      "2022/02/24 17:02:16 INFO mlflow.sagemaker: The deployment operation completed successfully with message: \"The SageMaker endpoint was created successfully.\"\n"
     ]
    }
   ],
   "source": [
    "mfs.deploy(\n",
    "    app_name=app_name,\n",
    "    model_uri=model_uri,\n",
    "    execution_role_arn=execution_role_arn,\n",
    "    region_name=region,\n",
    "    image_url=image_ecr_url,\n",
    "    mode=mfs.DEPLOYMENT_MODE_CREATE,\n",
    ")"
   ]
  },
  {
   "cell_type": "code",
   "execution_count": null,
   "metadata": {},
   "outputs": [],
   "source": []
  }
 ],
 "metadata": {
  "interpreter": {
   "hash": "280b76e6aaeae113874c9319fa2f793adbe67ab5860b62f28b799e48ab580966"
  },
  "kernelspec": {
   "display_name": "Python 3.9.5 ('venv': venv)",
   "language": "python",
   "name": "python3"
  },
  "language_info": {
   "codemirror_mode": {
    "name": "ipython",
    "version": 3
   },
   "file_extension": ".py",
   "mimetype": "text/x-python",
   "name": "python",
   "nbconvert_exporter": "python",
   "pygments_lexer": "ipython3",
   "version": "3.9.5"
  },
  "orig_nbformat": 4
 },
 "nbformat": 4,
 "nbformat_minor": 2
}
