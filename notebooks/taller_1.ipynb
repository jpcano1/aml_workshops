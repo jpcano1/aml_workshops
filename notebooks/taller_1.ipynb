{
 "cells": [
  {
   "cell_type": "markdown",
   "id": "1adf1e1a",
   "metadata": {
    "id": "rft1MP5eCPav"
   },
   "source": [
    "# **Análisis con Machine Learning**\n",
    "## **Taller 1**\n",
    "#### **Andrea Bayona - Juan Pablo Cano**\n",
    "\n",
    "\n",
    "En la actualidad, el sector inmobiliario ruso está en pleno auge. Ofrece muchas oportunidades emocionantes y un alto rendimiento en cuanto a estilos de vida e inversiones. El mercado inmobiliario lleva varios años en fase de crecimiento, lo que significa que todavía se pueden encontrar propiedades a precios muy atractivos, pero es muy probable que aumenten en el futuro. Para poder entender el mercado, una inmobiliaria rusa le ha brindado la información de la venta de más de 45 mil inmuebles entre los años de 2018 y 2021. Y quieren entender cuáles son las características principales que inciden en los precios de venta, para poder proponer planes de construcción de inmuebles en las áreas urbanas disponibles, que tomen en cuenta estas características."
   ]
  },
  {
   "cell_type": "code",
   "execution_count": null,
   "id": "3163dc14",
   "metadata": {
    "colab": {
     "base_uri": "https://localhost:8080/",
     "height": 84,
     "referenced_widgets": [
      "da6849b758724420a2c2a3e7c5c3f505",
      "956516e1194f4450b9d4c8e5c1f0977a",
      "48ab59530903488cbd827bf59e4b1824",
      "c4c9cbb61af04b25a540245a2f04adee",
      "32c598436a2644beb22999785a1885ef",
      "6d19200d68f94a20a9abab52074ef614",
      "47130d4e4d9347f98ab9d59f2d6be920",
      "4bbc39fb5f2c470193afae3666ba5b54",
      "b7fd518dd7ee44d48d515bb647d56a3c",
      "48f2c85ad73a47108db1041f4edbe64d",
      "35a7c05519454f4db95f6e2911fae35e"
     ]
    },
    "executionInfo": {
     "elapsed": 1665,
     "status": "ok",
     "timestamp": 1645572040968,
     "user": {
      "displayName": "Juan Pablo Cano",
      "photoUrl": "https://lh3.googleusercontent.com/a-/AOh14Ggpvl16I60w7jnrbdVFshSpDWtSuXlYdGvZAOpQXQ=s64",
      "userId": "14080729078587151746"
     },
     "user_tz": 300
    },
    "id": "Tb2Jg3f9jx-S",
    "outputId": "54f1873e-3c67-40c8-a1e1-61adced934ff"
   },
   "outputs": [],
   "source": [
    "!shred -u setup_colab_general.py\n",
    "!wget -q \"https://github.com/jpcano1/python_utils/raw/main/setup_colab_general.py\" -O setup_colab_general.py\n",
    "import setup_colab_general as setup_general\n",
    "\n",
    "setup_general.setup_general()"
   ]
  },
  {
   "cell_type": "code",
   "execution_count": null,
   "id": "021009ba",
   "metadata": {
    "colab": {
     "base_uri": "https://localhost:8080/"
    },
    "executionInfo": {
     "elapsed": 40618,
     "status": "ok",
     "timestamp": 1645572082384,
     "user": {
      "displayName": "Juan Pablo Cano",
      "photoUrl": "https://lh3.googleusercontent.com/a-/AOh14Ggpvl16I60w7jnrbdVFshSpDWtSuXlYdGvZAOpQXQ=s64",
      "userId": "14080729078587151746"
     },
     "user_tz": 300
    },
    "id": "yqAdW4WNlYXN",
    "outputId": "d8b7737c-aa12-450b-edac-c7915a3b1a02"
   },
   "outputs": [],
   "source": [
    "!pip install --disable-pip-version-check --progress-bar off -q https://github.com/pandas-profiling/pandas-profiling/archive/master.zip\n",
    "!pip install --disable-pip-version-check --progress-bar off -q tabulate"
   ]
  },
  {
   "cell_type": "markdown",
   "id": "564c3ffc",
   "metadata": {
    "id": "Am5V_Yb1ntVC"
   },
   "source": [
    "## **Importando la librerías necesarias**"
   ]
  },
  {
   "cell_type": "code",
   "execution_count": null,
   "id": "862e6b31",
   "metadata": {
    "executionInfo": {
     "elapsed": 187,
     "status": "ok",
     "timestamp": 1645573796627,
     "user": {
      "displayName": "Juan Pablo Cano",
      "photoUrl": "https://lh3.googleusercontent.com/a-/AOh14Ggpvl16I60w7jnrbdVFshSpDWtSuXlYdGvZAOpQXQ=s64",
      "userId": "14080729078587151746"
     },
     "user_tz": 300
    },
    "id": "ebTvp-cCwAsQ"
   },
   "outputs": [],
   "source": [
    "import os\n",
    "\n",
    "import matplotlib.pyplot as plt\n",
    "import numpy as np\n",
    "import pandas as pd\n",
    "\n",
    "plt.style.use(\"seaborn-deep\")\n",
    "\n",
    "# Librerías extras\n",
    "import itertools\n",
    "from typing import Optional\n",
    "\n",
    "import pandas_profiling\n",
    "from sklearn.base import BaseEstimator, TransformerMixin\n",
    "from sklearn.linear_model import Lasso, LinearRegression, Ridge\n",
    "from sklearn.metrics import mean_absolute_error, mean_squared_error, r2_score\n",
    "from sklearn.model_selection import GridSearchCV, train_test_split\n",
    "from sklearn.pipeline import Pipeline\n",
    "from sklearn.preprocessing import PolynomialFeatures, StandardScaler\n",
    "from tabulate import tabulate\n",
    "\n",
    "from utils import general as gen"
   ]
  },
  {
   "cell_type": "code",
   "execution_count": null,
   "id": "f8eafe5a",
   "metadata": {
    "colab": {
     "base_uri": "https://localhost:8080/",
     "height": 49,
     "referenced_widgets": [
      "8b89567e354a4e40a1172f82916a511c",
      "e8b207d9f4264815a5eb80159e03ddb1",
      "fc31b040db6c4d4aa48c642408bb1dd4",
      "31dee1517710491bb38383b2de73c64d",
      "4cbc8c79094942caa11b2a5c56395c7c",
      "4ff3b90cdb4e477995c1c542be1d247f",
      "906cd9ed90ad47858431e96c0d1a2795",
      "211dd72ef9444b07917d587a66792702",
      "be1538ff3fd64530bbefe18ecd152d3e",
      "a83080648e6942ab99ad26b7ab30d62e",
      "89e6287d42794cfe9e0e8833f3401dc0"
     ]
    },
    "executionInfo": {
     "elapsed": 1241,
     "status": "ok",
     "timestamp": 1645572230131,
     "user": {
      "displayName": "Juan Pablo Cano",
      "photoUrl": "https://lh3.googleusercontent.com/a-/AOh14Ggpvl16I60w7jnrbdVFshSpDWtSuXlYdGvZAOpQXQ=s64",
      "userId": "14080729078587151746"
     },
     "user_tz": 300
    },
    "id": "CtzhV51Hwa5p",
    "outputId": "ca62a01d-d1a9-4d6f-935a-806dba6f63b6"
   },
   "outputs": [],
   "source": [
    "data_url = (\n",
    "    \"https://raw.githubusercontent.com/\"\n",
    "    \"Camilojaravila/202210_MINE-4206_ANAL\"\n",
    "    \"ISIS_CON_MACHINE_LEARNING/main/Taller%\"\n",
    "    \"201/russian_prices.csv\"\n",
    ")\n",
    "gen.download_content(data_url, filename=\"russian_prices.csv\")"
   ]
  },
  {
   "cell_type": "markdown",
   "id": "b758cbbd",
   "metadata": {
    "id": "IuYNGV_wnxjN"
   },
   "source": [
    "## **Lectura y perfilamiento**\n",
    "\n",
    "### **Diccionario de Datos**\n",
    "La inmobiliaria ha construido el siguiente diccionario de datos:\n",
    "\n",
    "* date - Fecha de publicación del anuncio.\n",
    "* time - Tiempo que la publicación estuvo activo.\n",
    "* geo_lat - Latitud.\n",
    "* geo_lon - Longitud.\n",
    "* region - Region de Rusia. Hay 85 regiones en total.\n",
    "* building_type - Tipo de Fachada. 0 - Other. 1 - Panel. 2 - Monolithic. 3 - * Brick. 4 - Blocky. 5 - Wooden.\n",
    "* object_type - Tipo de Apartmento. 1 - Secondary real estate market; 2 - New * building.\n",
    "* level - Piso del Apartamento.\n",
    "* levels - Número de pisos.\n",
    "* rooms - Número de Habitaciones. Si el valor es \"-1\", Significa que es un \"studio apartment\".\n",
    "* area - Área total del apartamento (m2).\n",
    "* kitchen_area - Área de la Cocina (m2).\n",
    "* price - Precio. En rublos"
   ]
  },
  {
   "cell_type": "markdown",
   "id": "92f1873f",
   "metadata": {
    "id": "tvVbLTlBE6mh"
   },
   "source": [
    "A continuación, se leen los datos y se revisan las primeras líneas para verficar que la carga fue exitosa"
   ]
  },
  {
   "cell_type": "code",
   "execution_count": null,
   "id": "9353650d",
   "metadata": {
    "executionInfo": {
     "elapsed": 160,
     "status": "ok",
     "timestamp": 1645574085863,
     "user": {
      "displayName": "Juan Pablo Cano",
      "photoUrl": "https://lh3.googleusercontent.com/a-/AOh14Ggpvl16I60w7jnrbdVFshSpDWtSuXlYdGvZAOpQXQ=s64",
      "userId": "14080729078587151746"
     },
     "user_tz": 300
    },
    "id": "kj0nEuMvxWad"
   },
   "outputs": [],
   "source": [
    "russian_prices_df = pd.read_csv(\"data/russian_prices.csv\")"
   ]
  },
  {
   "cell_type": "code",
   "execution_count": null,
   "id": "9468d09e",
   "metadata": {
    "colab": {
     "base_uri": "https://localhost:8080/",
     "height": 206
    },
    "executionInfo": {
     "elapsed": 245,
     "status": "ok",
     "timestamp": 1645574086316,
     "user": {
      "displayName": "Juan Pablo Cano",
      "photoUrl": "https://lh3.googleusercontent.com/a-/AOh14Ggpvl16I60w7jnrbdVFshSpDWtSuXlYdGvZAOpQXQ=s64",
      "userId": "14080729078587151746"
     },
     "user_tz": 300
    },
    "id": "2wS1sFwMj6uO",
    "outputId": "29f52ad1-51fe-4ab6-8e9b-35481abe4192"
   },
   "outputs": [],
   "source": [
    "russian_prices_df.head()"
   ]
  },
  {
   "cell_type": "code",
   "execution_count": null,
   "id": "ac331134",
   "metadata": {
    "colab": {
     "base_uri": "https://localhost:8080/"
    },
    "executionInfo": {
     "elapsed": 3,
     "status": "ok",
     "timestamp": 1645574087350,
     "user": {
      "displayName": "Juan Pablo Cano",
      "photoUrl": "https://lh3.googleusercontent.com/a-/AOh14Ggpvl16I60w7jnrbdVFshSpDWtSuXlYdGvZAOpQXQ=s64",
      "userId": "14080729078587151746"
     },
     "user_tz": 300
    },
    "id": "wfg_2vpIj8-_",
    "outputId": "56f84ce2-f61a-479a-89f8-4d85b12eb890"
   },
   "outputs": [],
   "source": [
    "russian_prices_df.info()"
   ]
  },
  {
   "cell_type": "code",
   "execution_count": null,
   "id": "840d9f1c",
   "metadata": {
    "executionInfo": {
     "elapsed": 147,
     "status": "ok",
     "timestamp": 1645574091462,
     "user": {
      "displayName": "Juan Pablo Cano",
      "photoUrl": "https://lh3.googleusercontent.com/a-/AOh14Ggpvl16I60w7jnrbdVFshSpDWtSuXlYdGvZAOpQXQ=s64",
      "userId": "14080729078587151746"
     },
     "user_tz": 300
    },
    "id": "Wl1BKpS4xAw2"
   },
   "outputs": [],
   "source": [
    "profiler = pandas_profiling.ProfileReport(russian_prices_df, dark_mode=True)"
   ]
  },
  {
   "cell_type": "markdown",
   "id": "bc02c601",
   "metadata": {
    "id": "zfOPUCD0wNxc"
   },
   "source": [
    "- El perfilamiento se encuentra en los anexos."
   ]
  },
  {
   "cell_type": "code",
   "execution_count": null,
   "id": "5fddebbf",
   "metadata": {
    "colab": {
     "base_uri": "https://localhost:8080/",
     "height": 145,
     "referenced_widgets": [
      "1b2ac17108874ba4a03702d74c083dc1",
      "d57be4b11b4e4443ac2fe1436cf1d633",
      "c1a882ef442d4c199d9e88773fe54b26",
      "fc9a3ee5d69741128e51dfe33943eb5f",
      "be84857a1576469db69b3a111f2e3c81",
      "f6a81f831a3e439e81d1200b6e0a6c22",
      "6ad903acb3df43e39cc2f1e4d19a8da9",
      "2bf6ccfe45994627aa524c74340388eb",
      "cef2e0d6e9314b96b031cbad27c49443",
      "ce7a820eda4c4a268334d7f4bb255145",
      "30ce20111cd14d43b73d6c050e6e1ae5",
      "1dc78e23549e4f23a5c8b7270870e848",
      "8795a8b7db3845209ef5ac9d059b6b9d",
      "3347118a46cf49849f14a63968123bb5",
      "ae4085daf7974802b08a130c68fc5822",
      "37c66de59f37462bbe83534a584ee2a3",
      "8eab4d065a674a8782bab260ea09c4f2",
      "27067ce81281487ca1d82c1f5a0b2b9a",
      "133eaa5acb994a4abeb6a64dbae8b997",
      "57258020a1fb4cf1a68b2b728f42aee0",
      "6ceff0541d0244a694ed328d766fe1ad",
      "8034b9d4d15341b2925b24402be424c9",
      "9f3657a8b98e4728a1b3d98116550981",
      "d177c3f540a8461ebfa238c19cbba19d",
      "6364297eeda24bd29e13ae6234e5d9c2",
      "b416ee454d844e3f8176567b352807c8",
      "4e27d92afd8449648837dfbbff484417",
      "8cd0a2b0061d4e69aa96639c03df6360",
      "d0a8733532a845c68bde44a48b3b84b2",
      "19df0d3f78db4cd5a6560a4536e14232",
      "41e01814145d4c8c97e1e51b49d558d6",
      "1d8538337bc74194849c4ef1587c6255",
      "5dce4f679e0b44a7bddd69c737ce997f",
      "467c5676b03844a290f31c008afce209",
      "f2f5a385f0d6456eaf01bd6b38b83641",
      "b780269ebd68448cbf51d3969da1f122",
      "db8a2cb9aca442b88196deffae9f4d7e",
      "b81c840d52fd4b48b8bb77c33339380c",
      "a45bd7fed3ab40b2ae9da19bea0051be",
      "9e12d145b4194735b50cd0e175da6662",
      "f8796a8e4f5445609938d6ee9f7ab925",
      "337e212047e649b0ac6a918e0c6e8381",
      "94dc15d966db4637b335c61bd2f7c2ec",
      "492240f2ce6c46c09423ba877ed783cd"
     ]
    },
    "executionInfo": {
     "elapsed": 49934,
     "status": "ok",
     "timestamp": 1645574142258,
     "user": {
      "displayName": "Juan Pablo Cano",
      "photoUrl": "https://lh3.googleusercontent.com/a-/AOh14Ggpvl16I60w7jnrbdVFshSpDWtSuXlYdGvZAOpQXQ=s64",
      "userId": "14080729078587151746"
     },
     "user_tz": 300
    },
    "id": "ztSi0cuPxffs",
    "outputId": "d0525cc1-b35f-4841-81a4-5d355736c828"
   },
   "outputs": [],
   "source": [
    "if not os.path.exists(\"profiling_reports\"):\n",
    "    os.makedirs(\"profiling_reports\")\n",
    "profiler.to_file(\"profiling_reports/russian_prices_profile.html\")"
   ]
  },
  {
   "cell_type": "markdown",
   "id": "68471f13",
   "metadata": {
    "id": "oO11RRE2VWAN"
   },
   "source": [
    "- Las siguientes columnas se eliminaron bajo el supuesto de que no son necesarias para el objetivo de negocio. La primera columna es un identificador de propiedad, ergo, no es significativa. Las columnas `time` y `date` son columnas relacionadas a la publicación, más no a la propiedad perse, por lo tanto, no son significativas para nuestro modelo."
   ]
  },
  {
   "cell_type": "code",
   "execution_count": null,
   "id": "1f046907",
   "metadata": {
    "executionInfo": {
     "elapsed": 36,
     "status": "ok",
     "timestamp": 1645574142259,
     "user": {
      "displayName": "Juan Pablo Cano",
      "photoUrl": "https://lh3.googleusercontent.com/a-/AOh14Ggpvl16I60w7jnrbdVFshSpDWtSuXlYdGvZAOpQXQ=s64",
      "userId": "14080729078587151746"
     },
     "user_tz": 300
    },
    "id": "xUQji5iQi4oY"
   },
   "outputs": [],
   "source": [
    "columns_to_delete = [\n",
    "    \"Unnamed: 0\",\n",
    "    \"time\",\n",
    "    \"date\",\n",
    "]"
   ]
  },
  {
   "cell_type": "code",
   "execution_count": null,
   "id": "7d670f0d",
   "metadata": {
    "executionInfo": {
     "elapsed": 34,
     "status": "ok",
     "timestamp": 1645574142260,
     "user": {
      "displayName": "Juan Pablo Cano",
      "photoUrl": "https://lh3.googleusercontent.com/a-/AOh14Ggpvl16I60w7jnrbdVFshSpDWtSuXlYdGvZAOpQXQ=s64",
      "userId": "14080729078587151746"
     },
     "user_tz": 300
    },
    "id": "HuVpJcPpjox-"
   },
   "outputs": [],
   "source": [
    "russian_prices_df.drop(columns=columns_to_delete, inplace=True)"
   ]
  },
  {
   "cell_type": "markdown",
   "id": "1c8e9e46",
   "metadata": {
    "id": "k9tWqKeNsACK"
   },
   "source": [
    "- Todas las columnas con valores nulos fueron removidas"
   ]
  },
  {
   "cell_type": "code",
   "execution_count": null,
   "id": "31a16111",
   "metadata": {
    "executionInfo": {
     "elapsed": 33,
     "status": "ok",
     "timestamp": 1645574142260,
     "user": {
      "displayName": "Juan Pablo Cano",
      "photoUrl": "https://lh3.googleusercontent.com/a-/AOh14Ggpvl16I60w7jnrbdVFshSpDWtSuXlYdGvZAOpQXQ=s64",
      "userId": "14080729078587151746"
     },
     "user_tz": 300
    },
    "id": "rdgm3ridkZhS"
   },
   "outputs": [],
   "source": [
    "russian_prices_df.dropna(inplace=True)"
   ]
  },
  {
   "cell_type": "code",
   "execution_count": null,
   "id": "619b7806",
   "metadata": {
    "colab": {
     "base_uri": "https://localhost:8080/"
    },
    "executionInfo": {
     "elapsed": 32,
     "status": "ok",
     "timestamp": 1645574142260,
     "user": {
      "displayName": "Juan Pablo Cano",
      "photoUrl": "https://lh3.googleusercontent.com/a-/AOh14Ggpvl16I60w7jnrbdVFshSpDWtSuXlYdGvZAOpQXQ=s64",
      "userId": "14080729078587151746"
     },
     "user_tz": 300
    },
    "id": "2fvSWw_hj1wS",
    "outputId": "8053a42a-3ee2-4a43-a733-40e5bbaf4fbb"
   },
   "outputs": [],
   "source": [
    "russian_prices_df.info()"
   ]
  },
  {
   "cell_type": "code",
   "execution_count": null,
   "id": "aa512bdb",
   "metadata": {
    "executionInfo": {
     "elapsed": 159,
     "status": "ok",
     "timestamp": 1645574146783,
     "user": {
      "displayName": "Juan Pablo Cano",
      "photoUrl": "https://lh3.googleusercontent.com/a-/AOh14Ggpvl16I60w7jnrbdVFshSpDWtSuXlYdGvZAOpQXQ=s64",
      "userId": "14080729078587151746"
     },
     "user_tz": 300
    },
    "id": "NXiS5wFokqHi"
   },
   "outputs": [],
   "source": [
    "russian_prices_df = russian_prices_df.apply(lambda x: x.astype(\"int32\"))\n",
    "russian_prices_df[\"object_type\"] = russian_prices_df[\"object_type\"].apply(\n",
    "    lambda x: 2 if x == 11 else x\n",
    ")\n",
    "russian_prices_df[\"rooms\"] = russian_prices_df[\"rooms\"].apply(lambda x: -1 if x == -2 else x)"
   ]
  },
  {
   "cell_type": "code",
   "execution_count": null,
   "id": "e2654bb2",
   "metadata": {
    "executionInfo": {
     "elapsed": 192,
     "status": "ok",
     "timestamp": 1645574148264,
     "user": {
      "displayName": "Juan Pablo Cano",
      "photoUrl": "https://lh3.googleusercontent.com/a-/AOh14Ggpvl16I60w7jnrbdVFshSpDWtSuXlYdGvZAOpQXQ=s64",
      "userId": "14080729078587151746"
     },
     "user_tz": 300
    },
    "id": "dYivdCPnwfuo"
   },
   "outputs": [],
   "source": [
    "rows_to_drop = russian_prices_df.query(\n",
    "    \"kitchen_area + 5 >= area | area <= 10 | price <= 2000\"\n",
    ").index\n",
    "russian_prices_df = russian_prices_df.drop(rows_to_drop).reset_index(drop=True)"
   ]
  },
  {
   "cell_type": "code",
   "execution_count": null,
   "id": "72c7c8ad",
   "metadata": {
    "executionInfo": {
     "elapsed": 4,
     "status": "ok",
     "timestamp": 1645574148456,
     "user": {
      "displayName": "Juan Pablo Cano",
      "photoUrl": "https://lh3.googleusercontent.com/a-/AOh14Ggpvl16I60w7jnrbdVFshSpDWtSuXlYdGvZAOpQXQ=s64",
      "userId": "14080729078587151746"
     },
     "user_tz": 300
    },
    "id": "V7BDrFLJmcN9"
   },
   "outputs": [],
   "source": [
    "X, y = russian_prices_df.drop(\"price\", axis=1), russian_prices_df[\"price\"]"
   ]
  },
  {
   "cell_type": "code",
   "execution_count": null,
   "id": "d212426b",
   "metadata": {
    "executionInfo": {
     "elapsed": 145,
     "status": "ok",
     "timestamp": 1645574149733,
     "user": {
      "displayName": "Juan Pablo Cano",
      "photoUrl": "https://lh3.googleusercontent.com/a-/AOh14Ggpvl16I60w7jnrbdVFshSpDWtSuXlYdGvZAOpQXQ=s64",
      "userId": "14080729078587151746"
     },
     "user_tz": 300
    },
    "id": "Gh_LIlQTmm0S"
   },
   "outputs": [],
   "source": [
    "full_X_train, X_test, full_y_train, y_test = train_test_split(\n",
    "    X, y, test_size=0.2, random_state=1234\n",
    ")\n",
    "X_train, X_val, y_train, y_val = train_test_split(\n",
    "    full_X_train, full_y_train, test_size=0.2, random_state=1234\n",
    ")"
   ]
  },
  {
   "cell_type": "code",
   "execution_count": null,
   "id": "3862436a",
   "metadata": {
    "colab": {
     "base_uri": "https://localhost:8080/"
    },
    "executionInfo": {
     "elapsed": 4,
     "status": "ok",
     "timestamp": 1645574149953,
     "user": {
      "displayName": "Juan Pablo Cano",
      "photoUrl": "https://lh3.googleusercontent.com/a-/AOh14Ggpvl16I60w7jnrbdVFshSpDWtSuXlYdGvZAOpQXQ=s64",
      "userId": "14080729078587151746"
     },
     "user_tz": 300
    },
    "id": "eEtwMvsAmogC",
    "outputId": "19421fab-345f-4dfc-c19b-f8ca0e9f6a41"
   },
   "outputs": [],
   "source": [
    "X_train.shape, y_train.shape"
   ]
  },
  {
   "cell_type": "code",
   "execution_count": null,
   "id": "6a05d182",
   "metadata": {
    "colab": {
     "base_uri": "https://localhost:8080/"
    },
    "executionInfo": {
     "elapsed": 163,
     "status": "ok",
     "timestamp": 1645574152194,
     "user": {
      "displayName": "Juan Pablo Cano",
      "photoUrl": "https://lh3.googleusercontent.com/a-/AOh14Ggpvl16I60w7jnrbdVFshSpDWtSuXlYdGvZAOpQXQ=s64",
      "userId": "14080729078587151746"
     },
     "user_tz": 300
    },
    "id": "M3JwOPusnIpn",
    "outputId": "4814fcad-3e74-402f-84f7-f8754b00e18f"
   },
   "outputs": [],
   "source": [
    "X_val.shape, y_val.shape"
   ]
  },
  {
   "cell_type": "code",
   "execution_count": null,
   "id": "3db05a13",
   "metadata": {
    "colab": {
     "base_uri": "https://localhost:8080/"
    },
    "executionInfo": {
     "elapsed": 5,
     "status": "ok",
     "timestamp": 1645574152360,
     "user": {
      "displayName": "Juan Pablo Cano",
      "photoUrl": "https://lh3.googleusercontent.com/a-/AOh14Ggpvl16I60w7jnrbdVFshSpDWtSuXlYdGvZAOpQXQ=s64",
      "userId": "14080729078587151746"
     },
     "user_tz": 300
    },
    "id": "0QveAb5em00v",
    "outputId": "9db249db-3c83-4469-b77f-0e8b2e325c4c"
   },
   "outputs": [],
   "source": [
    "X_test.shape, y_test.shape"
   ]
  },
  {
   "cell_type": "markdown",
   "id": "948e9bc6",
   "metadata": {
    "id": "rP-CN-yeoJ_9"
   },
   "source": [
    "## **Modelamiento**"
   ]
  },
  {
   "cell_type": "markdown",
   "id": "08c86a7c",
   "metadata": {
    "id": "16UKiXe_TM12"
   },
   "source": [
    "### **Regresión Polinómial**\n",
    "#### **Entrenamiento**"
   ]
  },
  {
   "cell_type": "markdown",
   "id": "ec9312dd",
   "metadata": {
    "id": "zHyXQXfb2qAG"
   },
   "source": [
    "Se define la clase para realizar la transformación polinomial de nuetras variables"
   ]
  },
  {
   "cell_type": "code",
   "execution_count": null,
   "id": "cf53099e",
   "metadata": {
    "executionInfo": {
     "elapsed": 149,
     "status": "ok",
     "timestamp": 1645574153990,
     "user": {
      "displayName": "Juan Pablo Cano",
      "photoUrl": "https://lh3.googleusercontent.com/a-/AOh14Ggpvl16I60w7jnrbdVFshSpDWtSuXlYdGvZAOpQXQ=s64",
      "userId": "14080729078587151746"
     },
     "user_tz": 300
    },
    "id": "1EeXFbK_pP7a"
   },
   "outputs": [],
   "source": [
    "class ToPolynomial(BaseEstimator, TransformerMixin):\n",
    "    def __init__(self, k: int = 2) -> None:\n",
    "        self.k = k\n",
    "\n",
    "    def fit(self, X, y=None):\n",
    "        return self\n",
    "\n",
    "    def transform(self, X: pd.DataFrame, y: Optional[pd.Series] = None) -> pd.DataFrame:\n",
    "        columns = X.columns\n",
    "        X_train_pol = pd.concat(\n",
    "            [X ** (i + 1) for i in range(self.k)], axis=1\n",
    "        )  # Polinomios sin interacciones\n",
    "        X_train_pol.columns = np.reshape(\n",
    "            [[i + \" \" + str(j + 1) for i in columns] for j in range(self.k)], -1\n",
    "        )\n",
    "        temp = pd.concat(\n",
    "            [X[i[0]] * X[i[1]] for i in list(itertools.combinations(columns, 2))],\n",
    "            axis=1,\n",
    "        )  # Combinaciones sólo de grado 1\n",
    "        temp.columns = [\" \".join(i) for i in list(itertools.combinations(columns, 2))]\n",
    "        X_train_pol = pd.concat([X_train_pol, temp], axis=1)\n",
    "        return X_train_pol"
   ]
  },
  {
   "cell_type": "markdown",
   "id": "455161e1",
   "metadata": {
    "id": "Fj3hG4RM2wLO"
   },
   "source": [
    "Se crea un pipeline para encapsular los pasos de entrenamiento de nuestro modelo. Primero se realiza la transformación polinamial de las variables y estas se utilizan para entrenar el modelo de regresión lineal."
   ]
  },
  {
   "cell_type": "code",
   "execution_count": null,
   "id": "45a048fd",
   "metadata": {
    "colab": {
     "base_uri": "https://localhost:8080/"
    },
    "executionInfo": {
     "elapsed": 280,
     "status": "ok",
     "timestamp": 1645574156411,
     "user": {
      "displayName": "Juan Pablo Cano",
      "photoUrl": "https://lh3.googleusercontent.com/a-/AOh14Ggpvl16I60w7jnrbdVFshSpDWtSuXlYdGvZAOpQXQ=s64",
      "userId": "14080729078587151746"
     },
     "user_tz": 300
    },
    "id": "2yMSJKDloOZi",
    "outputId": "8d1006f7-2e7a-46a7-82a4-7a5e1c059fac"
   },
   "outputs": [],
   "source": [
    "estimators = [(\"polinomial\", ToPolynomial()), (\"regresion\", LinearRegression())]\n",
    "\n",
    "pipe_pol = Pipeline(estimators)\n",
    "\n",
    "pipe_pol.fit(X_train, y_train)"
   ]
  },
  {
   "cell_type": "markdown",
   "id": "5b77f636",
   "metadata": {
    "id": "0G2Ruy0T4DUD"
   },
   "source": [
    " Parámetros entrenados por la Regresión Polinomial"
   ]
  },
  {
   "cell_type": "code",
   "execution_count": null,
   "id": "f32a41ac",
   "metadata": {
    "colab": {
     "base_uri": "https://localhost:8080/"
    },
    "executionInfo": {
     "elapsed": 7,
     "status": "ok",
     "timestamp": 1645574157051,
     "user": {
      "displayName": "Juan Pablo Cano",
      "photoUrl": "https://lh3.googleusercontent.com/a-/AOh14Ggpvl16I60w7jnrbdVFshSpDWtSuXlYdGvZAOpQXQ=s64",
      "userId": "14080729078587151746"
     },
     "user_tz": 300
    },
    "id": "eCPY09nsTcWK",
    "outputId": "d999de95-85a3-49f6-ca05-f1c73f1fdcdd"
   },
   "outputs": [],
   "source": [
    "reg_lineal = pipe_pol[\"regresion\"]\n",
    "\n",
    "print(\"Intercept: \", reg_lineal.intercept_)\n",
    "print(\"Coefficients: \", reg_lineal.coef_)"
   ]
  },
  {
   "cell_type": "markdown",
   "id": "15529041",
   "metadata": {
    "id": "epQPSIhSTWXo"
   },
   "source": [
    "#### **Validación**"
   ]
  },
  {
   "cell_type": "code",
   "execution_count": null,
   "id": "a0be8884",
   "metadata": {
    "colab": {
     "base_uri": "https://localhost:8080/"
    },
    "executionInfo": {
     "elapsed": 270,
     "status": "ok",
     "timestamp": 1645574159588,
     "user": {
      "displayName": "Juan Pablo Cano",
      "photoUrl": "https://lh3.googleusercontent.com/a-/AOh14Ggpvl16I60w7jnrbdVFshSpDWtSuXlYdGvZAOpQXQ=s64",
      "userId": "14080729078587151746"
     },
     "user_tz": 300
    },
    "id": "-epy5ZCTT2hd",
    "outputId": "96f6cb63-c24b-4d9a-80fa-14631dd49364"
   },
   "outputs": [],
   "source": [
    "y_pred = pipe_pol.predict(X_val)\n",
    "y_pred"
   ]
  },
  {
   "cell_type": "code",
   "execution_count": null,
   "id": "5d4619a4",
   "metadata": {
    "colab": {
     "base_uri": "https://localhost:8080/"
    },
    "executionInfo": {
     "elapsed": 5,
     "status": "ok",
     "timestamp": 1645574159756,
     "user": {
      "displayName": "Juan Pablo Cano",
      "photoUrl": "https://lh3.googleusercontent.com/a-/AOh14Ggpvl16I60w7jnrbdVFshSpDWtSuXlYdGvZAOpQXQ=s64",
      "userId": "14080729078587151746"
     },
     "user_tz": 300
    },
    "id": "UzYpZljfT9qv",
    "outputId": "6418c3ba-368d-4a37-ddfa-e5388e7e7eea"
   },
   "outputs": [],
   "source": [
    "r2_poly = r2_score(y_val, y_pred)\n",
    "mse_poly = mean_squared_error(y_val, y_pred)\n",
    "mae_poly = mean_absolute_error(y_val, y_pred)\n",
    "\n",
    "print(\"------------ Polynomial Regression ------------\")\n",
    "print(f\"R2-score: {r2_poly:.7f}\")\n",
    "print(f\"Residual sum of squares (MSE): {mse_poly:.5f}\")\n",
    "print(f\"Mean absolute error: {mae_poly:.5f}\")"
   ]
  },
  {
   "cell_type": "markdown",
   "id": "55311283",
   "metadata": {
    "id": "hWv4uZTyeZ1l"
   },
   "source": [
    "#### **Comportamiento de los datos reales vs los datos predecidos**"
   ]
  },
  {
   "cell_type": "code",
   "execution_count": null,
   "id": "b3300043",
   "metadata": {
    "executionInfo": {
     "elapsed": 5,
     "status": "ok",
     "timestamp": 1645574162010,
     "user": {
      "displayName": "Juan Pablo Cano",
      "photoUrl": "https://lh3.googleusercontent.com/a-/AOh14Ggpvl16I60w7jnrbdVFshSpDWtSuXlYdGvZAOpQXQ=s64",
      "userId": "14080729078587151746"
     },
     "user_tz": 300
    },
    "id": "lt_fp3tjdVJy"
   },
   "outputs": [],
   "source": [
    "%matplotlib inline\n",
    "\n",
    "\n",
    "def draw_chart(y_val_p, y_pred_p, title, legend):\n",
    "    fig, axs = plt.subplots(1, figsize=(20, 10))\n",
    "\n",
    "    xvals = list(range(len(y_val_p[:50])))\n",
    "    axs.plot(xvals, y_pred_p[:50], \"bo-\", label=legend)\n",
    "    axs.plot(xvals, y_val_p[:50], \"ro-\", label=\"Real\")\n",
    "\n",
    "    axs.set(title=title, ylabel=y_train.name)\n",
    "    axs.legend()\n",
    "\n",
    "    plt.tight_layout()\n",
    "    plt.show()"
   ]
  },
  {
   "cell_type": "code",
   "execution_count": null,
   "id": "27da9009",
   "metadata": {
    "colab": {
     "base_uri": "https://localhost:8080/",
     "height": 729
    },
    "executionInfo": {
     "elapsed": 802,
     "status": "ok",
     "timestamp": 1645574164620,
     "user": {
      "displayName": "Juan Pablo Cano",
      "photoUrl": "https://lh3.googleusercontent.com/a-/AOh14Ggpvl16I60w7jnrbdVFshSpDWtSuXlYdGvZAOpQXQ=s64",
      "userId": "14080729078587151746"
     },
     "user_tz": 300
    },
    "id": "HA1FneL3hcOX",
    "outputId": "b042285d-8e7f-4a9d-91c3-5d2da027213e"
   },
   "outputs": [],
   "source": [
    "draw_chart(y_val, y_pred, \"Predicción con Regresión Polinomial\", \"Regresión Polinomial\")"
   ]
  },
  {
   "cell_type": "markdown",
   "id": "a2c3ab27",
   "metadata": {
    "id": "ud_HEwjZoOrq"
   },
   "source": [
    "### **Regresión Ridge**\n",
    "#### **Entrenamiento (Sin estandarización)**\n",
    "\n"
   ]
  },
  {
   "cell_type": "code",
   "execution_count": null,
   "id": "1dfed4b4",
   "metadata": {
    "colab": {
     "base_uri": "https://localhost:8080/"
    },
    "executionInfo": {
     "elapsed": 169,
     "status": "ok",
     "timestamp": 1645574167726,
     "user": {
      "displayName": "Juan Pablo Cano",
      "photoUrl": "https://lh3.googleusercontent.com/a-/AOh14Ggpvl16I60w7jnrbdVFshSpDWtSuXlYdGvZAOpQXQ=s64",
      "userId": "14080729078587151746"
     },
     "user_tz": 300
    },
    "id": "rnnb_rWBoRHa",
    "outputId": "907ff1e6-939a-4077-d745-011977d8997f"
   },
   "outputs": [],
   "source": [
    "ridge_reg = Ridge()\n",
    "ridge_reg.fit(X_train, y_train)"
   ]
  },
  {
   "cell_type": "code",
   "execution_count": null,
   "id": "868da2a0",
   "metadata": {
    "colab": {
     "base_uri": "https://localhost:8080/"
    },
    "executionInfo": {
     "elapsed": 3,
     "status": "ok",
     "timestamp": 1645574167890,
     "user": {
      "displayName": "Juan Pablo Cano",
      "photoUrl": "https://lh3.googleusercontent.com/a-/AOh14Ggpvl16I60w7jnrbdVFshSpDWtSuXlYdGvZAOpQXQ=s64",
      "userId": "14080729078587151746"
     },
     "user_tz": 300
    },
    "id": "xe1WtO-IiepT",
    "outputId": "fce0d49b-d8d0-4a21-96c0-6184057903b3"
   },
   "outputs": [],
   "source": [
    "ridge_coef = dict(zip(X_train.columns, ridge_reg.coef_))\n",
    "ridge_coef"
   ]
  },
  {
   "cell_type": "markdown",
   "id": "6773ae31",
   "metadata": {
    "id": "Zdx6xzlXdN0b"
   },
   "source": [
    "#### **Validación**"
   ]
  },
  {
   "cell_type": "code",
   "execution_count": null,
   "id": "a4909e43",
   "metadata": {
    "executionInfo": {
     "elapsed": 163,
     "status": "ok",
     "timestamp": 1645574172582,
     "user": {
      "displayName": "Juan Pablo Cano",
      "photoUrl": "https://lh3.googleusercontent.com/a-/AOh14Ggpvl16I60w7jnrbdVFshSpDWtSuXlYdGvZAOpQXQ=s64",
      "userId": "14080729078587151746"
     },
     "user_tz": 300
    },
    "id": "26Wmz50fdRx5"
   },
   "outputs": [],
   "source": [
    "y_pred_2 = ridge_reg.predict(X_val)"
   ]
  },
  {
   "cell_type": "code",
   "execution_count": null,
   "id": "ad5364f4",
   "metadata": {
    "colab": {
     "base_uri": "https://localhost:8080/"
    },
    "executionInfo": {
     "elapsed": 209,
     "status": "ok",
     "timestamp": 1645574172977,
     "user": {
      "displayName": "Juan Pablo Cano",
      "photoUrl": "https://lh3.googleusercontent.com/a-/AOh14Ggpvl16I60w7jnrbdVFshSpDWtSuXlYdGvZAOpQXQ=s64",
      "userId": "14080729078587151746"
     },
     "user_tz": 300
    },
    "id": "EvQB0EHsi_Fm",
    "outputId": "5a95ae13-ff7c-473f-94a8-a9fad90676ec"
   },
   "outputs": [],
   "source": [
    "r2_ridge = r2_score(y_val, y_pred_2)\n",
    "mse_ridge = mean_squared_error(y_val, y_pred_2)\n",
    "mae_ridge = mean_absolute_error(y_val, y_pred_2)\n",
    "\n",
    "print(\"------------ Ridge ------------\")\n",
    "print(f\"R2-score: {r2_ridge:.7f}\")\n",
    "print(f\"Residual sum of squares (MSE): {mse_ridge:.5f}\")\n",
    "print(f\"Mean absolute error: {mae_ridge:.5f}\")"
   ]
  },
  {
   "cell_type": "markdown",
   "id": "1775f768",
   "metadata": {
    "id": "UkIx8aTSe8JA"
   },
   "source": [
    "#### **Comportamiento de los datos reales vs los datos predecidos**"
   ]
  },
  {
   "cell_type": "code",
   "execution_count": null,
   "id": "0af09248",
   "metadata": {
    "colab": {
     "base_uri": "https://localhost:8080/",
     "height": 729
    },
    "executionInfo": {
     "elapsed": 959,
     "status": "ok",
     "timestamp": 1645574177978,
     "user": {
      "displayName": "Juan Pablo Cano",
      "photoUrl": "https://lh3.googleusercontent.com/a-/AOh14Ggpvl16I60w7jnrbdVFshSpDWtSuXlYdGvZAOpQXQ=s64",
      "userId": "14080729078587151746"
     },
     "user_tz": 300
    },
    "id": "bkaeBDIuevsV",
    "outputId": "cb4f1aa1-2910-4c7c-e714-94fe6b5d31cb"
   },
   "outputs": [],
   "source": [
    "%matplotlib inline\n",
    "draw_chart(y_val, y_pred_2, \"Predicción con regresion Ridge\", \"Regresion Ridge\")"
   ]
  },
  {
   "cell_type": "markdown",
   "id": "3931d36f",
   "metadata": {
    "id": "9Pd-sS9eYGzD"
   },
   "source": [
    "#### **Entrenamiento (Con estandarización)**"
   ]
  },
  {
   "cell_type": "code",
   "execution_count": null,
   "id": "c1c6441a",
   "metadata": {
    "colab": {
     "base_uri": "https://localhost:8080/"
    },
    "executionInfo": {
     "elapsed": 157,
     "status": "ok",
     "timestamp": 1645574187308,
     "user": {
      "displayName": "Juan Pablo Cano",
      "photoUrl": "https://lh3.googleusercontent.com/a-/AOh14Ggpvl16I60w7jnrbdVFshSpDWtSuXlYdGvZAOpQXQ=s64",
      "userId": "14080729078587151746"
     },
     "user_tz": 300
    },
    "id": "wcsl9CmhYJ_7",
    "outputId": "80ee7a4b-9df9-456c-83ac-b74e133c36e7"
   },
   "outputs": [],
   "source": [
    "pipeline_ridge = Pipeline(\n",
    "    [\n",
    "        (\"scaler\", StandardScaler()),\n",
    "        (\"regressor\", Ridge()),\n",
    "    ],\n",
    ")\n",
    "\n",
    "pipeline_ridge.fit(X_train, y_train)"
   ]
  },
  {
   "cell_type": "code",
   "execution_count": null,
   "id": "1d2816ed",
   "metadata": {
    "colab": {
     "base_uri": "https://localhost:8080/"
    },
    "executionInfo": {
     "elapsed": 7,
     "status": "ok",
     "timestamp": 1645574197207,
     "user": {
      "displayName": "Juan Pablo Cano",
      "photoUrl": "https://lh3.googleusercontent.com/a-/AOh14Ggpvl16I60w7jnrbdVFshSpDWtSuXlYdGvZAOpQXQ=s64",
      "userId": "14080729078587151746"
     },
     "user_tz": 300
    },
    "id": "lLkPRJlSZZvS",
    "outputId": "939dbe26-e732-4f6c-f3b8-7a3c0e0e0156"
   },
   "outputs": [],
   "source": [
    "ridge_coef = dict(zip(X_train.columns, pipeline_ridge.steps[1][1].coef_))\n",
    "ridge_coef"
   ]
  },
  {
   "cell_type": "markdown",
   "id": "3cacede8",
   "metadata": {
    "id": "dflufl4waDcF"
   },
   "source": [
    "#### **Validación**"
   ]
  },
  {
   "cell_type": "code",
   "execution_count": null,
   "id": "c4e04559",
   "metadata": {
    "executionInfo": {
     "elapsed": 183,
     "status": "ok",
     "timestamp": 1645574200454,
     "user": {
      "displayName": "Juan Pablo Cano",
      "photoUrl": "https://lh3.googleusercontent.com/a-/AOh14Ggpvl16I60w7jnrbdVFshSpDWtSuXlYdGvZAOpQXQ=s64",
      "userId": "14080729078587151746"
     },
     "user_tz": 300
    },
    "id": "6SYHTEbBaHiw"
   },
   "outputs": [],
   "source": [
    "y_pred_2b = pipeline_ridge.predict(X_val)"
   ]
  },
  {
   "cell_type": "code",
   "execution_count": null,
   "id": "b3ef869a",
   "metadata": {
    "colab": {
     "base_uri": "https://localhost:8080/"
    },
    "executionInfo": {
     "elapsed": 4,
     "status": "ok",
     "timestamp": 1645574200606,
     "user": {
      "displayName": "Juan Pablo Cano",
      "photoUrl": "https://lh3.googleusercontent.com/a-/AOh14Ggpvl16I60w7jnrbdVFshSpDWtSuXlYdGvZAOpQXQ=s64",
      "userId": "14080729078587151746"
     },
     "user_tz": 300
    },
    "id": "EelZTCKzaMSL",
    "outputId": "ce5e0dc3-2097-405c-e5c0-1387e608e5a7"
   },
   "outputs": [],
   "source": [
    "r2_ridge_s = r2_score(y_val, y_pred_2b)\n",
    "mse_ridge_s = mean_squared_error(y_val, y_pred_2b)\n",
    "mae_ridge_s = mean_absolute_error(y_val, y_pred_2b)\n",
    "\n",
    "print(\"------------ Ridge (Con estandarización) ------------\")\n",
    "print(f\"R2-score: {r2_ridge_s:.7f}\")\n",
    "print(f\"Residual sum of squares (MSE): {mse_ridge_s:.5f}\")\n",
    "print(f\"Mean absolute error: {mae_ridge_s:.5f}\")"
   ]
  },
  {
   "cell_type": "markdown",
   "id": "a970f4d5",
   "metadata": {
    "id": "rbeZ9Bc2gxRu"
   },
   "source": [
    "#### **Comportamiento de los datos reales vs los datos predecidos**"
   ]
  },
  {
   "cell_type": "code",
   "execution_count": null,
   "id": "c0347c72",
   "metadata": {
    "colab": {
     "base_uri": "https://localhost:8080/",
     "height": 729
    },
    "executionInfo": {
     "elapsed": 907,
     "status": "ok",
     "timestamp": 1645574206676,
     "user": {
      "displayName": "Juan Pablo Cano",
      "photoUrl": "https://lh3.googleusercontent.com/a-/AOh14Ggpvl16I60w7jnrbdVFshSpDWtSuXlYdGvZAOpQXQ=s64",
      "userId": "14080729078587151746"
     },
     "user_tz": 300
    },
    "id": "JRh9LRiNigzY",
    "outputId": "e9d8057f-92a8-4871-c317-f6395b2669ad"
   },
   "outputs": [],
   "source": [
    "%matplotlib inline\n",
    "draw_chart(\n",
    "    y_val,\n",
    "    y_pred_2b,\n",
    "    \"Predicción con regresion Ridge (Con estandarización)\",\n",
    "    \"Regresion Ridge\",\n",
    ")"
   ]
  },
  {
   "cell_type": "markdown",
   "id": "675be249",
   "metadata": {
    "id": "mQ_FoF7RoRX9"
   },
   "source": [
    "### **Regresión Lasso**\n",
    "#### **Entrenamiento (Sin estandarización)**"
   ]
  },
  {
   "cell_type": "code",
   "execution_count": null,
   "id": "8c9b0bd7",
   "metadata": {
    "colab": {
     "base_uri": "https://localhost:8080/"
    },
    "executionInfo": {
     "elapsed": 194,
     "status": "ok",
     "timestamp": 1645574212938,
     "user": {
      "displayName": "Juan Pablo Cano",
      "photoUrl": "https://lh3.googleusercontent.com/a-/AOh14Ggpvl16I60w7jnrbdVFshSpDWtSuXlYdGvZAOpQXQ=s64",
      "userId": "14080729078587151746"
     },
     "user_tz": 300
    },
    "id": "TLdd00Wdm69O",
    "outputId": "ade54953-1ed2-43d6-e054-af77c9a60dc7"
   },
   "outputs": [],
   "source": [
    "lasso_reg = Lasso()\n",
    "lasso_reg.fit(X_train, y_train)"
   ]
  },
  {
   "cell_type": "code",
   "execution_count": null,
   "id": "745adc05",
   "metadata": {
    "colab": {
     "base_uri": "https://localhost:8080/"
    },
    "executionInfo": {
     "elapsed": 5,
     "status": "ok",
     "timestamp": 1645574213168,
     "user": {
      "displayName": "Juan Pablo Cano",
      "photoUrl": "https://lh3.googleusercontent.com/a-/AOh14Ggpvl16I60w7jnrbdVFshSpDWtSuXlYdGvZAOpQXQ=s64",
      "userId": "14080729078587151746"
     },
     "user_tz": 300
    },
    "id": "atcLgUTkoaKF",
    "outputId": "96ad5fb1-57f6-426f-8bd6-262ed3f92248"
   },
   "outputs": [],
   "source": [
    "lasso_coef = dict(zip(X_train.columns, lasso_reg.coef_))\n",
    "lasso_coef"
   ]
  },
  {
   "cell_type": "markdown",
   "id": "09724edf",
   "metadata": {
    "id": "NE0rheOho8Oj"
   },
   "source": [
    "#### **Validación**"
   ]
  },
  {
   "cell_type": "code",
   "execution_count": null,
   "id": "285cab69",
   "metadata": {
    "executionInfo": {
     "elapsed": 152,
     "status": "ok",
     "timestamp": 1645574215952,
     "user": {
      "displayName": "Juan Pablo Cano",
      "photoUrl": "https://lh3.googleusercontent.com/a-/AOh14Ggpvl16I60w7jnrbdVFshSpDWtSuXlYdGvZAOpQXQ=s64",
      "userId": "14080729078587151746"
     },
     "user_tz": 300
    },
    "id": "yRCL86NIokX6"
   },
   "outputs": [],
   "source": [
    "y_pred_3 = lasso_reg.predict(X_val)"
   ]
  },
  {
   "cell_type": "code",
   "execution_count": null,
   "id": "9f002f24",
   "metadata": {
    "colab": {
     "base_uri": "https://localhost:8080/"
    },
    "executionInfo": {
     "elapsed": 161,
     "status": "ok",
     "timestamp": 1645574223887,
     "user": {
      "displayName": "Juan Pablo Cano",
      "photoUrl": "https://lh3.googleusercontent.com/a-/AOh14Ggpvl16I60w7jnrbdVFshSpDWtSuXlYdGvZAOpQXQ=s64",
      "userId": "14080729078587151746"
     },
     "user_tz": 300
    },
    "id": "htf4tAfFbPDT",
    "outputId": "bb3e0518-f9b6-4aab-ce08-9f72d15b83b0"
   },
   "outputs": [],
   "source": [
    "r2_lasso = r2_score(y_val, y_pred_3)\n",
    "mse_lasso = mean_squared_error(y_val, y_pred_3)\n",
    "mae_lasso = mean_absolute_error(y_val, y_pred_3)\n",
    "\n",
    "print(\"------------ Lasso ------------\")\n",
    "print(f\"R2-score: {r2_lasso:.4f}\")\n",
    "print(f\"Residual sum of squares (MSE): {mse_lasso:.5f}\")\n",
    "print(f\"Mean absolute error: {mae_lasso:.5f}\")"
   ]
  },
  {
   "cell_type": "markdown",
   "id": "2c9418a1",
   "metadata": {
    "id": "VMbo3Ep9kWGZ"
   },
   "source": [
    "#### **Comportamiento de los datos reales vs los datos predecidos**"
   ]
  },
  {
   "cell_type": "code",
   "execution_count": null,
   "id": "58b99b0c",
   "metadata": {
    "colab": {
     "base_uri": "https://localhost:8080/",
     "height": 729
    },
    "executionInfo": {
     "elapsed": 1457,
     "status": "ok",
     "timestamp": 1645574228893,
     "user": {
      "displayName": "Juan Pablo Cano",
      "photoUrl": "https://lh3.googleusercontent.com/a-/AOh14Ggpvl16I60w7jnrbdVFshSpDWtSuXlYdGvZAOpQXQ=s64",
      "userId": "14080729078587151746"
     },
     "user_tz": 300
    },
    "id": "xeorxVPNkeMg",
    "outputId": "d04ba059-9312-436d-fceb-e1332153ac8f"
   },
   "outputs": [],
   "source": [
    "%matplotlib inline\n",
    "draw_chart(y_val, y_pred_3, \"Predicción con regresion Lasso\", \"Regresion Lasso\")"
   ]
  },
  {
   "cell_type": "markdown",
   "id": "c83f3aad",
   "metadata": {
    "id": "FCjiiBzKcbTY"
   },
   "source": [
    "#### **Entrenamiento (Con estandarización)**"
   ]
  },
  {
   "cell_type": "code",
   "execution_count": null,
   "id": "8896dc54",
   "metadata": {
    "colab": {
     "base_uri": "https://localhost:8080/"
    },
    "executionInfo": {
     "elapsed": 196,
     "status": "ok",
     "timestamp": 1645574236069,
     "user": {
      "displayName": "Juan Pablo Cano",
      "photoUrl": "https://lh3.googleusercontent.com/a-/AOh14Ggpvl16I60w7jnrbdVFshSpDWtSuXlYdGvZAOpQXQ=s64",
      "userId": "14080729078587151746"
     },
     "user_tz": 300
    },
    "id": "Em51FsVrr62S",
    "outputId": "8f0f66fb-23f9-4b53-cdbb-83d36ea06607"
   },
   "outputs": [],
   "source": [
    "pipeline = Pipeline(\n",
    "    [\n",
    "        (\"scaler\", StandardScaler()),\n",
    "        (\"regressor\", Lasso()),\n",
    "    ],\n",
    ")\n",
    "\n",
    "pipeline.fit(X_train, y_train)"
   ]
  },
  {
   "cell_type": "code",
   "execution_count": null,
   "id": "f501496f",
   "metadata": {
    "colab": {
     "base_uri": "https://localhost:8080/"
    },
    "executionInfo": {
     "elapsed": 5,
     "status": "ok",
     "timestamp": 1645574236215,
     "user": {
      "displayName": "Juan Pablo Cano",
      "photoUrl": "https://lh3.googleusercontent.com/a-/AOh14Ggpvl16I60w7jnrbdVFshSpDWtSuXlYdGvZAOpQXQ=s64",
      "userId": "14080729078587151746"
     },
     "user_tz": 300
    },
    "id": "QuqmS5LTdjr9",
    "outputId": "4a28097b-ad82-4751-f11c-ded4ea6c0760"
   },
   "outputs": [],
   "source": [
    "lasso_coef = dict(zip(X_train.columns, pipeline.steps[1][1].coef_))\n",
    "lasso_coef"
   ]
  },
  {
   "cell_type": "markdown",
   "id": "57e2ccaf",
   "metadata": {
    "id": "TYpXgaMxdv77"
   },
   "source": [
    "#### **Validación**"
   ]
  },
  {
   "cell_type": "code",
   "execution_count": null,
   "id": "0b53e804",
   "metadata": {
    "executionInfo": {
     "elapsed": 151,
     "status": "ok",
     "timestamp": 1645574240734,
     "user": {
      "displayName": "Juan Pablo Cano",
      "photoUrl": "https://lh3.googleusercontent.com/a-/AOh14Ggpvl16I60w7jnrbdVFshSpDWtSuXlYdGvZAOpQXQ=s64",
      "userId": "14080729078587151746"
     },
     "user_tz": 300
    },
    "id": "TguKWWZwdn9a"
   },
   "outputs": [],
   "source": [
    "y_pred_3b = pipeline.predict(X_val)"
   ]
  },
  {
   "cell_type": "code",
   "execution_count": null,
   "id": "064a8999",
   "metadata": {
    "colab": {
     "base_uri": "https://localhost:8080/"
    },
    "executionInfo": {
     "elapsed": 5,
     "status": "ok",
     "timestamp": 1645574240966,
     "user": {
      "displayName": "Juan Pablo Cano",
      "photoUrl": "https://lh3.googleusercontent.com/a-/AOh14Ggpvl16I60w7jnrbdVFshSpDWtSuXlYdGvZAOpQXQ=s64",
      "userId": "14080729078587151746"
     },
     "user_tz": 300
    },
    "id": "Bv_znLZ-dxlq",
    "outputId": "9bacafdc-4482-4970-eb04-636fc807af65"
   },
   "outputs": [],
   "source": [
    "r2_lasso_s = r2_score(y_val, y_pred_3b)\n",
    "mse_lasso_s = mean_squared_error(y_val, y_pred_3b)\n",
    "mae_lasso_s = mean_absolute_error(y_val, y_pred_3b)\n",
    "\n",
    "print(\"------------ Lasso (Con estandarización) ------------\")\n",
    "print(f\"R2-score: {r2_lasso_s:.7f}\")\n",
    "print(f\"Residual sum of squares (MSE): {mse_lasso_s:.5f}\")\n",
    "print(f\"Mean absolute error: {mae_lasso_s:.5f}\")"
   ]
  },
  {
   "cell_type": "markdown",
   "id": "bb513a91",
   "metadata": {
    "id": "rA8zBvMtkYIp"
   },
   "source": [
    "#### **Comportamiento de los datos reales vs los datos predecidos**"
   ]
  },
  {
   "cell_type": "code",
   "execution_count": null,
   "id": "e882b147",
   "metadata": {
    "colab": {
     "base_uri": "https://localhost:8080/",
     "height": 729
    },
    "executionInfo": {
     "elapsed": 814,
     "status": "ok",
     "timestamp": 1645574245641,
     "user": {
      "displayName": "Juan Pablo Cano",
      "photoUrl": "https://lh3.googleusercontent.com/a-/AOh14Ggpvl16I60w7jnrbdVFshSpDWtSuXlYdGvZAOpQXQ=s64",
      "userId": "14080729078587151746"
     },
     "user_tz": 300
    },
    "id": "WvJeqiEAky85",
    "outputId": "a68a9b7e-13ad-4808-bb24-87c27e6f75c3"
   },
   "outputs": [],
   "source": [
    "%matplotlib inline\n",
    "draw_chart(\n",
    "    y_val,\n",
    "    y_pred_3b,\n",
    "    \"Predicción con regresion Lasso (Con estandarización)\",\n",
    "    \"Regresion Lasso\",\n",
    ")"
   ]
  },
  {
   "cell_type": "markdown",
   "id": "50142ba2",
   "metadata": {
    "id": "8-9QFqjSlfFJ"
   },
   "source": [
    "### **Selección del mejor modelo**\n",
    "Tabla comparativa con los resultados de las métricas R2, MSE y MAE para los 3 modelos entrenados."
   ]
  },
  {
   "cell_type": "code",
   "execution_count": null,
   "id": "725b4a53",
   "metadata": {
    "colab": {
     "base_uri": "https://localhost:8080/"
    },
    "executionInfo": {
     "elapsed": 183,
     "status": "ok",
     "timestamp": 1645574256112,
     "user": {
      "displayName": "Juan Pablo Cano",
      "photoUrl": "https://lh3.googleusercontent.com/a-/AOh14Ggpvl16I60w7jnrbdVFshSpDWtSuXlYdGvZAOpQXQ=s64",
      "userId": "14080729078587151746"
     },
     "user_tz": 300
    },
    "id": "lWomqAnlmJK7",
    "outputId": "5fe9ff87-c55a-4f6b-a48b-a6348aca22b1"
   },
   "outputs": [],
   "source": [
    "info = {\n",
    "    \"Model\": [\"Poly Regression\", \"Ridge\", \"Ridge (con S)\", \"Lasso\", \"Lasso (con S)\"],\n",
    "    \"R2\": [r2_poly, r2_ridge, r2_ridge_s, r2_lasso, r2_lasso_s],\n",
    "    \"MSE\": [mse_poly, mse_ridge, mse_ridge_s, mse_ridge, mse_lasso_s],\n",
    "    \"MAE\": [mae_poly, mae_ridge, mae_ridge_s, mae_lasso, mae_lasso_s],\n",
    "}\n",
    "\n",
    "print(tabulate(info, headers=\"keys\", tablefmt=\"fancy_grid\"))"
   ]
  },
  {
   "cell_type": "markdown",
   "id": "1e8e917f",
   "metadata": {
    "id": "ewVS7PkQd_1B"
   },
   "source": [
    "### **Optimización de hiperparámetros para el mejor modelo**"
   ]
  },
  {
   "cell_type": "code",
   "execution_count": null,
   "id": "bc4c08f6",
   "metadata": {
    "id": "eWSPKRNod7fJ"
   },
   "outputs": [],
   "source": []
  }
 ],
 "metadata": {
  "jupytext": {
   "encoding": "# -*- coding: utf-8 -*-",
   "main_language": "python"
  },
  "kernelspec": {
   "display_name": "Python 3",
   "name": "python3"
  }
 },
 "nbformat": 4,
 "nbformat_minor": 5
}
