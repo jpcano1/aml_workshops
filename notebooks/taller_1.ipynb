{
 "cells": [
  {
   "cell_type": "markdown",
   "id": "773488f4",
   "metadata": {
    "id": "rft1MP5eCPav"
   },
   "source": [
    "# **Análisis con Machine Learning**\n",
    "## **Taller 1**\n",
    "#### **Andrea Bayona - Juan Pablo Cano**\n",
    "\n",
    "\n",
    "En la actualidad, el sector inmobiliario ruso está en pleno auge. Ofrece muchas oportunidades emocionantes y un alto rendimiento en cuanto a estilos de vida e inversiones. El mercado inmobiliario lleva varios años en fase de crecimiento, lo que significa que todavía se pueden encontrar propiedades a precios muy atractivos, pero es muy probable que aumenten en el futuro. Para poder entender el mercado, una inmobiliaria rusa le ha brindado la información de la venta de más de 45 mil inmuebles entre los años de 2018 y 2021. Y quieren entender cuáles son las características principales que inciden en los precios de venta, para poder proponer planes de construcción de inmuebles en las áreas urbanas disponibles, que tomen en cuenta estas características."
   ]
  },
  {
   "cell_type": "code",
   "execution_count": null,
   "id": "8f1efaf8",
   "metadata": {
    "colab": {
     "base_uri": "https://localhost:8080/",
     "height": 67,
     "referenced_widgets": [
      "f36e5fc2011e4610ab7023be86219b84",
      "c415eeb92f7043e8b96a57a0b2f66de0",
      "573acf786cbc45c99c7929bf26ac3803",
      "0fbc465aa99244fb826cd8c2d708a2b0",
      "a5ce9451dee94807a0167712ab0ea83e",
      "787091749c8c4cc6b4e1e1abc81a99c9",
      "d520ac2d610c442fbd45003ad6c49e45",
      "1db1e8f04e58403eb3961e8e2a0d2848",
      "6fcd4db153e6466795b5d7d9ca9fed0c",
      "817bda5a33ca4889ae21d17274e36833",
      "78e0622191554a49a350cbe47d5fbc50"
     ]
    },
    "id": "Tb2Jg3f9jx-S",
    "outputId": "ce24700f-f124-47de-9608-bd6ac01065de"
   },
   "outputs": [],
   "source": [
    "!shred -u setup_colab_general.py\n",
    "!wget -q \"https://github.com/jpcano1/python_utils/raw/main/setup_colab_general.py\" -O setup_colab_general.py\n",
    "import setup_colab_general as setup_general\n",
    "\n",
    "setup_general.setup_general()"
   ]
  },
  {
   "cell_type": "code",
   "execution_count": null,
   "id": "8084b3d8",
   "metadata": {
    "id": "yqAdW4WNlYXN"
   },
   "outputs": [],
   "source": [
    "!pip install --disable-pip-version-check --progress-bar off -q https://github.com/pandas-profiling/pandas-profiling/archive/master.zip\n",
    "!pip install --disable-pip-version-check --progress-bar off -q tabulate"
   ]
  },
  {
   "cell_type": "markdown",
   "id": "bfb131f5",
   "metadata": {
    "id": "Am5V_Yb1ntVC",
    "lines_to_next_cell": 0
   },
   "source": [
    "## **Importando la librerías necesarias**"
   ]
  },
  {
   "cell_type": "code",
   "execution_count": null,
   "id": "75b62735",
   "metadata": {
    "id": "ebTvp-cCwAsQ"
   },
   "outputs": [],
   "source": [
    "import os\n",
    "\n",
    "import matplotlib.pyplot as plt\n",
    "\n",
    "plt.style.use(\"seaborn-deep\")\n",
    "\n",
    "# Librerías extras\n",
    "import itertools\n",
    "from typing import Optional\n",
    "\n",
    "import numpy as np\n",
    "import pandas as pd\n",
    "import pandas_profiling\n",
    "from sklearn.base import BaseEstimator, TransformerMixin\n",
    "from sklearn.linear_model import Lasso, LinearRegression, Ridge\n",
    "from sklearn.metrics import mean_absolute_error, mean_squared_error, r2_score\n",
    "from sklearn.model_selection import GridSearchCV, train_test_split\n",
    "from sklearn.pipeline import Pipeline\n",
    "from sklearn.preprocessing import PolynomialFeatures, StandardScaler\n",
    "from tabulate import tabulate\n",
    "\n",
    "from utils import general as gen"
   ]
  },
  {
   "cell_type": "code",
   "execution_count": null,
   "id": "408b2bd1",
   "metadata": {
    "colab": {
     "base_uri": "https://localhost:8080/",
     "referenced_widgets": [
      "8f32ac9affd94093a82965446c22a1d6",
      "4b1d20d0b9e74ee89d8ef7268f013fe8",
      "d9286e6079d14ad88f1a39687feeea4b",
      "7532de9b083d4a978579b7e9d5d01f24",
      "18a0f8191bf0443e8a41e252a4fa9a4a",
      "1773c0cda1864c4884dcbaef0bfab8db",
      "489c0dea7aca4a038221829119dd6b2c",
      "72647a8834254e5084010cdd80b9feec",
      "d6b1b23f40124546884d41b134d3bc8b",
      "e96c2b8830294aa9a4cda6782992a319",
      "e31accab95874bca9428ad25996f8dbe"
     ]
    },
    "id": "CtzhV51Hwa5p",
    "outputId": "f479c4a9-fe08-458e-dc21-2cd5c9e10a96"
   },
   "outputs": [],
   "source": [
    "data_url = (\n",
    "    \"https://raw.githubusercontent.com/\"\n",
    "    \"Camilojaravila/202210_MINE-4206_ANAL\"\n",
    "    \"ISIS_CON_MACHINE_LEARNING/main/Taller%\"\n",
    "    \"201/russian_prices.csv\"\n",
    ")\n",
    "gen.download_content(data_url, filename=\"russian_prices.csv\")"
   ]
  },
  {
   "cell_type": "markdown",
   "id": "f05f47f6",
   "metadata": {
    "id": "IuYNGV_wnxjN"
   },
   "source": [
    "## **Lectura y perfilamiento**\n",
    "\n",
    "### **Diccionario de Datos**\n",
    "La inmobiliaria ha construido el siguiente diccionario de datos:\n",
    "\n",
    "* date - Fecha de publicación del anuncio.\n",
    "* time - Tiempo que la publicación estuvo activo.\n",
    "* geo_lat - Latitud.\n",
    "* geo_lon - Longitud.\n",
    "* region - Region de Rusia. Hay 85 regiones en total.\n",
    "* building_type - Tipo de Fachada. 0 - Other. 1 - Panel. 2 - Monolithic. 3 - * Brick. 4 - Blocky. 5 - Wooden.\n",
    "* object_type - Tipo de Apartmento. 1 - Secondary real estate market; 2 - New * building.\n",
    "* level - Piso del Apartamento.\n",
    "* levels - Número de pisos.\n",
    "* rooms - Número de Habitaciones. Si el valor es \"-1\", Significa que es un \"studio apartment\".\n",
    "* area - Área total del apartamento (m2).\n",
    "* kitchen_area - Área de la Cocina (m2).\n",
    "* price - Precio. En rublos"
   ]
  },
  {
   "cell_type": "markdown",
   "id": "5753fc18",
   "metadata": {
    "id": "tvVbLTlBE6mh"
   },
   "source": [
    "A continuación, se leen los datos y se revisan las primeras líneas para verficar que la carga fue exitosa"
   ]
  },
  {
   "cell_type": "code",
   "execution_count": null,
   "id": "d8ba2b53",
   "metadata": {
    "id": "kj0nEuMvxWad"
   },
   "outputs": [],
   "source": [
    "russian_prices_df = pd.read_csv(\"data/russian_prices.csv\")"
   ]
  },
  {
   "cell_type": "code",
   "execution_count": null,
   "id": "aaa35a77",
   "metadata": {
    "colab": {
     "base_uri": "https://localhost:8080/"
    },
    "id": "2wS1sFwMj6uO",
    "outputId": "1a289b70-6d2f-43ff-c40f-b98ecaba21d7"
   },
   "outputs": [],
   "source": [
    "russian_prices_df.head()"
   ]
  },
  {
   "cell_type": "code",
   "execution_count": null,
   "id": "3d8a8c3e",
   "metadata": {
    "colab": {
     "base_uri": "https://localhost:8080/"
    },
    "id": "wfg_2vpIj8-_",
    "outputId": "61788701-a72e-4bbe-b3d6-1e872a8e9268"
   },
   "outputs": [],
   "source": [
    "russian_prices_df.info()"
   ]
  },
  {
   "cell_type": "code",
   "execution_count": null,
   "id": "18f5807f",
   "metadata": {
    "id": "Wl1BKpS4xAw2"
   },
   "outputs": [],
   "source": [
    "profiler = pandas_profiling.ProfileReport(russian_prices_df, dark_mode=True)"
   ]
  },
  {
   "cell_type": "markdown",
   "id": "ea085c05",
   "metadata": {
    "id": "zfOPUCD0wNxc"
   },
   "source": [
    "- El perfilamiento se encuentra en los anexos."
   ]
  },
  {
   "cell_type": "code",
   "execution_count": null,
   "id": "8cecfc6a",
   "metadata": {
    "colab": {
     "base_uri": "https://localhost:8080/",
     "referenced_widgets": [
      "43552aa81edb4d549039620ba4f5e219",
      "59b1f7c7890044eeabc09b440ec2179b",
      "658be1c5915748eaa1e145ee16025c68",
      "cb1a99b1c43047e4b18dbe88cfce10bb",
      "5528a149e1da4d76ad182fb73fb7d540",
      "8bac1b90e20549ccb5954d64b329229e",
      "ff378d55cf9d471abe1a70f9fae5a2a4",
      "5de5caaef3224713b8baff7e03b672e7",
      "f532373581a14500a9a52b55643d0cd2",
      "c044d2abff9e4234b24282312d63aabb",
      "497800d0848f40478c2385c362944b70",
      "e9ac7ae4f4e148d49189cf2e82e10b85",
      "1b86aad8a58d4855850c7da938397545",
      "a84574e678d54475adccd2f1830d98b7",
      "6fba2332a3904402bc5849ca2ec8d8b4",
      "c7f19e79908a4580b9c21802660c16eb",
      "3f000da7a9554c85b81577680406a5fc",
      "035209bb241840ecba66b532383e2fe3",
      "ff6d580988ea484d88dc3652b597200b",
      "d7b21b39409e4a9896e8b9c89ee719df",
      "3595af6e985442b2b03a99eb45e392a6",
      "1aa66f2d218c46f1b1977bdd4a06a29f",
      "62da8655840a48588d5f17c851a7704e",
      "9a019b58dde1427ba137691ce5a9ca45",
      "fcb628673ba54f3aa18bac9e19ae479d",
      "6b1d0ddca02b4a5080e3a14f09617876",
      "43f62b6498844699824740203cbad04e",
      "29389e45904e4f659450c955be8e340a",
      "aa6e881d2ce446be9e270244ba2ad91c",
      "c3a3d6c6bf954f8bbfbb4280e2c60474",
      "83ffe96d67304724be8a594b3c78eaa5",
      "ceba62c299b34d2088bc8e0f7e2ef3b6",
      "92d0c71528b44bff96eccedd65a8f1b0",
      "8167ec02a4c548ffade77e4532441af5",
      "db235209d453453aa12a51c2a3cdec89",
      "8b896ac119904b918f4dc458b111a726",
      "5655bc92cc4b4d14a0a94092217beb32",
      "f9157981d403417ebcba1ee5551479cc",
      "a33e61b591394ddfb951523aa84a2e52",
      "6396e9cb24de43598929c0e0fc8c620a",
      "e431c4fce170458f87f822281db1e3d6",
      "b7cee479ea9e45e181ff7997e2cd2ca8",
      "1dced353eb414a9392a77d9c41c1de95",
      "b9c729011d924b4699445652699f8503"
     ]
    },
    "id": "ztSi0cuPxffs",
    "outputId": "0213797c-0761-4293-c541-e30ca32dfa90"
   },
   "outputs": [],
   "source": [
    "if not os.path.exists(\"profiling_reports\"):\n",
    "    os.makedirs(\"profiling_reports\")\n",
    "profiler.to_file(\"profiling_reports/russian_prices_profile.html\")"
   ]
  },
  {
   "cell_type": "markdown",
   "id": "e61ff23f",
   "metadata": {
    "id": "oO11RRE2VWAN"
   },
   "source": [
    "- Las siguientes columnas se eliminaron bajo el supuesto de que no son necesarias para el objetivo de negocio. La primera columna es un identificador de propiedad, ergo, no es significativa. Las columnas `time` y `date` son columnas relacionadas a la publicación, más no a la propiedad perse, por lo tanto, no son significativas para nuestro modelo."
   ]
  },
  {
   "cell_type": "code",
   "execution_count": null,
   "id": "4f6ea84c",
   "metadata": {
    "id": "xUQji5iQi4oY"
   },
   "outputs": [],
   "source": [
    "columns_to_delete = [\n",
    "    \"Unnamed: 0\",\n",
    "    \"time\",\n",
    "    \"date\",\n",
    "]"
   ]
  },
  {
   "cell_type": "code",
   "execution_count": null,
   "id": "e13afef3",
   "metadata": {
    "id": "HuVpJcPpjox-"
   },
   "outputs": [],
   "source": [
    "russian_prices_df.drop(columns=columns_to_delete, inplace=True)"
   ]
  },
  {
   "cell_type": "markdown",
   "id": "72d1527e",
   "metadata": {
    "id": "k9tWqKeNsACK"
   },
   "source": [
    "- Todas las columnas con valores nulos fueron removidas"
   ]
  },
  {
   "cell_type": "code",
   "execution_count": null,
   "id": "603f3153",
   "metadata": {
    "id": "rdgm3ridkZhS"
   },
   "outputs": [],
   "source": [
    "russian_prices_df.dropna(inplace=True)"
   ]
  },
  {
   "cell_type": "code",
   "execution_count": null,
   "id": "4ed796fb",
   "metadata": {
    "colab": {
     "base_uri": "https://localhost:8080/"
    },
    "id": "2fvSWw_hj1wS",
    "outputId": "aea14985-ac08-4ddb-c820-f8e4e371ecd8"
   },
   "outputs": [],
   "source": [
    "russian_prices_df.info()"
   ]
  },
  {
   "cell_type": "code",
   "execution_count": null,
   "id": "a315f401",
   "metadata": {
    "id": "NXiS5wFokqHi"
   },
   "outputs": [],
   "source": [
    "russian_prices_df = russian_prices_df.apply(lambda x: x.astype(\"int32\"))\n",
    "russian_prices_df[\"object_type\"] = russian_prices_df[\"object_type\"].apply(\n",
    "    lambda x: 2 if x == 11 else x\n",
    ")\n",
    "russian_prices_df[\"rooms\"] = russian_prices_df[\"rooms\"].apply(lambda x: -1 if x == -2 else x)"
   ]
  },
  {
   "cell_type": "code",
   "execution_count": null,
   "id": "137026b8",
   "metadata": {
    "id": "dYivdCPnwfuo"
   },
   "outputs": [],
   "source": [
    "rows_to_drop = russian_prices_df.query(\n",
    "    \"kitchen_area + 5 >= area | area <= 10 | price <= 2000\"\n",
    ").index\n",
    "russian_prices_df = russian_prices_df.drop(rows_to_drop).reset_index(drop=True)"
   ]
  },
  {
   "cell_type": "code",
   "execution_count": null,
   "id": "1c839516",
   "metadata": {
    "id": "V7BDrFLJmcN9"
   },
   "outputs": [],
   "source": [
    "X, y = russian_prices_df.drop(\"price\", axis=1), russian_prices_df[\"price\"]"
   ]
  },
  {
   "cell_type": "code",
   "execution_count": null,
   "id": "b8c6bb8b",
   "metadata": {
    "id": "Gh_LIlQTmm0S"
   },
   "outputs": [],
   "source": [
    "full_X_train, X_test, full_y_train, y_test = train_test_split(\n",
    "    X, y, test_size=0.2, random_state=1234\n",
    ")\n",
    "X_train, X_val, y_train, y_val = train_test_split(\n",
    "    full_X_train, full_y_train, test_size=0.2, random_state=1234\n",
    ")"
   ]
  },
  {
   "cell_type": "code",
   "execution_count": null,
   "id": "46c4510a",
   "metadata": {
    "colab": {
     "base_uri": "https://localhost:8080/"
    },
    "id": "eEtwMvsAmogC",
    "outputId": "4362362f-68c0-4c00-d671-495085c99382"
   },
   "outputs": [],
   "source": [
    "X_train.shape, y_train.shape"
   ]
  },
  {
   "cell_type": "code",
   "execution_count": null,
   "id": "601f8b64",
   "metadata": {
    "colab": {
     "base_uri": "https://localhost:8080/"
    },
    "id": "M3JwOPusnIpn",
    "outputId": "66c0f45e-ed9e-4e7a-bc3e-ab59c717bc4a"
   },
   "outputs": [],
   "source": [
    "X_val.shape, y_val.shape"
   ]
  },
  {
   "cell_type": "code",
   "execution_count": null,
   "id": "0cb0d83b",
   "metadata": {
    "colab": {
     "base_uri": "https://localhost:8080/"
    },
    "id": "0QveAb5em00v",
    "outputId": "c75a4fc7-79a8-4c3f-b185-8b02830bd599"
   },
   "outputs": [],
   "source": [
    "X_test.shape, y_test.shape"
   ]
  },
  {
   "cell_type": "markdown",
   "id": "32410c8d",
   "metadata": {
    "id": "rP-CN-yeoJ_9"
   },
   "source": [
    "## **Modelamiento**"
   ]
  },
  {
   "cell_type": "markdown",
   "id": "e7a1ebc6",
   "metadata": {
    "id": "16UKiXe_TM12"
   },
   "source": [
    "### **Regresión Polinómial**\n",
    "#### **Entrenamiento (Sin estandarización)**"
   ]
  },
  {
   "cell_type": "markdown",
   "id": "0c671c36",
   "metadata": {
    "id": "zHyXQXfb2qAG"
   },
   "source": [
    "Se define la clase para realizar la transformación polinomial de nuetras variables"
   ]
  },
  {
   "cell_type": "code",
   "execution_count": null,
   "id": "6cc2bf95",
   "metadata": {
    "id": "1EeXFbK_pP7a"
   },
   "outputs": [],
   "source": [
    "class ToPolynomial(BaseEstimator, TransformerMixin):\n",
    "    def __init__(self, k: int = 2) -> None:\n",
    "        self.k = k\n",
    "\n",
    "    def transform(self, X: pd.DataFrame, y: Optional[pd.Series] = None) -> pd.DataFrame:\n",
    "        columns = X.columns\n",
    "        X_train_pol = pd.concat(\n",
    "            [X ** (i + 1) for i in range(self.k)], axis=1\n",
    "        )  # Polinomios sin interacciones\n",
    "        X_train_pol.columns = np.reshape(\n",
    "            [[i + \" \" + str(j + 1) for i in columns] for j in range(self.k)], -1\n",
    "        )\n",
    "        temp = pd.concat(\n",
    "            [X[i[0]] * X[i[1]] for i in list(itertools.combinations(columns, 2))], axis=1\n",
    "        )  # Combinaciones sólo de grado 1\n",
    "        temp.columns = [\" \".join(i) for i in list(itertools.combinations(columns, 2))]\n",
    "        X_train_pol = pd.concat([X_train_pol, temp], axis=1)\n",
    "        return X_train_pol"
   ]
  },
  {
   "cell_type": "markdown",
   "id": "c6bba519",
   "metadata": {
    "id": "Fj3hG4RM2wLO"
   },
   "source": [
    "Se crea un pipeline para encapsular los pasos de entrenamiento de nuestro modelo. Primero se realiza la transformación polinamial de las variables y estas se utilizan para entrenar el modelo de regresión lineal."
   ]
  },
  {
   "cell_type": "code",
   "execution_count": null,
   "id": "7e104338",
   "metadata": {
    "colab": {
     "base_uri": "https://localhost:8080/"
    },
    "id": "2yMSJKDloOZi",
    "outputId": "de3292b9-2b6c-42ee-ebb0-e0af96d5e87d"
   },
   "outputs": [],
   "source": [
    "estimators = [(\"polinomial\", ToPolynomial()), (\"regresion\", LinearRegression())]\n",
    "\n",
    "pipe_pol = Pipeline(estimators)\n",
    "\n",
    "pipe_pol.fit(X_train, y_train)"
   ]
  },
  {
   "cell_type": "markdown",
   "id": "00e64e7c",
   "metadata": {
    "id": "0G2Ruy0T4DUD"
   },
   "source": [
    " Parámetros entrenados por la Regresión Polinomial"
   ]
  },
  {
   "cell_type": "code",
   "execution_count": null,
   "id": "7d3ddfe0",
   "metadata": {
    "colab": {
     "base_uri": "https://localhost:8080/"
    },
    "id": "eCPY09nsTcWK",
    "outputId": "2ca0f684-34c3-482b-c1ed-6dcc3ac6f9b2"
   },
   "outputs": [],
   "source": [
    "reg_lineal = pipe_pol[\"regresion\"]\n",
    "\n",
    "print(\"Intercept: \", reg_lineal.intercept_)\n",
    "print(\"Coefficients: \", reg_lineal.coef_)"
   ]
  },
  {
   "cell_type": "markdown",
   "id": "29948a2b",
   "metadata": {
    "id": "epQPSIhSTWXo"
   },
   "source": [
    "#### **Validación (Sin estandarización)**"
   ]
  },
  {
   "cell_type": "code",
   "execution_count": null,
   "id": "313e8ae0",
   "metadata": {
    "colab": {
     "base_uri": "https://localhost:8080/"
    },
    "id": "-epy5ZCTT2hd",
    "outputId": "15884a59-7aca-42a3-dad3-1307f841f369"
   },
   "outputs": [],
   "source": [
    "y_pred = pipe_pol.predict(X_val)\n",
    "y_pred"
   ]
  },
  {
   "cell_type": "code",
   "execution_count": null,
   "id": "95f0b3e1",
   "metadata": {
    "colab": {
     "base_uri": "https://localhost:8080/"
    },
    "id": "UzYpZljfT9qv",
    "lines_to_next_cell": 2,
    "outputId": "8971380f-21df-46e7-8982-391455700b5b"
   },
   "outputs": [],
   "source": [
    "r2_poly = r2_score(y_val, y_pred)\n",
    "mse_poly = mean_squared_error(y_val, y_pred)\n",
    "mae_poly = mean_absolute_error(y_val, y_pred)\n",
    "\n",
    "print(\"------------ Polynomial Regression ------------\")\n",
    "print(f\"R2-score: {r2_poly:.7f}\")\n",
    "print(f\"Residual sum of squares (MSE): {mse_poly:.5f}\")\n",
    "print(f\"Mean absolute error: {mae_poly:.5f}\")"
   ]
  },
  {
   "cell_type": "markdown",
   "id": "ab33927f",
   "metadata": {
    "id": "hWv4uZTyeZ1l"
   },
   "source": [
    "#### **Comportamiento de los datos reales vs los datos predecidos**"
   ]
  },
  {
   "cell_type": "code",
   "execution_count": null,
   "id": "1b4d19aa",
   "metadata": {
    "id": "lt_fp3tjdVJy"
   },
   "outputs": [],
   "source": [
    "%matplotlib inline\n",
    "\n",
    "\n",
    "def draw_chart(y_val_p, y_pred_p, title, legend):\n",
    "    fig, axs = plt.subplots(1, figsize=(20, 10))\n",
    "\n",
    "    xvals = list(range(len(y_val_p[:50])))\n",
    "    axs.plot(xvals, y_pred_p[:50], \"bo-\", label=legend)\n",
    "    axs.plot(xvals, y_val_p[:50], \"ro-\", label=\"Real\")\n",
    "\n",
    "    axs.set(title=title, ylabel=y_train.name)\n",
    "    axs.legend()\n",
    "\n",
    "    plt.tight_layout()\n",
    "    plt.show()"
   ]
  },
  {
   "cell_type": "code",
   "execution_count": null,
   "id": "b18c04ff",
   "metadata": {
    "colab": {
     "base_uri": "https://localhost:8080/",
     "height": 729
    },
    "id": "HA1FneL3hcOX",
    "outputId": "6d31ad8a-ad46-415b-b9f1-0a04504241df"
   },
   "outputs": [],
   "source": [
    "draw_chart(y_val, y_pred, \"Predicción con Regresión Polinomial\", \"Regresión Polinomial\")"
   ]
  },
  {
   "cell_type": "markdown",
   "id": "dc981d07",
   "metadata": {
    "id": "2L9PZ3OiPh9H"
   },
   "source": [
    "#### **Entrenamiento (Con estandarización)**"
   ]
  },
  {
   "cell_type": "code",
   "execution_count": null,
   "id": "6f37123d",
   "metadata": {
    "colab": {
     "base_uri": "https://localhost:8080/"
    },
    "id": "WfoASDJqPhMt",
    "outputId": "365908bf-eec1-497a-f4db-ca22cc66fa37"
   },
   "outputs": [],
   "source": [
    "estimators_2 = [\n",
    "    (\"polinomial\", ToPolynomial()),\n",
    "    (\"normalizar\", StandardScaler()),\n",
    "    (\"regresion\", LinearRegression()),\n",
    "]\n",
    "\n",
    "pipe_pol_s = Pipeline(estimators_2)\n",
    "\n",
    "pipe_pol_s.fit(X_train, y_train)"
   ]
  },
  {
   "cell_type": "markdown",
   "id": "167976cf",
   "metadata": {
    "id": "H6VmO045P6MN"
   },
   "source": [
    " Parámetros entrenados por la Regresión Polinomial"
   ]
  },
  {
   "cell_type": "code",
   "execution_count": null,
   "id": "13fa6d16",
   "metadata": {
    "colab": {
     "base_uri": "https://localhost:8080/"
    },
    "id": "h0C0dPUTQZfw",
    "outputId": "74a2f6ba-0d3d-462b-91f6-5d83be0ffea4"
   },
   "outputs": [],
   "source": [
    "reg_lineal_s = pipe_pol_s[\"regresion\"]\n",
    "\n",
    "print(\"Intercept: \", reg_lineal_s.intercept_)\n",
    "print(\"Coefficients: \", reg_lineal_s.coef_)"
   ]
  },
  {
   "cell_type": "markdown",
   "id": "8d4be6c0",
   "metadata": {
    "id": "xIYXvQSOQjqP"
   },
   "source": [
    "#### **Validación (Con estandarización)**"
   ]
  },
  {
   "cell_type": "code",
   "execution_count": null,
   "id": "c91d471e",
   "metadata": {
    "colab": {
     "base_uri": "https://localhost:8080/"
    },
    "id": "w5I-DSlPQpO7",
    "outputId": "fce4b816-88c8-43d1-9d18-54fd6b318b64"
   },
   "outputs": [],
   "source": [
    "y_pred_1b = pipe_pol_s.predict(X_val)\n",
    "y_pred_1b"
   ]
  },
  {
   "cell_type": "code",
   "execution_count": null,
   "id": "f0a02971",
   "metadata": {
    "colab": {
     "base_uri": "https://localhost:8080/"
    },
    "id": "DA3xqeyjQ1X9",
    "outputId": "489e69b3-10e1-4d03-9140-f580a5de423c"
   },
   "outputs": [],
   "source": [
    "r2_poly_s = r2_score(y_val, y_pred_1b)\n",
    "mse_poly_s = mean_squared_error(y_val, y_pred_1b)\n",
    "mae_poly_s = mean_absolute_error(y_val, y_pred_1b)\n",
    "\n",
    "print(\"------------ Polynomial Regression ------------\")\n",
    "print(f\"R2-score: {r2_poly_s:.7f}\")\n",
    "print(f\"Residual sum of squares (MSE): {mse_poly_s:.5f}\")\n",
    "print(f\"Mean absolute error: {mae_poly_s:.5f}\")"
   ]
  },
  {
   "cell_type": "markdown",
   "id": "dfed5e3d",
   "metadata": {
    "id": "0TwCRPfGRFve"
   },
   "source": [
    "#### **Comportamiento de los datos reales vs los datos predecidos**"
   ]
  },
  {
   "cell_type": "code",
   "execution_count": null,
   "id": "1682f562",
   "metadata": {
    "colab": {
     "base_uri": "https://localhost:8080/",
     "height": 729
    },
    "id": "9pWcfymsRGYG",
    "outputId": "6ef5214c-bcbf-430a-989d-41a036201963"
   },
   "outputs": [],
   "source": [
    "%matplotlib inline\n",
    "draw_chart(\n",
    "    y_val,\n",
    "    y_pred_1b,\n",
    "    \"Predicción con Regresión Polinomial (con estandarización)\",\n",
    "    \"Regresión Polinomial\",\n",
    ")"
   ]
  },
  {
   "cell_type": "markdown",
   "id": "981c9cfe",
   "metadata": {
    "id": "ud_HEwjZoOrq"
   },
   "source": [
    "### **Regresión Ridge**\n",
    "#### **Entrenamiento (Sin estandarización)**\n",
    "\n"
   ]
  },
  {
   "cell_type": "code",
   "execution_count": null,
   "id": "efde24c9",
   "metadata": {
    "colab": {
     "base_uri": "https://localhost:8080/"
    },
    "id": "rnnb_rWBoRHa",
    "outputId": "538b5f4a-cac6-4919-babf-d9a095c15c05"
   },
   "outputs": [],
   "source": [
    "ridge_reg = Ridge()\n",
    "ridge_reg.fit(X_train, y_train)"
   ]
  },
  {
   "cell_type": "code",
   "execution_count": null,
   "id": "ed9acaba",
   "metadata": {
    "colab": {
     "base_uri": "https://localhost:8080/"
    },
    "id": "xe1WtO-IiepT",
    "outputId": "fdc0f7eb-78d2-4143-c21e-9e227f36c78a"
   },
   "outputs": [],
   "source": [
    "ridge_coef = dict(zip(X_train.columns, ridge_reg.coef_))\n",
    "ridge_coef"
   ]
  },
  {
   "cell_type": "markdown",
   "id": "96a7d268",
   "metadata": {
    "id": "Zdx6xzlXdN0b"
   },
   "source": [
    "#### **Validación**"
   ]
  },
  {
   "cell_type": "code",
   "execution_count": null,
   "id": "2adaca96",
   "metadata": {
    "id": "26Wmz50fdRx5"
   },
   "outputs": [],
   "source": [
    "y_pred_2 = ridge_reg.predict(X_val)"
   ]
  },
  {
   "cell_type": "code",
   "execution_count": null,
   "id": "5aebad1e",
   "metadata": {
    "colab": {
     "base_uri": "https://localhost:8080/"
    },
    "id": "EvQB0EHsi_Fm",
    "outputId": "03d2c814-640b-4820-c993-f5ef9ccbc785"
   },
   "outputs": [],
   "source": [
    "r2_ridge = r2_score(y_val, y_pred_2)\n",
    "mse_ridge = mean_squared_error(y_val, y_pred_2)\n",
    "mae_ridge = mean_absolute_error(y_val, y_pred_2)\n",
    "\n",
    "print(\"------------ Ridge ------------\")\n",
    "print(f\"R2-score: {r2_ridge:.7f}\")\n",
    "print(f\"Residual sum of squares (MSE): {mse_ridge:.5f}\")\n",
    "print(f\"Mean absolute error: {mae_ridge:.5f}\")"
   ]
  },
  {
   "cell_type": "markdown",
   "id": "afff666f",
   "metadata": {
    "id": "UkIx8aTSe8JA"
   },
   "source": [
    "#### **Comportamiento de los datos reales vs los datos predecidos**"
   ]
  },
  {
   "cell_type": "code",
   "execution_count": null,
   "id": "d7aef070",
   "metadata": {
    "colab": {
     "base_uri": "https://localhost:8080/",
     "height": 729
    },
    "id": "bkaeBDIuevsV",
    "outputId": "84b6d593-b37d-4859-b5fb-02403bb6967c"
   },
   "outputs": [],
   "source": [
    "%matplotlib inline\n",
    "draw_chart(y_val, y_pred_2, \"Predicción con regresion Ridge\", \"Regresion Ridge\")"
   ]
  },
  {
   "cell_type": "markdown",
   "id": "56d78185",
   "metadata": {
    "id": "9Pd-sS9eYGzD"
   },
   "source": [
    "#### **Entrenamiento (Con estandarización)**"
   ]
  },
  {
   "cell_type": "code",
   "execution_count": null,
   "id": "004b52be",
   "metadata": {
    "colab": {
     "base_uri": "https://localhost:8080/"
    },
    "id": "wcsl9CmhYJ_7",
    "outputId": "87b33712-c50b-48bd-a95e-c8c1f9a916d1"
   },
   "outputs": [],
   "source": [
    "pipeline_ridge = Pipeline(\n",
    "    [\n",
    "        (\"scaler\", StandardScaler()),\n",
    "        (\"regressor\", Ridge()),\n",
    "    ],\n",
    ")\n",
    "\n",
    "pipeline_ridge.fit(X_train, y_train)"
   ]
  },
  {
   "cell_type": "code",
   "execution_count": null,
   "id": "c8fb7895",
   "metadata": {
    "colab": {
     "base_uri": "https://localhost:8080/"
    },
    "id": "lLkPRJlSZZvS",
    "outputId": "cb398eb4-7f8d-45aa-f485-dc7b8ca62319"
   },
   "outputs": [],
   "source": [
    "ridge_coef = dict(zip(X_train.columns, pipeline_ridge.steps[1][1].coef_))\n",
    "ridge_coef"
   ]
  },
  {
   "cell_type": "markdown",
   "id": "3c50da5e",
   "metadata": {
    "id": "dflufl4waDcF"
   },
   "source": [
    "#### **Validación**"
   ]
  },
  {
   "cell_type": "code",
   "execution_count": null,
   "id": "eaa7690e",
   "metadata": {
    "id": "6SYHTEbBaHiw"
   },
   "outputs": [],
   "source": [
    "y_pred_2b = pipeline_ridge.predict(X_val)"
   ]
  },
  {
   "cell_type": "code",
   "execution_count": null,
   "id": "e6cf84e3",
   "metadata": {
    "colab": {
     "base_uri": "https://localhost:8080/"
    },
    "id": "EelZTCKzaMSL",
    "outputId": "7728db79-cd20-4f04-f94a-60ddd0489289"
   },
   "outputs": [],
   "source": [
    "r2_ridge_s = r2_score(y_val, y_pred_2b)\n",
    "mse_ridge_s = mean_squared_error(y_val, y_pred_2b)\n",
    "mae_ridge_s = mean_absolute_error(y_val, y_pred_2b)\n",
    "\n",
    "print(\"------------ Ridge (Con estandarización) ------------\")\n",
    "print(f\"R2-score: {r2_ridge_s:.7f}\")\n",
    "print(f\"Residual sum of squares (MSE): {mse_ridge_s:.5f}\")\n",
    "print(f\"Mean absolute error: {mae_ridge_s:.5f}\")"
   ]
  },
  {
   "cell_type": "markdown",
   "id": "1038163c",
   "metadata": {
    "id": "rbeZ9Bc2gxRu"
   },
   "source": [
    "#### **Comportamiento de los datos reales vs los datos predecidos**"
   ]
  },
  {
   "cell_type": "code",
   "execution_count": null,
   "id": "1ba0b090",
   "metadata": {
    "colab": {
     "base_uri": "https://localhost:8080/"
    },
    "id": "JRh9LRiNigzY",
    "outputId": "a1a96ea3-df1c-4366-da30-a625f913521f"
   },
   "outputs": [],
   "source": [
    "%matplotlib inline\n",
    "draw_chart(\n",
    "    y_val, y_pred_2b, \"Predicción con regresion Ridge (Con estandarización)\", \"Regresion Ridge\"\n",
    ")"
   ]
  },
  {
   "cell_type": "markdown",
   "id": "add52082",
   "metadata": {
    "id": "mQ_FoF7RoRX9"
   },
   "source": [
    "### **Regresión Lasso**\n",
    "#### **Entrenamiento (Sin estandarización)**"
   ]
  },
  {
   "cell_type": "code",
   "execution_count": null,
   "id": "e2b7d7d6",
   "metadata": {
    "colab": {
     "base_uri": "https://localhost:8080/"
    },
    "id": "TLdd00Wdm69O",
    "outputId": "e74fa362-6a4f-4f75-ceec-7ab3e051ca69"
   },
   "outputs": [],
   "source": [
    "lasso_reg = Lasso()\n",
    "lasso_reg.fit(X_train, y_train)"
   ]
  },
  {
   "cell_type": "code",
   "execution_count": null,
   "id": "387fa081",
   "metadata": {
    "colab": {
     "base_uri": "https://localhost:8080/"
    },
    "id": "atcLgUTkoaKF",
    "outputId": "60b2b2c5-dc4d-4db4-c7d6-0680047148ee"
   },
   "outputs": [],
   "source": [
    "lasso_coef = dict(zip(X_train.columns, lasso_reg.coef_))\n",
    "lasso_coef"
   ]
  },
  {
   "cell_type": "markdown",
   "id": "436b872e",
   "metadata": {
    "id": "NE0rheOho8Oj"
   },
   "source": [
    "#### **Validación**"
   ]
  },
  {
   "cell_type": "code",
   "execution_count": null,
   "id": "32212728",
   "metadata": {
    "id": "yRCL86NIokX6"
   },
   "outputs": [],
   "source": [
    "y_pred_3 = lasso_reg.predict(X_val)"
   ]
  },
  {
   "cell_type": "code",
   "execution_count": null,
   "id": "0e2b437d",
   "metadata": {
    "colab": {
     "base_uri": "https://localhost:8080/"
    },
    "id": "htf4tAfFbPDT",
    "outputId": "10d2e563-2f80-45a6-b373-355d5a554da7"
   },
   "outputs": [],
   "source": [
    "r2_lasso = r2_score(y_val, y_pred_3)\n",
    "mse_lasso = mean_squared_error(y_val, y_pred_3)\n",
    "mae_lasso = mean_absolute_error(y_val, y_pred_3)\n",
    "\n",
    "print(\"------------ Lasso ------------\")\n",
    "print(f\"R2-score: {r2_lasso:.4f}\")\n",
    "print(f\"Residual sum of squares (MSE): {mse_lasso:.5f}\")\n",
    "print(f\"Mean absolute error: {mae_lasso:.5f}\")"
   ]
  },
  {
   "cell_type": "markdown",
   "id": "4a08098d",
   "metadata": {
    "id": "VMbo3Ep9kWGZ"
   },
   "source": [
    "#### **Comportamiento de los datos reales vs los datos predecidos**"
   ]
  },
  {
   "cell_type": "code",
   "execution_count": null,
   "id": "1c20528d",
   "metadata": {
    "colab": {
     "base_uri": "https://localhost:8080/"
    },
    "id": "xeorxVPNkeMg",
    "outputId": "8741cd6e-692d-412a-fc08-699b4d269218"
   },
   "outputs": [],
   "source": [
    "%matplotlib inline\n",
    "draw_chart(y_val, y_pred_3, \"Predicción con regresion Lasso\", \"Regresion Lasso\")"
   ]
  },
  {
   "cell_type": "markdown",
   "id": "ce6b9a0b",
   "metadata": {
    "id": "FCjiiBzKcbTY"
   },
   "source": [
    "#### **Entrenamiento (Con estandarización)**"
   ]
  },
  {
   "cell_type": "code",
   "execution_count": null,
   "id": "c380e852",
   "metadata": {
    "colab": {
     "base_uri": "https://localhost:8080/"
    },
    "id": "Em51FsVrr62S",
    "outputId": "ce820441-1436-4d4a-ce70-f44d2003e55b"
   },
   "outputs": [],
   "source": [
    "pipeline = Pipeline(\n",
    "    [\n",
    "        (\"scaler\", StandardScaler()),\n",
    "        (\"regressor\", Lasso()),\n",
    "    ],\n",
    ")\n",
    "\n",
    "pipeline.fit(X_train, y_train)"
   ]
  },
  {
   "cell_type": "code",
   "execution_count": null,
   "id": "8efafef2",
   "metadata": {
    "colab": {
     "base_uri": "https://localhost:8080/"
    },
    "id": "QuqmS5LTdjr9",
    "outputId": "10de4b6b-69e5-4baf-a215-2c43c6a928dd"
   },
   "outputs": [],
   "source": [
    "lasso_coef = dict(zip(X_train.columns, pipeline.steps[1][1].coef_))\n",
    "lasso_coef"
   ]
  },
  {
   "cell_type": "markdown",
   "id": "5df9879d",
   "metadata": {
    "id": "TYpXgaMxdv77"
   },
   "source": [
    "#### **Validación**"
   ]
  },
  {
   "cell_type": "code",
   "execution_count": null,
   "id": "a1fb98ef",
   "metadata": {
    "id": "TguKWWZwdn9a"
   },
   "outputs": [],
   "source": [
    "y_pred_3b = pipeline.predict(X_val)"
   ]
  },
  {
   "cell_type": "code",
   "execution_count": null,
   "id": "4cb2a720",
   "metadata": {
    "colab": {
     "base_uri": "https://localhost:8080/"
    },
    "id": "Bv_znLZ-dxlq",
    "outputId": "6175e388-6104-4395-f6a7-4e9eb0e37922"
   },
   "outputs": [],
   "source": [
    "r2_lasso_s = r2_score(y_val, y_pred_3b)\n",
    "mse_lasso_s = mean_squared_error(y_val, y_pred_3b)\n",
    "mae_lasso_s = mean_absolute_error(y_val, y_pred_3b)\n",
    "\n",
    "print(\"------------ Lasso (Con estandarización) ------------\")\n",
    "print(f\"R2-score: {r2_lasso_s:.7f}\")\n",
    "print(f\"Residual sum of squares (MSE): {mse_lasso_s:.5f}\")\n",
    "print(f\"Mean absolute error: {mae_lasso_s:.5f}\")"
   ]
  },
  {
   "cell_type": "markdown",
   "id": "a48243f9",
   "metadata": {
    "id": "rA8zBvMtkYIp"
   },
   "source": [
    "#### **Comportamiento de los datos reales vs los datos predecidos**"
   ]
  },
  {
   "cell_type": "code",
   "execution_count": null,
   "id": "79a08f8c",
   "metadata": {
    "colab": {
     "base_uri": "https://localhost:8080/"
    },
    "id": "WvJeqiEAky85",
    "outputId": "b8a56fa3-2e1c-45c1-d04e-e87866aca8c4"
   },
   "outputs": [],
   "source": [
    "%matplotlib inline\n",
    "draw_chart(\n",
    "    y_val, y_pred_3b, \"Predicción con regresion Lasso (Con estandarización)\", \"Regresion Lasso\"\n",
    ")"
   ]
  },
  {
   "cell_type": "markdown",
   "id": "587408bd",
   "metadata": {
    "id": "8-9QFqjSlfFJ"
   },
   "source": [
    "### **Selección del mejor modelo**\n",
    "Tabla comparativa con los resultados de las métricas R2, MSE y MAE para los 3 modelos entrenados."
   ]
  },
  {
   "cell_type": "code",
   "execution_count": null,
   "id": "cd5b2bb9",
   "metadata": {
    "colab": {
     "base_uri": "https://localhost:8080/"
    },
    "id": "lWomqAnlmJK7",
    "outputId": "d14db8d7-2eff-489a-e2eb-4fd951555ff2"
   },
   "outputs": [],
   "source": [
    "info = {\n",
    "    \"Model\": [\n",
    "        \"Poly Regression\",\n",
    "        \"Poly Regression (con S)\",\n",
    "        \"Ridge\",\n",
    "        \"Ridge (con S)\",\n",
    "        \"Lasso\",\n",
    "        \"Lasso (con S)\",\n",
    "    ],\n",
    "    \"R2\": [r2_poly, r2_poly_s, r2_ridge, r2_ridge_s, r2_lasso, r2_lasso_s],\n",
    "    \"MSE\": [mse_poly, mse_poly_s, mse_ridge, mse_ridge_s, mse_ridge, mse_lasso_s],\n",
    "    \"MAE\": [mae_poly, mae_poly_s, mae_ridge, mae_ridge_s, mae_lasso, mae_lasso_s],\n",
    "}\n",
    "\n",
    "print(tabulate(info, headers=\"keys\", tablefmt=\"fancy_grid\"))"
   ]
  },
  {
   "cell_type": "markdown",
   "id": "025abd0e",
   "metadata": {
    "id": "ewVS7PkQd_1B"
   },
   "source": [
    "### **Optimización de hiperparámetros para el mejor modelo**"
   ]
  },
  {
   "cell_type": "code",
   "execution_count": null,
   "id": "fab84209",
   "metadata": {
    "id": "eWSPKRNod7fJ"
   },
   "outputs": [],
   "source": [
    "parameters = {\"polinomial__k\": [2, 3, 4, 5], \"normalizar\": [StandardScaler(), \"passthrough\"]}\n",
    "\n",
    "grid_search = GridSearchCV(\n",
    "    pipe_pol_s, parameters, verbose=2, scoring=\"neg_mean_squared_error\", cv=5, n_jobs=-1\n",
    ")"
   ]
  },
  {
   "cell_type": "code",
   "execution_count": null,
   "id": "7b95f598",
   "metadata": {
    "colab": {
     "base_uri": "https://localhost:8080/"
    },
    "id": "PYd51X78SOoF",
    "outputId": "c15c344d-f0d1-4fbc-d199-c3b318ad5f8a"
   },
   "outputs": [],
   "source": [
    "grid_search.fit(X_train, y_train)"
   ]
  },
  {
   "cell_type": "code",
   "execution_count": null,
   "id": "231d99e5",
   "metadata": {
    "colab": {
     "base_uri": "https://localhost:8080/",
     "height": 711
    },
    "id": "GIPcgonDTMwX",
    "outputId": "8578c137-d2cc-4da6-eb96-c34b941823c6"
   },
   "outputs": [],
   "source": [
    "best_model = grid_search.best_estimator_\n",
    "\n",
    "pd.DataFrame(grid_search.cv_results_)"
   ]
  },
  {
   "cell_type": "code",
   "execution_count": null,
   "id": "8fac93ab",
   "metadata": {
    "colab": {
     "base_uri": "https://localhost:8080/"
    },
    "id": "w_kM-BRhTPcj",
    "outputId": "46490f76-64fb-4ceb-dfce-5891719a0aec"
   },
   "outputs": [],
   "source": [
    "grid_search.best_params_"
   ]
  },
  {
   "cell_type": "code",
   "execution_count": null,
   "id": "531e2b7e",
   "metadata": {
    "id": "iS-M3gxsTgNX"
   },
   "outputs": [],
   "source": [
    "y_pred_final = best_model.predict(X_val)\n",
    "y_pred_final_e = best_model.predict(X_train)"
   ]
  },
  {
   "cell_type": "code",
   "execution_count": null,
   "id": "a145d81f",
   "metadata": {
    "colab": {
     "base_uri": "https://localhost:8080/"
    },
    "id": "pxwDgaI4Tg4X",
    "outputId": "b1db8efc-3a22-4b57-cf6f-f202af0de1de"
   },
   "outputs": [],
   "source": [
    "r2_final_e = r2_score(y_train, y_pred_final_e)\n",
    "mse_def_e = mean_squared_error(y_train, y_pred_final_e)\n",
    "mae_poly_final_e = mean_absolute_error(y_train, y_pred_final_e)\n",
    "\n",
    "print(\"------------ Polynomial Regression Entrenamiento------------\")\n",
    "print(f\"R2-score: {r2_final_e:.7f}\")\n",
    "print(f\"Residual sum of squares (MSE): {mse_def_e:.5f}\")\n",
    "print(f\"Mean absolute error: {mae_poly_final_e:.5f}\")\n",
    "\n",
    "r2_final = r2_score(y_val, y_pred_final)\n",
    "mse_def = mean_squared_error(y_val, y_pred_final)\n",
    "mae_poly_final = mean_absolute_error(y_val, y_pred_final)\n",
    "\n",
    "print(\"------------ Polynomial Regression Validacion ------------\")\n",
    "print(f\"R2-score: {r2_final:.7f}\")\n",
    "print(f\"Residual sum of squares (MSE): {mse_def:.5f}\")\n",
    "print(f\"Mean absolute error: {mae_poly_final:.5f}\")"
   ]
  },
  {
   "cell_type": "markdown",
   "id": "00f4556c",
   "metadata": {
    "id": "O4adCe_SUJ7e"
   },
   "source": [
    "#### **Comportamiento de los datos reales vs los datos predecidos**"
   ]
  },
  {
   "cell_type": "code",
   "execution_count": null,
   "id": "f902702f",
   "metadata": {
    "colab": {
     "base_uri": "https://localhost:8080/",
     "height": 729
    },
    "id": "f9BUndGKUp_7",
    "outputId": "cfabc291-087a-494a-e612-c0e7319c2da6"
   },
   "outputs": [],
   "source": [
    "draw_chart(y_val, y_pred_final, \"Predicción con Regresión Polinomial\", \"Regresión Polinomial\")"
   ]
  },
  {
   "cell_type": "markdown",
   "id": "408c27de",
   "metadata": {
    "id": "ds0LmmujVqOr"
   },
   "source": [
    "Variables del modelo"
   ]
  },
  {
   "cell_type": "code",
   "execution_count": null,
   "id": "1e5b8208",
   "metadata": {
    "colab": {
     "base_uri": "https://localhost:8080/",
     "height": 441
    },
    "id": "lOpX332AVstA",
    "outputId": "ebbace87-82cc-4e3b-9440-f8d8c10d08b7"
   },
   "outputs": [],
   "source": [
    "reg_model = best_model[\"regresion\"]\n",
    "fake_df = best_model[\"polinomial\"].transform(X_val)\n",
    "print(f\"Intercepto: {reg_model.intercept_}\")\n",
    "coef = list(\n",
    "    zip([\"Intercepto\"] + list(fake_df.columns), [reg_model.intercept_] + list(reg_model.coef_))\n",
    ")\n",
    "coef = pd.DataFrame(coef, columns=[\"Variable\", \"Parámetro\"])\n",
    "coef"
   ]
  },
  {
   "cell_type": "code",
   "execution_count": null,
   "id": "e9ebf460",
   "metadata": {
    "colab": {
     "base_uri": "https://localhost:8080/",
     "height": 423
    },
    "id": "EUvheoTsW2SN",
    "outputId": "3d3be266-8902-46ca-99a6-5b96133a7a82"
   },
   "outputs": [],
   "source": [
    "coef.sort_values(\"Parámetro\")"
   ]
  },
  {
   "cell_type": "code",
   "execution_count": null,
   "id": "d54caf54",
   "metadata": {
    "colab": {
     "base_uri": "https://localhost:8080/",
     "height": 80
    },
    "id": "b0ErhLliWldS",
    "outputId": "d3274cd1-6d86-4569-d98a-20efc2405833"
   },
   "outputs": [],
   "source": [
    "coef[coef[\"Parámetro\"].between(-1, 1)]"
   ]
  },
  {
   "cell_type": "code",
   "execution_count": null,
   "id": "096cc773",
   "metadata": {
    "colab": {
     "base_uri": "https://localhost:8080/"
    },
    "id": "6gZhsvIYXJOf",
    "outputId": "8a9fe673-463a-46a5-e780-e476c287a42b"
   },
   "outputs": [],
   "source": [
    "from joblib import dump, load\n",
    "\n",
    "dump(best_model, \"poly_regressor.pkl\")"
   ]
  }
 ],
 "metadata": {
  "jupytext": {
   "encoding": "# -*- coding: utf-8 -*-",
   "main_language": "python"
  },
  "kernelspec": {
   "display_name": "Python 3",
   "name": "python3"
  }
 },
 "nbformat": 4,
 "nbformat_minor": 5
}
