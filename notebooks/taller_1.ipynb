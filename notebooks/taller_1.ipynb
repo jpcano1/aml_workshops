{
 "cells": [
  {
   "cell_type": "markdown",
   "metadata": {
    "id": "rft1MP5eCPav"
   },
   "source": [
    "# **Análisis con Machine Learning**\n",
    "## **Taller 1**\n",
    "#### **Andrea Bayona - Juan Pablo Cano**\n",
    "\n",
    "\n",
    "En la actualidad, el sector inmobiliario ruso está en pleno auge. Ofrece muchas oportunidades emocionantes y un alto rendimiento en cuanto a estilos de vida e inversiones. El mercado inmobiliario lleva varios años en fase de crecimiento, lo que significa que todavía se pueden encontrar propiedades a precios muy atractivos, pero es muy probable que aumenten en el futuro. Para poder entender el mercado, una inmobiliaria rusa le ha brindado la información de la venta de más de 45 mil inmuebles entre los años de 2018 y 2021. Y quieren entender cuáles son las características principales que inciden en los precios de venta, para poder proponer planes de construcción de inmuebles en las áreas urbanas disponibles, que tomen en cuenta estas características."
   ]
  },
  {
   "cell_type": "code",
   "execution_count": 1,
   "metadata": {
    "colab": {
     "base_uri": "https://localhost:8080/",
     "height": 84,
     "referenced_widgets": [
      "da6849b758724420a2c2a3e7c5c3f505",
      "956516e1194f4450b9d4c8e5c1f0977a",
      "48ab59530903488cbd827bf59e4b1824",
      "c4c9cbb61af04b25a540245a2f04adee",
      "32c598436a2644beb22999785a1885ef",
      "6d19200d68f94a20a9abab52074ef614",
      "47130d4e4d9347f98ab9d59f2d6be920",
      "4bbc39fb5f2c470193afae3666ba5b54",
      "b7fd518dd7ee44d48d515bb647d56a3c",
      "48f2c85ad73a47108db1041f4edbe64d",
      "35a7c05519454f4db95f6e2911fae35e"
     ]
    },
    "executionInfo": {
     "elapsed": 1665,
     "status": "ok",
     "timestamp": 1645572040968,
     "user": {
      "displayName": "Juan Pablo Cano",
      "photoUrl": "https://lh3.googleusercontent.com/a-/AOh14Ggpvl16I60w7jnrbdVFshSpDWtSuXlYdGvZAOpQXQ=s64",
      "userId": "14080729078587151746"
     },
     "user_tz": 300
    },
    "id": "Tb2Jg3f9jx-S",
    "outputId": "54f1873e-3c67-40c8-a1e1-61adced934ff"
   },
   "outputs": [
    {
     "name": "stdout",
     "output_type": "stream",
     "text": [
      "shred: setup_colab_general.py: failed to open for writing: No such file or directory\n"
     ]
    },
    {
     "data": {
      "application/vnd.jupyter.widget-view+json": {
       "model_id": "da6849b758724420a2c2a3e7c5c3f505",
       "version_major": 2,
       "version_minor": 0
      },
      "text/plain": [
       "  0%|          | 0/3 [00:00<?, ?KB/s]"
      ]
     },
     "metadata": {},
     "output_type": "display_data"
    },
    {
     "name": "stdout",
     "output_type": "stream",
     "text": [
      "General Functions Enabled Successfully\n"
     ]
    }
   ],
   "source": [
    "!shred -u setup_colab_general.py\n",
    "!wget -q \"https://github.com/jpcano1/python_utils/raw/main/setup_colab_general.py\" -O setup_colab_general.py\n",
    "import setup_colab_general as setup_general\n",
    "\n",
    "setup_general.setup_general()"
   ]
  },
  {
   "cell_type": "code",
   "execution_count": 2,
   "metadata": {
    "colab": {
     "base_uri": "https://localhost:8080/"
    },
    "executionInfo": {
     "elapsed": 40618,
     "status": "ok",
     "timestamp": 1645572082384,
     "user": {
      "displayName": "Juan Pablo Cano",
      "photoUrl": "https://lh3.googleusercontent.com/a-/AOh14Ggpvl16I60w7jnrbdVFshSpDWtSuXlYdGvZAOpQXQ=s64",
      "userId": "14080729078587151746"
     },
     "user_tz": 300
    },
    "id": "yqAdW4WNlYXN",
    "outputId": "d8b7737c-aa12-450b-edac-c7915a3b1a02"
   },
   "outputs": [
    {
     "name": "stdout",
     "output_type": "stream",
     "text": [
      "\u001b[?25l\n",
      "\u001b[?25h\u001b[?25l\n",
      "\u001b[?25h\u001b[?25l\n",
      "\u001b[?25h\u001b[?25l\n",
      "\u001b[?25h\u001b[?25l\n",
      "\u001b[?25h\u001b[?25l\n",
      "\u001b[?25h\u001b[?25l\n",
      "\u001b[?25h\u001b[?25l\n",
      "\u001b[?25h\u001b[?25l\n",
      "\u001b[?25h  Building wheel for pandas-profiling (setup.py) ... \u001b[?25l\u001b[?25hdone\n",
      "  Building wheel for htmlmin (setup.py) ... \u001b[?25l\u001b[?25hdone\n",
      "  Building wheel for imagehash (setup.py) ... \u001b[?25l\u001b[?25hdone\n",
      "\u001b[31mERROR: pip's dependency resolver does not currently take into account all the packages that are installed. This behaviour is the source of the following dependency conflicts.\n",
      "google-colab 1.0.0 requires requests~=2.23.0, but you have requests 2.27.1 which is incompatible.\n",
      "datascience 0.10.6 requires folium==0.2.1, but you have folium 0.8.3 which is incompatible.\n",
      "albumentations 0.1.12 requires imgaug<0.2.7,>=0.2.5, but you have imgaug 0.2.9 which is incompatible.\u001b[0m\n"
     ]
    }
   ],
   "source": [
    "!pip install --disable-pip-version-check --progress-bar off -q https://github.com/pandas-profiling/pandas-profiling/archive/master.zip\n",
    "!pip install --disable-pip-version-check --progress-bar off -q tabulate"
   ]
  },
  {
   "cell_type": "markdown",
   "metadata": {
    "id": "Am5V_Yb1ntVC"
   },
   "source": [
    "## **Importando la librerías necesarias**"
   ]
  },
  {
   "cell_type": "code",
   "execution_count": 35,
   "metadata": {
    "executionInfo": {
     "elapsed": 187,
     "status": "ok",
     "timestamp": 1645573796627,
     "user": {
      "displayName": "Juan Pablo Cano",
      "photoUrl": "https://lh3.googleusercontent.com/a-/AOh14Ggpvl16I60w7jnrbdVFshSpDWtSuXlYdGvZAOpQXQ=s64",
      "userId": "14080729078587151746"
     },
     "user_tz": 300
    },
    "id": "ebTvp-cCwAsQ"
   },
   "outputs": [],
   "source": [
    "import numpy as np\n",
    "import pandas as pd\n",
    "\n",
    "import os\n",
    "\n",
    "import matplotlib.pyplot as plt\n",
    "\n",
    "plt.style.use(\"seaborn-deep\")\n",
    "\n",
    "from utils import general as gen\n",
    "\n",
    "import pandas_profiling\n",
    "\n",
    "from sklearn.linear_model import Lasso, Ridge\n",
    "from sklearn.model_selection import train_test_split, GridSearchCV\n",
    "from sklearn.preprocessing import PolynomialFeatures\n",
    "from sklearn.linear_model import LinearRegression\n",
    "from sklearn.metrics import r2_score, mean_squared_error, mean_absolute_error\n",
    "from sklearn.pipeline import Pipeline\n",
    "from sklearn.preprocessing import StandardScaler\n",
    "from sklearn.base import BaseEstimator, TransformerMixin\n",
    "\n",
    "# Librerías extras\n",
    "import itertools\n",
    "from tabulate import tabulate\n",
    "\n",
    "from typing import Optional"
   ]
  },
  {
   "cell_type": "code",
   "execution_count": 5,
   "metadata": {
    "colab": {
     "base_uri": "https://localhost:8080/",
     "height": 49,
     "referenced_widgets": [
      "8b89567e354a4e40a1172f82916a511c",
      "e8b207d9f4264815a5eb80159e03ddb1",
      "fc31b040db6c4d4aa48c642408bb1dd4",
      "31dee1517710491bb38383b2de73c64d",
      "4cbc8c79094942caa11b2a5c56395c7c",
      "4ff3b90cdb4e477995c1c542be1d247f",
      "906cd9ed90ad47858431e96c0d1a2795",
      "211dd72ef9444b07917d587a66792702",
      "be1538ff3fd64530bbefe18ecd152d3e",
      "a83080648e6942ab99ad26b7ab30d62e",
      "89e6287d42794cfe9e0e8833f3401dc0"
     ]
    },
    "executionInfo": {
     "elapsed": 1241,
     "status": "ok",
     "timestamp": 1645572230131,
     "user": {
      "displayName": "Juan Pablo Cano",
      "photoUrl": "https://lh3.googleusercontent.com/a-/AOh14Ggpvl16I60w7jnrbdVFshSpDWtSuXlYdGvZAOpQXQ=s64",
      "userId": "14080729078587151746"
     },
     "user_tz": 300
    },
    "id": "CtzhV51Hwa5p",
    "outputId": "ca62a01d-d1a9-4d6f-935a-806dba6f63b6"
   },
   "outputs": [
    {
     "data": {
      "application/vnd.jupyter.widget-view+json": {
       "model_id": "8b89567e354a4e40a1172f82916a511c",
       "version_major": 2,
       "version_minor": 0
      },
      "text/plain": [
       "  0%|          | 0/1971 [00:00<?, ?KB/s]"
      ]
     },
     "metadata": {},
     "output_type": "display_data"
    }
   ],
   "source": [
    "data_url = (\n",
    "    \"https://raw.githubusercontent.com/\"\n",
    "    \"Camilojaravila/202210_MINE-4206_ANAL\"\n",
    "    \"ISIS_CON_MACHINE_LEARNING/main/Taller%\"\n",
    "    \"201/russian_prices.csv\"\n",
    ")\n",
    "gen.download_content(data_url, filename=\"russian_prices.csv\")"
   ]
  },
  {
   "cell_type": "markdown",
   "metadata": {
    "id": "IuYNGV_wnxjN"
   },
   "source": [
    "## **Lectura y perfilamiento**\n",
    "\n",
    "###**Diccionario de Datos**\n",
    "La inmobiliaria ha construido el siguiente diccionario de datos:\n",
    "\n",
    "* date - Fecha de publicación del anuncio.\n",
    "* time - Tiempo que la publicación estuvo activo.\n",
    "* geo_lat - Latitud.\n",
    "* geo_lon - Longitud.\n",
    "* region - Region de Rusia. Hay 85 regiones en total.\n",
    "* building_type - Tipo de Fachada. 0 - Other. 1 - Panel. 2 - Monolithic. 3 - * Brick. 4 - Blocky. 5 - Wooden.\n",
    "* object_type - Tipo de Apartmento. 1 - Secondary real estate market; 2 - New * building.\n",
    "* level - Piso del Apartamento.\n",
    "* levels - Número de pisos.\n",
    "* rooms - Número de Habitaciones. Si el valor es \"-1\", Significa que es un \"studio apartment\".\n",
    "* area - Área total del apartamento (m2).\n",
    "* kitchen_area - Área de la Cocina (m2).\n",
    "* price - Precio. En rublos"
   ]
  },
  {
   "cell_type": "markdown",
   "metadata": {
    "id": "tvVbLTlBE6mh"
   },
   "source": [
    "A continuación, se leen los datos y se revisan las primeras líneas para verficar que la carga fue exitosa"
   ]
  },
  {
   "cell_type": "code",
   "execution_count": 72,
   "metadata": {
    "executionInfo": {
     "elapsed": 160,
     "status": "ok",
     "timestamp": 1645574085863,
     "user": {
      "displayName": "Juan Pablo Cano",
      "photoUrl": "https://lh3.googleusercontent.com/a-/AOh14Ggpvl16I60w7jnrbdVFshSpDWtSuXlYdGvZAOpQXQ=s64",
      "userId": "14080729078587151746"
     },
     "user_tz": 300
    },
    "id": "kj0nEuMvxWad"
   },
   "outputs": [],
   "source": [
    "russian_prices_df = pd.read_csv(\"data/russian_prices.csv\")"
   ]
  },
  {
   "cell_type": "code",
   "execution_count": 73,
   "metadata": {
    "colab": {
     "base_uri": "https://localhost:8080/",
     "height": 206
    },
    "executionInfo": {
     "elapsed": 245,
     "status": "ok",
     "timestamp": 1645574086316,
     "user": {
      "displayName": "Juan Pablo Cano",
      "photoUrl": "https://lh3.googleusercontent.com/a-/AOh14Ggpvl16I60w7jnrbdVFshSpDWtSuXlYdGvZAOpQXQ=s64",
      "userId": "14080729078587151746"
     },
     "user_tz": 300
    },
    "id": "2wS1sFwMj6uO",
    "outputId": "29f52ad1-51fe-4ab6-8e9b-35481abe4192"
   },
   "outputs": [
    {
     "data": {
      "text/html": [
       "\n",
       "  <div id=\"df-25387257-9d16-4e40-b06e-a6dd4b508e35\">\n",
       "    <div class=\"colab-df-container\">\n",
       "      <div>\n",
       "<style scoped>\n",
       "    .dataframe tbody tr th:only-of-type {\n",
       "        vertical-align: middle;\n",
       "    }\n",
       "\n",
       "    .dataframe tbody tr th {\n",
       "        vertical-align: top;\n",
       "    }\n",
       "\n",
       "    .dataframe thead th {\n",
       "        text-align: right;\n",
       "    }\n",
       "</style>\n",
       "<table border=\"1\" class=\"dataframe\">\n",
       "  <thead>\n",
       "    <tr style=\"text-align: right;\">\n",
       "      <th></th>\n",
       "      <th>Unnamed: 0</th>\n",
       "      <th>price</th>\n",
       "      <th>date</th>\n",
       "      <th>time</th>\n",
       "      <th>geo_lat</th>\n",
       "      <th>geo_lon</th>\n",
       "      <th>region</th>\n",
       "      <th>building_type</th>\n",
       "      <th>level</th>\n",
       "      <th>levels</th>\n",
       "      <th>rooms</th>\n",
       "      <th>area</th>\n",
       "      <th>kitchen_area</th>\n",
       "      <th>object_type</th>\n",
       "    </tr>\n",
       "  </thead>\n",
       "  <tbody>\n",
       "    <tr>\n",
       "      <th>0</th>\n",
       "      <td>14040</td>\n",
       "      <td>3900000</td>\n",
       "      <td>2018-09-10</td>\n",
       "      <td>12:40:14</td>\n",
       "      <td>55.786480</td>\n",
       "      <td>49.223459</td>\n",
       "      <td>2922.0</td>\n",
       "      <td>1.0</td>\n",
       "      <td>10.0</td>\n",
       "      <td>11.0</td>\n",
       "      <td>3.0</td>\n",
       "      <td>67.00</td>\n",
       "      <td>8.80</td>\n",
       "      <td>1.0</td>\n",
       "    </tr>\n",
       "    <tr>\n",
       "      <th>1</th>\n",
       "      <td>24608</td>\n",
       "      <td>4250000</td>\n",
       "      <td>2018-09-11</td>\n",
       "      <td>17:26:15</td>\n",
       "      <td>55.905045</td>\n",
       "      <td>37.393578</td>\n",
       "      <td>81.0</td>\n",
       "      <td>1.0</td>\n",
       "      <td>25.0</td>\n",
       "      <td>25.0</td>\n",
       "      <td>1.0</td>\n",
       "      <td>39.00</td>\n",
       "      <td>10.50</td>\n",
       "      <td>1.0</td>\n",
       "    </tr>\n",
       "    <tr>\n",
       "      <th>2</th>\n",
       "      <td>76636</td>\n",
       "      <td>4340360</td>\n",
       "      <td>2018-09-18</td>\n",
       "      <td>02:35:04</td>\n",
       "      <td>59.882717</td>\n",
       "      <td>30.451298</td>\n",
       "      <td>2661.0</td>\n",
       "      <td>0.0</td>\n",
       "      <td>4.0</td>\n",
       "      <td>27.0</td>\n",
       "      <td>1.0</td>\n",
       "      <td>57.11</td>\n",
       "      <td>11.38</td>\n",
       "      <td>1.0</td>\n",
       "    </tr>\n",
       "    <tr>\n",
       "      <th>3</th>\n",
       "      <td>31944</td>\n",
       "      <td>8000000</td>\n",
       "      <td>2018-09-12</td>\n",
       "      <td>21:40:17</td>\n",
       "      <td>55.640462</td>\n",
       "      <td>37.359415</td>\n",
       "      <td>3.0</td>\n",
       "      <td>1.0</td>\n",
       "      <td>1.0</td>\n",
       "      <td>17.0</td>\n",
       "      <td>3.0</td>\n",
       "      <td>74.50</td>\n",
       "      <td>10.00</td>\n",
       "      <td>1.0</td>\n",
       "    </tr>\n",
       "    <tr>\n",
       "      <th>4</th>\n",
       "      <td>82427</td>\n",
       "      <td>2750000</td>\n",
       "      <td>2018-09-18</td>\n",
       "      <td>06:18:38</td>\n",
       "      <td>55.042053</td>\n",
       "      <td>82.940926</td>\n",
       "      <td>9654.0</td>\n",
       "      <td>1.0</td>\n",
       "      <td>1.0</td>\n",
       "      <td>5.0</td>\n",
       "      <td>2.0</td>\n",
       "      <td>44.60</td>\n",
       "      <td>6.00</td>\n",
       "      <td>1.0</td>\n",
       "    </tr>\n",
       "  </tbody>\n",
       "</table>\n",
       "</div>\n",
       "      <button class=\"colab-df-convert\" onclick=\"convertToInteractive('df-25387257-9d16-4e40-b06e-a6dd4b508e35')\"\n",
       "              title=\"Convert this dataframe to an interactive table.\"\n",
       "              style=\"display:none;\">\n",
       "        \n",
       "  <svg xmlns=\"http://www.w3.org/2000/svg\" height=\"24px\"viewBox=\"0 0 24 24\"\n",
       "       width=\"24px\">\n",
       "    <path d=\"M0 0h24v24H0V0z\" fill=\"none\"/>\n",
       "    <path d=\"M18.56 5.44l.94 2.06.94-2.06 2.06-.94-2.06-.94-.94-2.06-.94 2.06-2.06.94zm-11 1L8.5 8.5l.94-2.06 2.06-.94-2.06-.94L8.5 2.5l-.94 2.06-2.06.94zm10 10l.94 2.06.94-2.06 2.06-.94-2.06-.94-.94-2.06-.94 2.06-2.06.94z\"/><path d=\"M17.41 7.96l-1.37-1.37c-.4-.4-.92-.59-1.43-.59-.52 0-1.04.2-1.43.59L10.3 9.45l-7.72 7.72c-.78.78-.78 2.05 0 2.83L4 21.41c.39.39.9.59 1.41.59.51 0 1.02-.2 1.41-.59l7.78-7.78 2.81-2.81c.8-.78.8-2.07 0-2.86zM5.41 20L4 18.59l7.72-7.72 1.47 1.35L5.41 20z\"/>\n",
       "  </svg>\n",
       "      </button>\n",
       "      \n",
       "  <style>\n",
       "    .colab-df-container {\n",
       "      display:flex;\n",
       "      flex-wrap:wrap;\n",
       "      gap: 12px;\n",
       "    }\n",
       "\n",
       "    .colab-df-convert {\n",
       "      background-color: #E8F0FE;\n",
       "      border: none;\n",
       "      border-radius: 50%;\n",
       "      cursor: pointer;\n",
       "      display: none;\n",
       "      fill: #1967D2;\n",
       "      height: 32px;\n",
       "      padding: 0 0 0 0;\n",
       "      width: 32px;\n",
       "    }\n",
       "\n",
       "    .colab-df-convert:hover {\n",
       "      background-color: #E2EBFA;\n",
       "      box-shadow: 0px 1px 2px rgba(60, 64, 67, 0.3), 0px 1px 3px 1px rgba(60, 64, 67, 0.15);\n",
       "      fill: #174EA6;\n",
       "    }\n",
       "\n",
       "    [theme=dark] .colab-df-convert {\n",
       "      background-color: #3B4455;\n",
       "      fill: #D2E3FC;\n",
       "    }\n",
       "\n",
       "    [theme=dark] .colab-df-convert:hover {\n",
       "      background-color: #434B5C;\n",
       "      box-shadow: 0px 1px 3px 1px rgba(0, 0, 0, 0.15);\n",
       "      filter: drop-shadow(0px 1px 2px rgba(0, 0, 0, 0.3));\n",
       "      fill: #FFFFFF;\n",
       "    }\n",
       "  </style>\n",
       "\n",
       "      <script>\n",
       "        const buttonEl =\n",
       "          document.querySelector('#df-25387257-9d16-4e40-b06e-a6dd4b508e35 button.colab-df-convert');\n",
       "        buttonEl.style.display =\n",
       "          google.colab.kernel.accessAllowed ? 'block' : 'none';\n",
       "\n",
       "        async function convertToInteractive(key) {\n",
       "          const element = document.querySelector('#df-25387257-9d16-4e40-b06e-a6dd4b508e35');\n",
       "          const dataTable =\n",
       "            await google.colab.kernel.invokeFunction('convertToInteractive',\n",
       "                                                     [key], {});\n",
       "          if (!dataTable) return;\n",
       "\n",
       "          const docLinkHtml = 'Like what you see? Visit the ' +\n",
       "            '<a target=\"_blank\" href=https://colab.research.google.com/notebooks/data_table.ipynb>data table notebook</a>'\n",
       "            + ' to learn more about interactive tables.';\n",
       "          element.innerHTML = '';\n",
       "          dataTable['output_type'] = 'display_data';\n",
       "          await google.colab.output.renderOutput(dataTable, element);\n",
       "          const docLink = document.createElement('div');\n",
       "          docLink.innerHTML = docLinkHtml;\n",
       "          element.appendChild(docLink);\n",
       "        }\n",
       "      </script>\n",
       "    </div>\n",
       "  </div>\n",
       "  "
      ],
      "text/plain": [
       "   Unnamed: 0    price        date  ...   area  kitchen_area  object_type\n",
       "0       14040  3900000  2018-09-10  ...  67.00          8.80          1.0\n",
       "1       24608  4250000  2018-09-11  ...  39.00         10.50          1.0\n",
       "2       76636  4340360  2018-09-18  ...  57.11         11.38          1.0\n",
       "3       31944  8000000  2018-09-12  ...  74.50         10.00          1.0\n",
       "4       82427  2750000  2018-09-18  ...  44.60          6.00          1.0\n",
       "\n",
       "[5 rows x 14 columns]"
      ]
     },
     "execution_count": 73,
     "metadata": {},
     "output_type": "execute_result"
    }
   ],
   "source": [
    "russian_prices_df.head()"
   ]
  },
  {
   "cell_type": "code",
   "execution_count": 74,
   "metadata": {
    "colab": {
     "base_uri": "https://localhost:8080/"
    },
    "executionInfo": {
     "elapsed": 3,
     "status": "ok",
     "timestamp": 1645574087350,
     "user": {
      "displayName": "Juan Pablo Cano",
      "photoUrl": "https://lh3.googleusercontent.com/a-/AOh14Ggpvl16I60w7jnrbdVFshSpDWtSuXlYdGvZAOpQXQ=s64",
      "userId": "14080729078587151746"
     },
     "user_tz": 300
    },
    "id": "wfg_2vpIj8-_",
    "outputId": "56f84ce2-f61a-479a-89f8-4d85b12eb890"
   },
   "outputs": [
    {
     "name": "stdout",
     "output_type": "stream",
     "text": [
      "<class 'pandas.core.frame.DataFrame'>\n",
      "RangeIndex: 67762 entries, 0 to 67761\n",
      "Data columns (total 14 columns):\n",
      " #   Column         Non-Null Count  Dtype  \n",
      "---  ------         --------------  -----  \n",
      " 0   Unnamed: 0     67762 non-null  int64  \n",
      " 1   price          67762 non-null  int64  \n",
      " 2   date           67762 non-null  object \n",
      " 3   time           67762 non-null  object \n",
      " 4   geo_lat        67762 non-null  float64\n",
      " 5   geo_lon        67762 non-null  float64\n",
      " 6   region         67761 non-null  float64\n",
      " 7   building_type  67761 non-null  float64\n",
      " 8   level          67761 non-null  float64\n",
      " 9   levels         67761 non-null  float64\n",
      " 10  rooms          67761 non-null  float64\n",
      " 11  area           67761 non-null  float64\n",
      " 12  kitchen_area   67761 non-null  float64\n",
      " 13  object_type    67761 non-null  float64\n",
      "dtypes: float64(10), int64(2), object(2)\n",
      "memory usage: 7.2+ MB\n"
     ]
    }
   ],
   "source": [
    "russian_prices_df.info()"
   ]
  },
  {
   "cell_type": "code",
   "execution_count": 75,
   "metadata": {
    "executionInfo": {
     "elapsed": 147,
     "status": "ok",
     "timestamp": 1645574091462,
     "user": {
      "displayName": "Juan Pablo Cano",
      "photoUrl": "https://lh3.googleusercontent.com/a-/AOh14Ggpvl16I60w7jnrbdVFshSpDWtSuXlYdGvZAOpQXQ=s64",
      "userId": "14080729078587151746"
     },
     "user_tz": 300
    },
    "id": "Wl1BKpS4xAw2"
   },
   "outputs": [],
   "source": [
    "profiler = pandas_profiling.ProfileReport(russian_prices_df, dark_mode=True)"
   ]
  },
  {
   "cell_type": "markdown",
   "metadata": {
    "id": "zfOPUCD0wNxc"
   },
   "source": [
    "- El perfilamiento se encuentra en los anexos."
   ]
  },
  {
   "cell_type": "code",
   "execution_count": 76,
   "metadata": {
    "colab": {
     "base_uri": "https://localhost:8080/",
     "height": 145,
     "referenced_widgets": [
      "1b2ac17108874ba4a03702d74c083dc1",
      "d57be4b11b4e4443ac2fe1436cf1d633",
      "c1a882ef442d4c199d9e88773fe54b26",
      "fc9a3ee5d69741128e51dfe33943eb5f",
      "be84857a1576469db69b3a111f2e3c81",
      "f6a81f831a3e439e81d1200b6e0a6c22",
      "6ad903acb3df43e39cc2f1e4d19a8da9",
      "2bf6ccfe45994627aa524c74340388eb",
      "cef2e0d6e9314b96b031cbad27c49443",
      "ce7a820eda4c4a268334d7f4bb255145",
      "30ce20111cd14d43b73d6c050e6e1ae5",
      "1dc78e23549e4f23a5c8b7270870e848",
      "8795a8b7db3845209ef5ac9d059b6b9d",
      "3347118a46cf49849f14a63968123bb5",
      "ae4085daf7974802b08a130c68fc5822",
      "37c66de59f37462bbe83534a584ee2a3",
      "8eab4d065a674a8782bab260ea09c4f2",
      "27067ce81281487ca1d82c1f5a0b2b9a",
      "133eaa5acb994a4abeb6a64dbae8b997",
      "57258020a1fb4cf1a68b2b728f42aee0",
      "6ceff0541d0244a694ed328d766fe1ad",
      "8034b9d4d15341b2925b24402be424c9",
      "9f3657a8b98e4728a1b3d98116550981",
      "d177c3f540a8461ebfa238c19cbba19d",
      "6364297eeda24bd29e13ae6234e5d9c2",
      "b416ee454d844e3f8176567b352807c8",
      "4e27d92afd8449648837dfbbff484417",
      "8cd0a2b0061d4e69aa96639c03df6360",
      "d0a8733532a845c68bde44a48b3b84b2",
      "19df0d3f78db4cd5a6560a4536e14232",
      "41e01814145d4c8c97e1e51b49d558d6",
      "1d8538337bc74194849c4ef1587c6255",
      "5dce4f679e0b44a7bddd69c737ce997f",
      "467c5676b03844a290f31c008afce209",
      "f2f5a385f0d6456eaf01bd6b38b83641",
      "b780269ebd68448cbf51d3969da1f122",
      "db8a2cb9aca442b88196deffae9f4d7e",
      "b81c840d52fd4b48b8bb77c33339380c",
      "a45bd7fed3ab40b2ae9da19bea0051be",
      "9e12d145b4194735b50cd0e175da6662",
      "f8796a8e4f5445609938d6ee9f7ab925",
      "337e212047e649b0ac6a918e0c6e8381",
      "94dc15d966db4637b335c61bd2f7c2ec",
      "492240f2ce6c46c09423ba877ed783cd"
     ]
    },
    "executionInfo": {
     "elapsed": 49934,
     "status": "ok",
     "timestamp": 1645574142258,
     "user": {
      "displayName": "Juan Pablo Cano",
      "photoUrl": "https://lh3.googleusercontent.com/a-/AOh14Ggpvl16I60w7jnrbdVFshSpDWtSuXlYdGvZAOpQXQ=s64",
      "userId": "14080729078587151746"
     },
     "user_tz": 300
    },
    "id": "ztSi0cuPxffs",
    "outputId": "d0525cc1-b35f-4841-81a4-5d355736c828"
   },
   "outputs": [
    {
     "data": {
      "application/vnd.jupyter.widget-view+json": {
       "model_id": "1b2ac17108874ba4a03702d74c083dc1",
       "version_major": 2,
       "version_minor": 0
      },
      "text/plain": [
       "Summarize dataset:   0%|          | 0/5 [00:00<?, ?it/s]"
      ]
     },
     "metadata": {},
     "output_type": "display_data"
    },
    {
     "data": {
      "application/vnd.jupyter.widget-view+json": {
       "model_id": "1dc78e23549e4f23a5c8b7270870e848",
       "version_major": 2,
       "version_minor": 0
      },
      "text/plain": [
       "Generate report structure:   0%|          | 0/1 [00:00<?, ?it/s]"
      ]
     },
     "metadata": {},
     "output_type": "display_data"
    },
    {
     "data": {
      "application/vnd.jupyter.widget-view+json": {
       "model_id": "9f3657a8b98e4728a1b3d98116550981",
       "version_major": 2,
       "version_minor": 0
      },
      "text/plain": [
       "Render HTML:   0%|          | 0/1 [00:00<?, ?it/s]"
      ]
     },
     "metadata": {},
     "output_type": "display_data"
    },
    {
     "data": {
      "application/vnd.jupyter.widget-view+json": {
       "model_id": "467c5676b03844a290f31c008afce209",
       "version_major": 2,
       "version_minor": 0
      },
      "text/plain": [
       "Export report to file:   0%|          | 0/1 [00:00<?, ?it/s]"
      ]
     },
     "metadata": {},
     "output_type": "display_data"
    }
   ],
   "source": [
    "if not os.path.exists(\"profiling_reports\"):\n",
    "    os.makedirs(\"profiling_reports\")\n",
    "profiler.to_file(\"profiling_reports/russian_prices_profile.html\")"
   ]
  },
  {
   "cell_type": "markdown",
   "metadata": {
    "id": "oO11RRE2VWAN"
   },
   "source": [
    "- Las siguientes columnas se eliminaron bajo el supuesto de que no son necesarias para el objetivo de negocio. La primera columna es un identificador de propiedad, ergo, no es significativa. Las columnas `time` y `date` son columnas relacionadas a la publicación, más no a la propiedad perse, por lo tanto, no son significativas para nuestro modelo."
   ]
  },
  {
   "cell_type": "code",
   "execution_count": 77,
   "metadata": {
    "executionInfo": {
     "elapsed": 36,
     "status": "ok",
     "timestamp": 1645574142259,
     "user": {
      "displayName": "Juan Pablo Cano",
      "photoUrl": "https://lh3.googleusercontent.com/a-/AOh14Ggpvl16I60w7jnrbdVFshSpDWtSuXlYdGvZAOpQXQ=s64",
      "userId": "14080729078587151746"
     },
     "user_tz": 300
    },
    "id": "xUQji5iQi4oY"
   },
   "outputs": [],
   "source": [
    "columns_to_delete = [\n",
    "    \"Unnamed: 0\",\n",
    "    \"time\",\n",
    "    \"date\",\n",
    "]"
   ]
  },
  {
   "cell_type": "code",
   "execution_count": 78,
   "metadata": {
    "executionInfo": {
     "elapsed": 34,
     "status": "ok",
     "timestamp": 1645574142260,
     "user": {
      "displayName": "Juan Pablo Cano",
      "photoUrl": "https://lh3.googleusercontent.com/a-/AOh14Ggpvl16I60w7jnrbdVFshSpDWtSuXlYdGvZAOpQXQ=s64",
      "userId": "14080729078587151746"
     },
     "user_tz": 300
    },
    "id": "HuVpJcPpjox-"
   },
   "outputs": [],
   "source": [
    "russian_prices_df.drop(columns=columns_to_delete, inplace=True)"
   ]
  },
  {
   "cell_type": "markdown",
   "metadata": {
    "id": "k9tWqKeNsACK"
   },
   "source": [
    "- Todas las columnas con valores nulos fueron removidas"
   ]
  },
  {
   "cell_type": "code",
   "execution_count": 79,
   "metadata": {
    "executionInfo": {
     "elapsed": 33,
     "status": "ok",
     "timestamp": 1645574142260,
     "user": {
      "displayName": "Juan Pablo Cano",
      "photoUrl": "https://lh3.googleusercontent.com/a-/AOh14Ggpvl16I60w7jnrbdVFshSpDWtSuXlYdGvZAOpQXQ=s64",
      "userId": "14080729078587151746"
     },
     "user_tz": 300
    },
    "id": "rdgm3ridkZhS"
   },
   "outputs": [],
   "source": [
    "russian_prices_df.dropna(inplace=True)"
   ]
  },
  {
   "cell_type": "code",
   "execution_count": 80,
   "metadata": {
    "colab": {
     "base_uri": "https://localhost:8080/"
    },
    "executionInfo": {
     "elapsed": 32,
     "status": "ok",
     "timestamp": 1645574142260,
     "user": {
      "displayName": "Juan Pablo Cano",
      "photoUrl": "https://lh3.googleusercontent.com/a-/AOh14Ggpvl16I60w7jnrbdVFshSpDWtSuXlYdGvZAOpQXQ=s64",
      "userId": "14080729078587151746"
     },
     "user_tz": 300
    },
    "id": "2fvSWw_hj1wS",
    "outputId": "8053a42a-3ee2-4a43-a733-40e5bbaf4fbb"
   },
   "outputs": [
    {
     "name": "stdout",
     "output_type": "stream",
     "text": [
      "<class 'pandas.core.frame.DataFrame'>\n",
      "Int64Index: 67761 entries, 0 to 67761\n",
      "Data columns (total 11 columns):\n",
      " #   Column         Non-Null Count  Dtype  \n",
      "---  ------         --------------  -----  \n",
      " 0   price          67761 non-null  int64  \n",
      " 1   geo_lat        67761 non-null  float64\n",
      " 2   geo_lon        67761 non-null  float64\n",
      " 3   region         67761 non-null  float64\n",
      " 4   building_type  67761 non-null  float64\n",
      " 5   level          67761 non-null  float64\n",
      " 6   levels         67761 non-null  float64\n",
      " 7   rooms          67761 non-null  float64\n",
      " 8   area           67761 non-null  float64\n",
      " 9   kitchen_area   67761 non-null  float64\n",
      " 10  object_type    67761 non-null  float64\n",
      "dtypes: float64(10), int64(1)\n",
      "memory usage: 6.2 MB\n"
     ]
    }
   ],
   "source": [
    "russian_prices_df.info()"
   ]
  },
  {
   "cell_type": "code",
   "execution_count": 81,
   "metadata": {
    "executionInfo": {
     "elapsed": 159,
     "status": "ok",
     "timestamp": 1645574146783,
     "user": {
      "displayName": "Juan Pablo Cano",
      "photoUrl": "https://lh3.googleusercontent.com/a-/AOh14Ggpvl16I60w7jnrbdVFshSpDWtSuXlYdGvZAOpQXQ=s64",
      "userId": "14080729078587151746"
     },
     "user_tz": 300
    },
    "id": "NXiS5wFokqHi"
   },
   "outputs": [],
   "source": [
    "russian_prices_df = russian_prices_df.apply(lambda x: x.astype(\"int32\"))\n",
    "russian_prices_df[\"object_type\"] = russian_prices_df[\"object_type\"].apply(\n",
    "    lambda x: 2 if x == 11 else x\n",
    ")\n",
    "russian_prices_df[\"rooms\"] = russian_prices_df[\"rooms\"].apply(\n",
    "    lambda x: -1 if x == -2 else x\n",
    ")"
   ]
  },
  {
   "cell_type": "code",
   "execution_count": 82,
   "metadata": {
    "executionInfo": {
     "elapsed": 192,
     "status": "ok",
     "timestamp": 1645574148264,
     "user": {
      "displayName": "Juan Pablo Cano",
      "photoUrl": "https://lh3.googleusercontent.com/a-/AOh14Ggpvl16I60w7jnrbdVFshSpDWtSuXlYdGvZAOpQXQ=s64",
      "userId": "14080729078587151746"
     },
     "user_tz": 300
    },
    "id": "dYivdCPnwfuo"
   },
   "outputs": [],
   "source": [
    "rows_to_drop = russian_prices_df.query(\n",
    "    \"kitchen_area + 5 >= area | area <= 10 | price <= 2000\"\n",
    ").index\n",
    "russian_prices_df = russian_prices_df.drop(rows_to_drop).reset_index(drop=True)"
   ]
  },
  {
   "cell_type": "code",
   "execution_count": 83,
   "metadata": {
    "executionInfo": {
     "elapsed": 4,
     "status": "ok",
     "timestamp": 1645574148456,
     "user": {
      "displayName": "Juan Pablo Cano",
      "photoUrl": "https://lh3.googleusercontent.com/a-/AOh14Ggpvl16I60w7jnrbdVFshSpDWtSuXlYdGvZAOpQXQ=s64",
      "userId": "14080729078587151746"
     },
     "user_tz": 300
    },
    "id": "V7BDrFLJmcN9"
   },
   "outputs": [],
   "source": [
    "X, y = russian_prices_df.drop(\"price\", axis=1), russian_prices_df[\"price\"]"
   ]
  },
  {
   "cell_type": "code",
   "execution_count": 84,
   "metadata": {
    "executionInfo": {
     "elapsed": 145,
     "status": "ok",
     "timestamp": 1645574149733,
     "user": {
      "displayName": "Juan Pablo Cano",
      "photoUrl": "https://lh3.googleusercontent.com/a-/AOh14Ggpvl16I60w7jnrbdVFshSpDWtSuXlYdGvZAOpQXQ=s64",
      "userId": "14080729078587151746"
     },
     "user_tz": 300
    },
    "id": "Gh_LIlQTmm0S"
   },
   "outputs": [],
   "source": [
    "full_X_train, X_test, full_y_train, y_test = train_test_split(\n",
    "    X, y, test_size=0.2, random_state=1234\n",
    ")\n",
    "X_train, X_val, y_train, y_val = train_test_split(\n",
    "    full_X_train, full_y_train, test_size=0.2, random_state=1234\n",
    ")"
   ]
  },
  {
   "cell_type": "code",
   "execution_count": 85,
   "metadata": {
    "colab": {
     "base_uri": "https://localhost:8080/"
    },
    "executionInfo": {
     "elapsed": 4,
     "status": "ok",
     "timestamp": 1645574149953,
     "user": {
      "displayName": "Juan Pablo Cano",
      "photoUrl": "https://lh3.googleusercontent.com/a-/AOh14Ggpvl16I60w7jnrbdVFshSpDWtSuXlYdGvZAOpQXQ=s64",
      "userId": "14080729078587151746"
     },
     "user_tz": 300
    },
    "id": "eEtwMvsAmogC",
    "outputId": "19421fab-345f-4dfc-c19b-f8ca0e9f6a41"
   },
   "outputs": [
    {
     "data": {
      "text/plain": [
       "((43323, 10), (43323,))"
      ]
     },
     "execution_count": 85,
     "metadata": {},
     "output_type": "execute_result"
    }
   ],
   "source": [
    "X_train.shape, y_train.shape"
   ]
  },
  {
   "cell_type": "code",
   "execution_count": 86,
   "metadata": {
    "colab": {
     "base_uri": "https://localhost:8080/"
    },
    "executionInfo": {
     "elapsed": 163,
     "status": "ok",
     "timestamp": 1645574152194,
     "user": {
      "displayName": "Juan Pablo Cano",
      "photoUrl": "https://lh3.googleusercontent.com/a-/AOh14Ggpvl16I60w7jnrbdVFshSpDWtSuXlYdGvZAOpQXQ=s64",
      "userId": "14080729078587151746"
     },
     "user_tz": 300
    },
    "id": "M3JwOPusnIpn",
    "outputId": "4814fcad-3e74-402f-84f7-f8754b00e18f"
   },
   "outputs": [
    {
     "data": {
      "text/plain": [
       "((10831, 10), (10831,))"
      ]
     },
     "execution_count": 86,
     "metadata": {},
     "output_type": "execute_result"
    }
   ],
   "source": [
    "X_val.shape, y_val.shape"
   ]
  },
  {
   "cell_type": "code",
   "execution_count": 87,
   "metadata": {
    "colab": {
     "base_uri": "https://localhost:8080/"
    },
    "executionInfo": {
     "elapsed": 5,
     "status": "ok",
     "timestamp": 1645574152360,
     "user": {
      "displayName": "Juan Pablo Cano",
      "photoUrl": "https://lh3.googleusercontent.com/a-/AOh14Ggpvl16I60w7jnrbdVFshSpDWtSuXlYdGvZAOpQXQ=s64",
      "userId": "14080729078587151746"
     },
     "user_tz": 300
    },
    "id": "0QveAb5em00v",
    "outputId": "9db249db-3c83-4469-b77f-0e8b2e325c4c"
   },
   "outputs": [
    {
     "data": {
      "text/plain": [
       "((13539, 10), (13539,))"
      ]
     },
     "execution_count": 87,
     "metadata": {},
     "output_type": "execute_result"
    }
   ],
   "source": [
    "X_test.shape, y_test.shape"
   ]
  },
  {
   "cell_type": "markdown",
   "metadata": {
    "id": "rP-CN-yeoJ_9"
   },
   "source": [
    "## **Modelamiento**"
   ]
  },
  {
   "cell_type": "markdown",
   "metadata": {
    "id": "16UKiXe_TM12"
   },
   "source": [
    "### **Regresión Polinómial**\n",
    "#### **Entrenamiento**"
   ]
  },
  {
   "cell_type": "markdown",
   "metadata": {
    "id": "zHyXQXfb2qAG"
   },
   "source": [
    "Se define la clase para realizar la transformación polinomial de nuetras variables"
   ]
  },
  {
   "cell_type": "code",
   "execution_count": 88,
   "metadata": {
    "executionInfo": {
     "elapsed": 149,
     "status": "ok",
     "timestamp": 1645574153990,
     "user": {
      "displayName": "Juan Pablo Cano",
      "photoUrl": "https://lh3.googleusercontent.com/a-/AOh14Ggpvl16I60w7jnrbdVFshSpDWtSuXlYdGvZAOpQXQ=s64",
      "userId": "14080729078587151746"
     },
     "user_tz": 300
    },
    "id": "1EeXFbK_pP7a"
   },
   "outputs": [],
   "source": [
    "class ToPolynomial(BaseEstimator, TransformerMixin):\n",
    "    def __init__(self, k: int = 2) -> None:\n",
    "        self.k = k\n",
    "\n",
    "    def fit(self, X, y=None):\n",
    "        return self\n",
    "\n",
    "    def transform(self, X: pd.DataFrame, y: Optional[pd.Series] = None) -> pd.DataFrame:\n",
    "        columns = X.columns\n",
    "        X_train_pol = pd.concat(\n",
    "            [X ** (i + 1) for i in range(self.k)], axis=1\n",
    "        )  # Polinomios sin interacciones\n",
    "        X_train_pol.columns = np.reshape(\n",
    "            [[i + \" \" + str(j + 1) for i in columns] for j in range(self.k)], -1\n",
    "        )\n",
    "        temp = pd.concat(\n",
    "            [X[i[0]] * X[i[1]] for i in list(itertools.combinations(columns, 2))],\n",
    "            axis=1,\n",
    "        )  # Combinaciones sólo de grado 1\n",
    "        temp.columns = [\" \".join(i) for i in list(itertools.combinations(columns, 2))]\n",
    "        X_train_pol = pd.concat([X_train_pol, temp], axis=1)\n",
    "        return X_train_pol"
   ]
  },
  {
   "cell_type": "markdown",
   "metadata": {
    "id": "Fj3hG4RM2wLO"
   },
   "source": [
    "Se crea un pipeline para encapsular los pasos de entrenamiento de nuestro modelo. Primero se realiza la transformación polinamial de las variables y estas se utilizan para entrenar el modelo de regresión lineal."
   ]
  },
  {
   "cell_type": "code",
   "execution_count": 89,
   "metadata": {
    "colab": {
     "base_uri": "https://localhost:8080/"
    },
    "executionInfo": {
     "elapsed": 280,
     "status": "ok",
     "timestamp": 1645574156411,
     "user": {
      "displayName": "Juan Pablo Cano",
      "photoUrl": "https://lh3.googleusercontent.com/a-/AOh14Ggpvl16I60w7jnrbdVFshSpDWtSuXlYdGvZAOpQXQ=s64",
      "userId": "14080729078587151746"
     },
     "user_tz": 300
    },
    "id": "2yMSJKDloOZi",
    "outputId": "8d1006f7-2e7a-46a7-82a4-7a5e1c059fac"
   },
   "outputs": [
    {
     "data": {
      "text/plain": [
       "Pipeline(steps=[('polinomial', ToPolynomial()),\n",
       "                ('regresion', LinearRegression())])"
      ]
     },
     "execution_count": 89,
     "metadata": {},
     "output_type": "execute_result"
    }
   ],
   "source": [
    "estimators = [(\"polinomial\", ToPolynomial()), (\"regresion\", LinearRegression())]\n",
    "\n",
    "pipe_pol = Pipeline(estimators)\n",
    "\n",
    "pipe_pol.fit(X_train, y_train)"
   ]
  },
  {
   "cell_type": "markdown",
   "metadata": {
    "id": "0G2Ruy0T4DUD"
   },
   "source": [
    " Parámetros entrenados por la Regresión Polinomial"
   ]
  },
  {
   "cell_type": "code",
   "execution_count": 90,
   "metadata": {
    "colab": {
     "base_uri": "https://localhost:8080/"
    },
    "executionInfo": {
     "elapsed": 7,
     "status": "ok",
     "timestamp": 1645574157051,
     "user": {
      "displayName": "Juan Pablo Cano",
      "photoUrl": "https://lh3.googleusercontent.com/a-/AOh14Ggpvl16I60w7jnrbdVFshSpDWtSuXlYdGvZAOpQXQ=s64",
      "userId": "14080729078587151746"
     },
     "user_tz": 300
    },
    "id": "eCPY09nsTcWK",
    "outputId": "d999de95-85a3-49f6-ca05-f1c73f1fdcdd"
   },
   "outputs": [
    {
     "name": "stdout",
     "output_type": "stream",
     "text": [
      "Intercept:  25817566.723638654\n",
      "Coefficients:  [-8.92076412e+05  5.64295045e+04 -1.08221750e+03  2.76505702e+06\n",
      " -3.16451939e+05  5.38375283e+05 -6.83112134e+06  2.98357902e+05\n",
      " -1.55917203e+06 -5.14782147e+05  9.85440825e+03  4.47107805e+02\n",
      "  6.73008236e-02 -5.20188364e+04 -3.39223963e+03  1.24114028e+04\n",
      " -4.79517473e+05  6.40316480e+01  1.00907804e+04 -1.54434644e+06\n",
      " -4.62126890e+03  1.10726155e+01 -4.49528403e+04  6.50572994e+03\n",
      " -9.03273500e+03  1.15535067e+04  2.02479794e+03  1.07165770e+04\n",
      "  3.34250641e+04  5.75566647e+00  1.61695292e+04 -8.18500439e+02\n",
      "  3.33053811e+03  3.31989798e+04 -1.61140848e+03 -3.72228665e+02\n",
      "  4.27802292e+04 -9.16064102e+01  1.19257020e+01 -2.57586845e+01\n",
      "  2.91048266e+02 -3.03490925e+01  7.12590625e+01  4.12209624e+01\n",
      " -4.45856840e+04  8.41017733e+04  1.91470009e+05 -9.23938897e+03\n",
      " -1.05188947e+05 -2.12812389e+05 -1.34627076e+04 -1.00385229e+05\n",
      "  5.98103040e+03  4.99623805e+03  1.26343080e+05  1.29473621e+05\n",
      " -5.59713563e+03 -2.32208424e+04 -1.41067943e+05  3.34880777e+04\n",
      "  1.11311404e+05  7.93891387e+05 -8.62713754e+02 -1.15107494e+05\n",
      "  6.14956603e+05]\n"
     ]
    }
   ],
   "source": [
    "reg_lineal = pipe_pol[\"regresion\"]\n",
    "\n",
    "print(\"Intercept: \", reg_lineal.intercept_)\n",
    "print(\"Coefficients: \", reg_lineal.coef_)"
   ]
  },
  {
   "cell_type": "markdown",
   "metadata": {
    "id": "epQPSIhSTWXo"
   },
   "source": [
    "#### **Validación**"
   ]
  },
  {
   "cell_type": "code",
   "execution_count": 91,
   "metadata": {
    "colab": {
     "base_uri": "https://localhost:8080/"
    },
    "executionInfo": {
     "elapsed": 270,
     "status": "ok",
     "timestamp": 1645574159588,
     "user": {
      "displayName": "Juan Pablo Cano",
      "photoUrl": "https://lh3.googleusercontent.com/a-/AOh14Ggpvl16I60w7jnrbdVFshSpDWtSuXlYdGvZAOpQXQ=s64",
      "userId": "14080729078587151746"
     },
     "user_tz": 300
    },
    "id": "-epy5ZCTT2hd",
    "outputId": "96f6cb63-c24b-4d9a-80fa-14631dd49364"
   },
   "outputs": [
    {
     "data": {
      "text/plain": [
       "array([2559380.32653597, 4544818.16249271, 4004780.6112587 , ...,\n",
       "       3739132.15558457, 2275916.68539064,  784168.60783669])"
      ]
     },
     "execution_count": 91,
     "metadata": {},
     "output_type": "execute_result"
    }
   ],
   "source": [
    "y_pred = pipe_pol.predict(X_val)\n",
    "y_pred"
   ]
  },
  {
   "cell_type": "code",
   "execution_count": 92,
   "metadata": {
    "colab": {
     "base_uri": "https://localhost:8080/"
    },
    "executionInfo": {
     "elapsed": 5,
     "status": "ok",
     "timestamp": 1645574159756,
     "user": {
      "displayName": "Juan Pablo Cano",
      "photoUrl": "https://lh3.googleusercontent.com/a-/AOh14Ggpvl16I60w7jnrbdVFshSpDWtSuXlYdGvZAOpQXQ=s64",
      "userId": "14080729078587151746"
     },
     "user_tz": 300
    },
    "id": "UzYpZljfT9qv",
    "outputId": "6418c3ba-368d-4a37-ddfa-e5388e7e7eea"
   },
   "outputs": [
    {
     "name": "stdout",
     "output_type": "stream",
     "text": [
      "------------ Polynomial Regression ------------\n",
      "R2-score: 0.0468936\n",
      "Residual sum of squares (MSE): 829070445903218.00000\n",
      "Mean absolute error: 2711813.51670\n"
     ]
    }
   ],
   "source": [
    "r2_poly = r2_score(y_val, y_pred)\n",
    "mse_poly = mean_squared_error(y_val, y_pred)\n",
    "mae_poly = mean_absolute_error(y_val, y_pred)\n",
    "\n",
    "print(\"------------ Polynomial Regression ------------\")\n",
    "print(f\"R2-score: {r2_poly:.7f}\")\n",
    "print(f\"Residual sum of squares (MSE): {mse_poly:.5f}\")\n",
    "print(f\"Mean absolute error: {mae_poly:.5f}\")"
   ]
  },
  {
   "cell_type": "markdown",
   "metadata": {
    "id": "hWv4uZTyeZ1l"
   },
   "source": [
    "#### **Comportamiento de los datos reales vs los datos predecidos**"
   ]
  },
  {
   "cell_type": "code",
   "execution_count": 93,
   "metadata": {
    "executionInfo": {
     "elapsed": 5,
     "status": "ok",
     "timestamp": 1645574162010,
     "user": {
      "displayName": "Juan Pablo Cano",
      "photoUrl": "https://lh3.googleusercontent.com/a-/AOh14Ggpvl16I60w7jnrbdVFshSpDWtSuXlYdGvZAOpQXQ=s64",
      "userId": "14080729078587151746"
     },
     "user_tz": 300
    },
    "id": "lt_fp3tjdVJy"
   },
   "outputs": [],
   "source": [
    "%matplotlib inline\n",
    "\n",
    "\n",
    "def draw_chart(y_val_p, y_pred_p, title, legend):\n",
    "    fig, axs = plt.subplots(1, figsize=(20, 10))\n",
    "\n",
    "    xvals = list(range(len(y_val_p[:50])))\n",
    "    axs.plot(xvals, y_pred_p[:50], \"bo-\", label=legend)\n",
    "    axs.plot(xvals, y_val_p[:50], \"ro-\", label=\"Real\")\n",
    "\n",
    "    axs.set(title=title, ylabel=y_train.name)\n",
    "    axs.legend()\n",
    "\n",
    "    plt.tight_layout()\n",
    "    plt.show()"
   ]
  },
  {
   "cell_type": "code",
   "execution_count": 94,
   "metadata": {
    "colab": {
     "base_uri": "https://localhost:8080/",
     "height": 729
    },
    "executionInfo": {
     "elapsed": 802,
     "status": "ok",
     "timestamp": 1645574164620,
     "user": {
      "displayName": "Juan Pablo Cano",
      "photoUrl": "https://lh3.googleusercontent.com/a-/AOh14Ggpvl16I60w7jnrbdVFshSpDWtSuXlYdGvZAOpQXQ=s64",
      "userId": "14080729078587151746"
     },
     "user_tz": 300
    },
    "id": "HA1FneL3hcOX",
    "outputId": "b042285d-8e7f-4a9d-91c3-5d2da027213e"
   },
   "outputs": [
    {
     "data": {
      "image/png": "[encoded data removed]",
      "text/plain": [
       "<Figure size 1440x720 with 1 Axes>"
      ]
     },
     "metadata": {
      "needs_background": "light"
     },
     "output_type": "display_data"
    }
   ],
   "source": [
    "draw_chart(y_val, y_pred, \"Predicción con Regresión Polinomial\", \"Regresión Polinomial\")"
   ]
  },
  {
   "cell_type": "markdown",
   "metadata": {
    "id": "ud_HEwjZoOrq"
   },
   "source": [
    "### **Regresión Ridge**\n",
    "#### **Entrenamiento (Sin estandarización)**\n",
    "\n"
   ]
  },
  {
   "cell_type": "code",
   "execution_count": 95,
   "metadata": {
    "colab": {
     "base_uri": "https://localhost:8080/"
    },
    "executionInfo": {
     "elapsed": 169,
     "status": "ok",
     "timestamp": 1645574167726,
     "user": {
      "displayName": "Juan Pablo Cano",
      "photoUrl": "https://lh3.googleusercontent.com/a-/AOh14Ggpvl16I60w7jnrbdVFshSpDWtSuXlYdGvZAOpQXQ=s64",
      "userId": "14080729078587151746"
     },
     "user_tz": 300
    },
    "id": "rnnb_rWBoRHa",
    "outputId": "907ff1e6-939a-4077-d745-011977d8997f"
   },
   "outputs": [
    {
     "data": {
      "text/plain": [
       "Ridge()"
      ]
     },
     "execution_count": 95,
     "metadata": {},
     "output_type": "execute_result"
    }
   ],
   "source": [
    "ridge_reg = Ridge()\n",
    "ridge_reg.fit(X_train, y_train)"
   ]
  },
  {
   "cell_type": "code",
   "execution_count": 96,
   "metadata": {
    "colab": {
     "base_uri": "https://localhost:8080/"
    },
    "executionInfo": {
     "elapsed": 3,
     "status": "ok",
     "timestamp": 1645574167890,
     "user": {
      "displayName": "Juan Pablo Cano",
      "photoUrl": "https://lh3.googleusercontent.com/a-/AOh14Ggpvl16I60w7jnrbdVFshSpDWtSuXlYdGvZAOpQXQ=s64",
      "userId": "14080729078587151746"
     },
     "user_tz": 300
    },
    "id": "xe1WtO-IiepT",
    "outputId": "fce0d49b-d8d0-4a21-96c0-6184057903b3"
   },
   "outputs": [
    {
     "data": {
      "text/plain": [
       "{'area': 154868.33845110604,\n",
       " 'building_type': -305153.02767437906,\n",
       " 'geo_lat': 161513.66278299456,\n",
       " 'geo_lon': -16964.517960405476,\n",
       " 'kitchen_area': 142990.26844323956,\n",
       " 'level': 81760.08653715104,\n",
       " 'levels': -80398.88620009799,\n",
       " 'object_type': -72423.98263651626,\n",
       " 'region': -210.12294547761525,\n",
       " 'rooms': -1149565.546930919}"
      ]
     },
     "execution_count": 96,
     "metadata": {},
     "output_type": "execute_result"
    }
   ],
   "source": [
    "ridge_coef = dict(zip(X_train.columns, ridge_reg.coef_))\n",
    "ridge_coef"
   ]
  },
  {
   "cell_type": "markdown",
   "metadata": {
    "id": "Zdx6xzlXdN0b"
   },
   "source": [
    "#### **Validación**"
   ]
  },
  {
   "cell_type": "code",
   "execution_count": 97,
   "metadata": {
    "executionInfo": {
     "elapsed": 163,
     "status": "ok",
     "timestamp": 1645574172582,
     "user": {
      "displayName": "Juan Pablo Cano",
      "photoUrl": "https://lh3.googleusercontent.com/a-/AOh14Ggpvl16I60w7jnrbdVFshSpDWtSuXlYdGvZAOpQXQ=s64",
      "userId": "14080729078587151746"
     },
     "user_tz": 300
    },
    "id": "26Wmz50fdRx5"
   },
   "outputs": [],
   "source": [
    "y_pred_2 = ridge_reg.predict(X_val)"
   ]
  },
  {
   "cell_type": "code",
   "execution_count": 98,
   "metadata": {
    "colab": {
     "base_uri": "https://localhost:8080/"
    },
    "executionInfo": {
     "elapsed": 209,
     "status": "ok",
     "timestamp": 1645574172977,
     "user": {
      "displayName": "Juan Pablo Cano",
      "photoUrl": "https://lh3.googleusercontent.com/a-/AOh14Ggpvl16I60w7jnrbdVFshSpDWtSuXlYdGvZAOpQXQ=s64",
      "userId": "14080729078587151746"
     },
     "user_tz": 300
    },
    "id": "EvQB0EHsi_Fm",
    "outputId": "5a95ae13-ff7c-473f-94a8-a9fad90676ec"
   },
   "outputs": [
    {
     "name": "stdout",
     "output_type": "stream",
     "text": [
      "------------ Ridge ------------\n",
      "R2-score: 0.0155369\n",
      "Residual sum of squares (MSE): 856346403416418.50000\n",
      "Mean absolute error: 2766789.01479\n"
     ]
    }
   ],
   "source": [
    "r2_ridge = r2_score(y_val, y_pred_2)\n",
    "mse_ridge = mean_squared_error(y_val, y_pred_2)\n",
    "mae_ridge = mean_absolute_error(y_val, y_pred_2)\n",
    "\n",
    "print(\"------------ Ridge ------------\")\n",
    "print(f\"R2-score: {r2_ridge:.7f}\")\n",
    "print(f\"Residual sum of squares (MSE): {mse_ridge:.5f}\")\n",
    "print(f\"Mean absolute error: {mae_ridge:.5f}\")"
   ]
  },
  {
   "cell_type": "markdown",
   "metadata": {
    "id": "UkIx8aTSe8JA"
   },
   "source": [
    "#### **Comportamiento de los datos reales vs los datos predecidos**"
   ]
  },
  {
   "cell_type": "code",
   "execution_count": 99,
   "metadata": {
    "colab": {
     "base_uri": "https://localhost:8080/",
     "height": 729
    },
    "executionInfo": {
     "elapsed": 959,
     "status": "ok",
     "timestamp": 1645574177978,
     "user": {
      "displayName": "Juan Pablo Cano",
      "photoUrl": "https://lh3.googleusercontent.com/a-/AOh14Ggpvl16I60w7jnrbdVFshSpDWtSuXlYdGvZAOpQXQ=s64",
      "userId": "14080729078587151746"
     },
     "user_tz": 300
    },
    "id": "bkaeBDIuevsV",
    "outputId": "cb4f1aa1-2910-4c7c-e714-94fe6b5d31cb"
   },
   "outputs": [
    {
     "data": {
      "image/png": "[encoded data removed]",
      "text/plain": [
       "<Figure size 1440x720 with 1 Axes>"
      ]
     },
     "metadata": {
      "needs_background": "light"
     },
     "output_type": "display_data"
    }
   ],
   "source": [
    "%matplotlib inline\n",
    "draw_chart(y_val, y_pred_2, \"Predicción con regresion Ridge\", \"Regresion Ridge\")"
   ]
  },
  {
   "cell_type": "markdown",
   "metadata": {
    "id": "9Pd-sS9eYGzD"
   },
   "source": [
    "#### **Entrenamiento (Con estandarización)**"
   ]
  },
  {
   "cell_type": "code",
   "execution_count": 100,
   "metadata": {
    "colab": {
     "base_uri": "https://localhost:8080/"
    },
    "executionInfo": {
     "elapsed": 157,
     "status": "ok",
     "timestamp": 1645574187308,
     "user": {
      "displayName": "Juan Pablo Cano",
      "photoUrl": "https://lh3.googleusercontent.com/a-/AOh14Ggpvl16I60w7jnrbdVFshSpDWtSuXlYdGvZAOpQXQ=s64",
      "userId": "14080729078587151746"
     },
     "user_tz": 300
    },
    "id": "wcsl9CmhYJ_7",
    "outputId": "80ee7a4b-9df9-456c-83ac-b74e133c36e7"
   },
   "outputs": [
    {
     "data": {
      "text/plain": [
       "Pipeline(steps=[('scaler', StandardScaler()), ('regressor', Ridge())])"
      ]
     },
     "execution_count": 100,
     "metadata": {},
     "output_type": "execute_result"
    }
   ],
   "source": [
    "pipeline_ridge = Pipeline(\n",
    "    [\n",
    "        (\"scaler\", StandardScaler()),\n",
    "        (\"regressor\", Ridge()),\n",
    "    ],\n",
    ")\n",
    "\n",
    "pipeline_ridge.fit(X_train, y_train)"
   ]
  },
  {
   "cell_type": "code",
   "execution_count": 102,
   "metadata": {
    "colab": {
     "base_uri": "https://localhost:8080/"
    },
    "executionInfo": {
     "elapsed": 7,
     "status": "ok",
     "timestamp": 1645574197207,
     "user": {
      "displayName": "Juan Pablo Cano",
      "photoUrl": "https://lh3.googleusercontent.com/a-/AOh14Ggpvl16I60w7jnrbdVFshSpDWtSuXlYdGvZAOpQXQ=s64",
      "userId": "14080729078587151746"
     },
     "user_tz": 300
    },
    "id": "lLkPRJlSZZvS",
    "outputId": "939dbe26-e732-4f6c-f3b8-7a3c0e0e0156"
   },
   "outputs": [
    {
     "data": {
      "text/plain": [
       "{'area': 4056059.7952671433,\n",
       " 'building_type': -351570.00789569266,\n",
       " 'geo_lat': 801009.0387559393,\n",
       " 'geo_lon': -344308.56534270145,\n",
       " 'kitchen_area': 818593.6411814974,\n",
       " 'level': 399476.47457921866,\n",
       " 'levels': -514346.0673778117,\n",
       " 'object_type': -30916.64689338933,\n",
       " 'region': -672401.6793718407,\n",
       " 'rooms': -1062709.4272272026}"
      ]
     },
     "execution_count": 102,
     "metadata": {},
     "output_type": "execute_result"
    }
   ],
   "source": [
    "ridge_coef = dict(zip(X_train.columns, pipeline_ridge.steps[1][1].coef_))\n",
    "ridge_coef"
   ]
  },
  {
   "cell_type": "markdown",
   "metadata": {
    "id": "dflufl4waDcF"
   },
   "source": [
    "#### **Validación**"
   ]
  },
  {
   "cell_type": "code",
   "execution_count": 103,
   "metadata": {
    "executionInfo": {
     "elapsed": 183,
     "status": "ok",
     "timestamp": 1645574200454,
     "user": {
      "displayName": "Juan Pablo Cano",
      "photoUrl": "https://lh3.googleusercontent.com/a-/AOh14Ggpvl16I60w7jnrbdVFshSpDWtSuXlYdGvZAOpQXQ=s64",
      "userId": "14080729078587151746"
     },
     "user_tz": 300
    },
    "id": "6SYHTEbBaHiw"
   },
   "outputs": [],
   "source": [
    "y_pred_2b = pipeline_ridge.predict(X_val)"
   ]
  },
  {
   "cell_type": "code",
   "execution_count": 104,
   "metadata": {
    "colab": {
     "base_uri": "https://localhost:8080/"
    },
    "executionInfo": {
     "elapsed": 4,
     "status": "ok",
     "timestamp": 1645574200606,
     "user": {
      "displayName": "Juan Pablo Cano",
      "photoUrl": "https://lh3.googleusercontent.com/a-/AOh14Ggpvl16I60w7jnrbdVFshSpDWtSuXlYdGvZAOpQXQ=s64",
      "userId": "14080729078587151746"
     },
     "user_tz": 300
    },
    "id": "EelZTCKzaMSL",
    "outputId": "ce5e0dc3-2097-405c-e5c0-1387e608e5a7"
   },
   "outputs": [
    {
     "name": "stdout",
     "output_type": "stream",
     "text": [
      "------------ Ridge (Con estandarización) ------------\n",
      "R2-score: 0.0155376\n",
      "Residual sum of squares (MSE): 856345797915336.87500\n",
      "Mean absolute error: 2766761.54467\n"
     ]
    }
   ],
   "source": [
    "r2_ridge_s = r2_score(y_val, y_pred_2b)\n",
    "mse_ridge_s = mean_squared_error(y_val, y_pred_2b)\n",
    "mae_ridge_s = mean_absolute_error(y_val, y_pred_2b)\n",
    "\n",
    "print(\"------------ Ridge (Con estandarización) ------------\")\n",
    "print(f\"R2-score: {r2_ridge_s:.7f}\")\n",
    "print(f\"Residual sum of squares (MSE): {mse_ridge_s:.5f}\")\n",
    "print(f\"Mean absolute error: {mae_ridge_s:.5f}\")"
   ]
  },
  {
   "cell_type": "markdown",
   "metadata": {
    "id": "rbeZ9Bc2gxRu"
   },
   "source": [
    "#### **Comportamiento de los datos reales vs los datos predecidos**"
   ]
  },
  {
   "cell_type": "code",
   "execution_count": 105,
   "metadata": {
    "colab": {
     "base_uri": "https://localhost:8080/",
     "height": 729
    },
    "executionInfo": {
     "elapsed": 907,
     "status": "ok",
     "timestamp": 1645574206676,
     "user": {
      "displayName": "Juan Pablo Cano",
      "photoUrl": "https://lh3.googleusercontent.com/a-/AOh14Ggpvl16I60w7jnrbdVFshSpDWtSuXlYdGvZAOpQXQ=s64",
      "userId": "14080729078587151746"
     },
     "user_tz": 300
    },
    "id": "JRh9LRiNigzY",
    "outputId": "e9d8057f-92a8-4871-c317-f6395b2669ad"
   },
   "outputs": [
    {
     "data": {
      "image/png": "[encoded data removed]",
      "text/plain": [
       "<Figure size 1440x720 with 1 Axes>"
      ]
     },
     "metadata": {
      "needs_background": "light"
     },
     "output_type": "display_data"
    }
   ],
   "source": [
    "%matplotlib inline\n",
    "draw_chart(\n",
    "    y_val,\n",
    "    y_pred_2b,\n",
    "    \"Predicción con regresion Ridge (Con estandarización)\",\n",
    "    \"Regresion Ridge\",\n",
    ")"
   ]
  },
  {
   "cell_type": "markdown",
   "metadata": {
    "id": "mQ_FoF7RoRX9"
   },
   "source": [
    "### **Regresión Lasso**\n",
    "#### **Entrenamiento (Sin estandarización)**"
   ]
  },
  {
   "cell_type": "code",
   "execution_count": 106,
   "metadata": {
    "colab": {
     "base_uri": "https://localhost:8080/"
    },
    "executionInfo": {
     "elapsed": 194,
     "status": "ok",
     "timestamp": 1645574212938,
     "user": {
      "displayName": "Juan Pablo Cano",
      "photoUrl": "https://lh3.googleusercontent.com/a-/AOh14Ggpvl16I60w7jnrbdVFshSpDWtSuXlYdGvZAOpQXQ=s64",
      "userId": "14080729078587151746"
     },
     "user_tz": 300
    },
    "id": "TLdd00Wdm69O",
    "outputId": "ade54953-1ed2-43d6-e054-af77c9a60dc7"
   },
   "outputs": [
    {
     "data": {
      "text/plain": [
       "Lasso()"
      ]
     },
     "execution_count": 106,
     "metadata": {},
     "output_type": "execute_result"
    }
   ],
   "source": [
    "lasso_reg = Lasso()\n",
    "lasso_reg.fit(X_train, y_train)"
   ]
  },
  {
   "cell_type": "code",
   "execution_count": 107,
   "metadata": {
    "colab": {
     "base_uri": "https://localhost:8080/"
    },
    "executionInfo": {
     "elapsed": 5,
     "status": "ok",
     "timestamp": 1645574213168,
     "user": {
      "displayName": "Juan Pablo Cano",
      "photoUrl": "https://lh3.googleusercontent.com/a-/AOh14Ggpvl16I60w7jnrbdVFshSpDWtSuXlYdGvZAOpQXQ=s64",
      "userId": "14080729078587151746"
     },
     "user_tz": 300
    },
    "id": "atcLgUTkoaKF",
    "outputId": "96ad5fb1-57f6-426f-8bd6-262ed3f92248"
   },
   "outputs": [
    {
     "data": {
      "text/plain": [
       "{'area': 154869.55346860903,\n",
       " 'building_type': -305157.9267847932,\n",
       " 'geo_lat': 161513.63259954704,\n",
       " 'geo_lon': -16964.17659880185,\n",
       " 'kitchen_area': 142988.99637046753,\n",
       " 'level': 81760.38430141193,\n",
       " 'levels': -80399.76019620728,\n",
       " 'object_type': -72433.09857817208,\n",
       " 'region': -210.12502766544114,\n",
       " 'rooms': -1149615.2836025169}"
      ]
     },
     "execution_count": 107,
     "metadata": {},
     "output_type": "execute_result"
    }
   ],
   "source": [
    "lasso_coef = dict(zip(X_train.columns, lasso_reg.coef_))\n",
    "lasso_coef"
   ]
  },
  {
   "cell_type": "markdown",
   "metadata": {
    "id": "NE0rheOho8Oj"
   },
   "source": [
    "#### **Validación**"
   ]
  },
  {
   "cell_type": "code",
   "execution_count": 108,
   "metadata": {
    "executionInfo": {
     "elapsed": 152,
     "status": "ok",
     "timestamp": 1645574215952,
     "user": {
      "displayName": "Juan Pablo Cano",
      "photoUrl": "https://lh3.googleusercontent.com/a-/AOh14Ggpvl16I60w7jnrbdVFshSpDWtSuXlYdGvZAOpQXQ=s64",
      "userId": "14080729078587151746"
     },
     "user_tz": 300
    },
    "id": "yRCL86NIokX6"
   },
   "outputs": [],
   "source": [
    "y_pred_3 = lasso_reg.predict(X_val)"
   ]
  },
  {
   "cell_type": "code",
   "execution_count": 110,
   "metadata": {
    "colab": {
     "base_uri": "https://localhost:8080/"
    },
    "executionInfo": {
     "elapsed": 161,
     "status": "ok",
     "timestamp": 1645574223887,
     "user": {
      "displayName": "Juan Pablo Cano",
      "photoUrl": "https://lh3.googleusercontent.com/a-/AOh14Ggpvl16I60w7jnrbdVFshSpDWtSuXlYdGvZAOpQXQ=s64",
      "userId": "14080729078587151746"
     },
     "user_tz": 300
    },
    "id": "htf4tAfFbPDT",
    "outputId": "bb3e0518-f9b6-4aab-ce08-9f72d15b83b0"
   },
   "outputs": [
    {
     "name": "stdout",
     "output_type": "stream",
     "text": [
      "------------ Lasso ------------\n",
      "R2-score: 0.0155\n",
      "Residual sum of squares (MSE): 856346517388233.12500\n",
      "Mean absolute error: 2766791.02678\n"
     ]
    }
   ],
   "source": [
    "r2_lasso = r2_score(y_val, y_pred_3)\n",
    "mse_lasso = mean_squared_error(y_val, y_pred_3)\n",
    "mae_lasso = mean_absolute_error(y_val, y_pred_3)\n",
    "\n",
    "print(\"------------ Lasso ------------\")\n",
    "print(f\"R2-score: {r2_lasso:.4f}\")\n",
    "print(f\"Residual sum of squares (MSE): {mse_lasso:.5f}\")\n",
    "print(f\"Mean absolute error: {mae_lasso:.5f}\")"
   ]
  },
  {
   "cell_type": "markdown",
   "metadata": {
    "id": "VMbo3Ep9kWGZ"
   },
   "source": [
    "#### **Comportamiento de los datos reales vs los datos predecidos**"
   ]
  },
  {
   "cell_type": "code",
   "execution_count": 111,
   "metadata": {
    "colab": {
     "base_uri": "https://localhost:8080/",
     "height": 729
    },
    "executionInfo": {
     "elapsed": 1457,
     "status": "ok",
     "timestamp": 1645574228893,
     "user": {
      "displayName": "Juan Pablo Cano",
      "photoUrl": "https://lh3.googleusercontent.com/a-/AOh14Ggpvl16I60w7jnrbdVFshSpDWtSuXlYdGvZAOpQXQ=s64",
      "userId": "14080729078587151746"
     },
     "user_tz": 300
    },
    "id": "xeorxVPNkeMg",
    "outputId": "d04ba059-9312-436d-fceb-e1332153ac8f"
   },
   "outputs": [
    {
     "data": {
      "image/png": "[encoded data removed]",
      "text/plain": [
       "<Figure size 1440x720 with 1 Axes>"
      ]
     },
     "metadata": {
      "needs_background": "light"
     },
     "output_type": "display_data"
    }
   ],
   "source": [
    "%matplotlib inline\n",
    "draw_chart(y_val, y_pred_3, \"Predicción con regresion Lasso\", \"Regresion Lasso\")"
   ]
  },
  {
   "cell_type": "markdown",
   "metadata": {
    "id": "FCjiiBzKcbTY"
   },
   "source": [
    "#### **Entrenamiento (Con estandarización)**"
   ]
  },
  {
   "cell_type": "code",
   "execution_count": 112,
   "metadata": {
    "colab": {
     "base_uri": "https://localhost:8080/"
    },
    "executionInfo": {
     "elapsed": 196,
     "status": "ok",
     "timestamp": 1645574236069,
     "user": {
      "displayName": "Juan Pablo Cano",
      "photoUrl": "https://lh3.googleusercontent.com/a-/AOh14Ggpvl16I60w7jnrbdVFshSpDWtSuXlYdGvZAOpQXQ=s64",
      "userId": "14080729078587151746"
     },
     "user_tz": 300
    },
    "id": "Em51FsVrr62S",
    "outputId": "8f0f66fb-23f9-4b53-cdbb-83d36ea06607"
   },
   "outputs": [
    {
     "data": {
      "text/plain": [
       "Pipeline(steps=[('scaler', StandardScaler()), ('regressor', Lasso())])"
      ]
     },
     "execution_count": 112,
     "metadata": {},
     "output_type": "execute_result"
    }
   ],
   "source": [
    "pipeline = Pipeline(\n",
    "    [\n",
    "        (\"scaler\", StandardScaler()),\n",
    "        (\"regressor\", Lasso()),\n",
    "    ],\n",
    ")\n",
    "\n",
    "pipeline.fit(X_train, y_train)"
   ]
  },
  {
   "cell_type": "code",
   "execution_count": 113,
   "metadata": {
    "colab": {
     "base_uri": "https://localhost:8080/"
    },
    "executionInfo": {
     "elapsed": 5,
     "status": "ok",
     "timestamp": 1645574236215,
     "user": {
      "displayName": "Juan Pablo Cano",
      "photoUrl": "https://lh3.googleusercontent.com/a-/AOh14Ggpvl16I60w7jnrbdVFshSpDWtSuXlYdGvZAOpQXQ=s64",
      "userId": "14080729078587151746"
     },
     "user_tz": 300
    },
    "id": "QuqmS5LTdjr9",
    "outputId": "4a28097b-ad82-4751-f11c-ded4ea6c0760"
   },
   "outputs": [
    {
     "data": {
      "text/plain": [
       "{'area': 4056279.851197695,\n",
       " 'building_type': -351579.00150982355,\n",
       " 'geo_lat': 801028.588377499,\n",
       " 'geo_lon': -344287.6393498053,\n",
       " 'kitchen_area': 818522.0262647023,\n",
       " 'level': 399503.49101314053,\n",
       " 'levels': -514396.8353988942,\n",
       " 'object_type': -30908.536493223208,\n",
       " 'region': -672443.9640513017,\n",
       " 'rooms': -1062854.3762072562}"
      ]
     },
     "execution_count": 113,
     "metadata": {},
     "output_type": "execute_result"
    }
   ],
   "source": [
    "lasso_coef = dict(zip(X_train.columns, pipeline.steps[1][1].coef_))\n",
    "lasso_coef"
   ]
  },
  {
   "cell_type": "markdown",
   "metadata": {
    "id": "TYpXgaMxdv77"
   },
   "source": [
    "#### **Validación**"
   ]
  },
  {
   "cell_type": "code",
   "execution_count": 114,
   "metadata": {
    "executionInfo": {
     "elapsed": 151,
     "status": "ok",
     "timestamp": 1645574240734,
     "user": {
      "displayName": "Juan Pablo Cano",
      "photoUrl": "https://lh3.googleusercontent.com/a-/AOh14Ggpvl16I60w7jnrbdVFshSpDWtSuXlYdGvZAOpQXQ=s64",
      "userId": "14080729078587151746"
     },
     "user_tz": 300
    },
    "id": "TguKWWZwdn9a"
   },
   "outputs": [],
   "source": [
    "y_pred_3b = pipeline.predict(X_val)"
   ]
  },
  {
   "cell_type": "code",
   "execution_count": 115,
   "metadata": {
    "colab": {
     "base_uri": "https://localhost:8080/"
    },
    "executionInfo": {
     "elapsed": 5,
     "status": "ok",
     "timestamp": 1645574240966,
     "user": {
      "displayName": "Juan Pablo Cano",
      "photoUrl": "https://lh3.googleusercontent.com/a-/AOh14Ggpvl16I60w7jnrbdVFshSpDWtSuXlYdGvZAOpQXQ=s64",
      "userId": "14080729078587151746"
     },
     "user_tz": 300
    },
    "id": "Bv_znLZ-dxlq",
    "outputId": "9bacafdc-4482-4970-eb04-636fc807af65"
   },
   "outputs": [
    {
     "name": "stdout",
     "output_type": "stream",
     "text": [
      "------------ Lasso (Con estandarización) ------------\n",
      "R2-score: 0.0155368\n",
      "Residual sum of squares (MSE): 856346518738339.12500\n",
      "Mean absolute error: 2766790.10750\n"
     ]
    }
   ],
   "source": [
    "r2_lasso_s = r2_score(y_val, y_pred_3b)\n",
    "mse_lasso_s = mean_squared_error(y_val, y_pred_3b)\n",
    "mae_lasso_s = mean_absolute_error(y_val, y_pred_3b)\n",
    "\n",
    "print(\"------------ Lasso (Con estandarización) ------------\")\n",
    "print(f\"R2-score: {r2_lasso_s:.7f}\")\n",
    "print(f\"Residual sum of squares (MSE): {mse_lasso_s:.5f}\")\n",
    "print(f\"Mean absolute error: {mae_lasso_s:.5f}\")"
   ]
  },
  {
   "cell_type": "markdown",
   "metadata": {
    "id": "rA8zBvMtkYIp"
   },
   "source": [
    "#### **Comportamiento de los datos reales vs los datos predecidos**"
   ]
  },
  {
   "cell_type": "code",
   "execution_count": 116,
   "metadata": {
    "colab": {
     "base_uri": "https://localhost:8080/",
     "height": 729
    },
    "executionInfo": {
     "elapsed": 814,
     "status": "ok",
     "timestamp": 1645574245641,
     "user": {
      "displayName": "Juan Pablo Cano",
      "photoUrl": "https://lh3.googleusercontent.com/a-/AOh14Ggpvl16I60w7jnrbdVFshSpDWtSuXlYdGvZAOpQXQ=s64",
      "userId": "14080729078587151746"
     },
     "user_tz": 300
    },
    "id": "WvJeqiEAky85",
    "outputId": "a68a9b7e-13ad-4808-bb24-87c27e6f75c3"
   },
   "outputs": [
    {
     "data": {
      "image/png": "[encoded data removed]",
      "text/plain": [
       "<Figure size 1440x720 with 1 Axes>"
      ]
     },
     "metadata": {
      "needs_background": "light"
     },
     "output_type": "display_data"
    }
   ],
   "source": [
    "%matplotlib inline\n",
    "draw_chart(\n",
    "    y_val,\n",
    "    y_pred_3b,\n",
    "    \"Predicción con regresion Lasso (Con estandarización)\",\n",
    "    \"Regresion Lasso\",\n",
    ")"
   ]
  },
  {
   "cell_type": "markdown",
   "metadata": {
    "id": "8-9QFqjSlfFJ"
   },
   "source": [
    "### **Selección del mejor modelo**\n",
    "Tabla comparativa con los resultados de las métricas R2, MSE y MAE para los 3 modelos entrenados."
   ]
  },
  {
   "cell_type": "code",
   "execution_count": 117,
   "metadata": {
    "colab": {
     "base_uri": "https://localhost:8080/"
    },
    "executionInfo": {
     "elapsed": 183,
     "status": "ok",
     "timestamp": 1645574256112,
     "user": {
      "displayName": "Juan Pablo Cano",
      "photoUrl": "https://lh3.googleusercontent.com/a-/AOh14Ggpvl16I60w7jnrbdVFshSpDWtSuXlYdGvZAOpQXQ=s64",
      "userId": "14080729078587151746"
     },
     "user_tz": 300
    },
    "id": "lWomqAnlmJK7",
    "outputId": "5fe9ff87-c55a-4f6b-a48b-a6348aca22b1"
   },
   "outputs": [
    {
     "name": "stdout",
     "output_type": "stream",
     "text": [
      "╒═════════════════╤═══════════╤═════════════╤═════════════╕\n",
      "│ Model           │        R2 │         MSE │         MAE │\n",
      "╞═════════════════╪═══════════╪═════════════╪═════════════╡\n",
      "│ Poly Regression │ 0.0468936 │ 8.2907e+14  │ 2.71181e+06 │\n",
      "├─────────────────┼───────────┼─────────────┼─────────────┤\n",
      "│ Ridge           │ 0.0155369 │ 8.56346e+14 │ 2.76679e+06 │\n",
      "├─────────────────┼───────────┼─────────────┼─────────────┤\n",
      "│ Ridge (con S)   │ 0.0155376 │ 8.56346e+14 │ 2.76676e+06 │\n",
      "├─────────────────┼───────────┼─────────────┼─────────────┤\n",
      "│ Lasso           │ 0.0155368 │ 8.56346e+14 │ 2.76679e+06 │\n",
      "├─────────────────┼───────────┼─────────────┼─────────────┤\n",
      "│ Lasso (con S)   │ 0.0155368 │ 8.56347e+14 │ 2.76679e+06 │\n",
      "╘═════════════════╧═══════════╧═════════════╧═════════════╛\n"
     ]
    }
   ],
   "source": [
    "info = {\n",
    "    \"Model\": [\"Poly Regression\", \"Ridge\", \"Ridge (con S)\", \"Lasso\", \"Lasso (con S)\"],\n",
    "    \"R2\": [r2_poly, r2_ridge, r2_ridge_s, r2_lasso, r2_lasso_s],\n",
    "    \"MSE\": [mse_poly, mse_ridge, mse_ridge_s, mse_ridge, mse_lasso_s],\n",
    "    \"MAE\": [mae_poly, mae_ridge, mae_ridge_s, mae_lasso, mae_lasso_s],\n",
    "}\n",
    "\n",
    "print(tabulate(info, headers=\"keys\", tablefmt=\"fancy_grid\"))"
   ]
  },
  {
   "cell_type": "markdown",
   "metadata": {
    "id": "ewVS7PkQd_1B"
   },
   "source": [
    "### **Optimización de hiperparámetros para el mejor modelo**"
   ]
  },
  {
   "cell_type": "code",
   "execution_count": null,
   "metadata": {
    "id": "eWSPKRNod7fJ"
   },
   "outputs": [],
   "source": []
  }
 ],
 "metadata": {
  "colab": {
   "collapsed_sections": [],
   "name": "taller_1.ipynb",
   "provenance": []
  },
  "kernelspec": {
   "display_name": "Python 3",
   "name": "python3"
  },
  "language_info": {
   "name": "python"
  },
  "widgets": {
   "application/vnd.jupyter.widget-state+json": {
    "133eaa5acb994a4abeb6a64dbae8b997": {
     "model_module": "@jupyter-widgets/controls",
     "model_module_version": "1.5.0",
     "model_name": "ProgressStyleModel",
     "state": {
      "_model_module": "@jupyter-widgets/controls",
      "_model_module_version": "1.5.0",
      "_model_name": "ProgressStyleModel",
      "_view_count": null,
      "_view_module": "@jupyter-widgets/base",
      "_view_module_version": "1.2.0",
      "_view_name": "StyleView",
      "bar_color": null,
      "description_width": ""
     }
    },
    "19df0d3f78db4cd5a6560a4536e14232": {
     "model_module": "@jupyter-widgets/controls",
     "model_module_version": "1.5.0",
     "model_name": "ProgressStyleModel",
     "state": {
      "_model_module": "@jupyter-widgets/controls",
      "_model_module_version": "1.5.0",
      "_model_name": "ProgressStyleModel",
      "_view_count": null,
      "_view_module": "@jupyter-widgets/base",
      "_view_module_version": "1.2.0",
      "_view_name": "StyleView",
      "bar_color": null,
      "description_width": ""
     }
    },
    "1b2ac17108874ba4a03702d74c083dc1": {
     "model_module": "@jupyter-widgets/controls",
     "model_module_version": "1.5.0",
     "model_name": "HBoxModel",
     "state": {
      "_dom_classes": [],
      "_model_module": "@jupyter-widgets/controls",
      "_model_module_version": "1.5.0",
      "_model_name": "HBoxModel",
      "_view_count": null,
      "_view_module": "@jupyter-widgets/controls",
      "_view_module_version": "1.5.0",
      "_view_name": "HBoxView",
      "box_style": "",
      "children": [
       "IPY_MODEL_c1a882ef442d4c199d9e88773fe54b26",
       "IPY_MODEL_fc9a3ee5d69741128e51dfe33943eb5f",
       "IPY_MODEL_be84857a1576469db69b3a111f2e3c81"
      ],
      "layout": "IPY_MODEL_d57be4b11b4e4443ac2fe1436cf1d633"
     }
    },
    "1d8538337bc74194849c4ef1587c6255": {
     "model_module": "@jupyter-widgets/controls",
     "model_module_version": "1.5.0",
     "model_name": "DescriptionStyleModel",
     "state": {
      "_model_module": "@jupyter-widgets/controls",
      "_model_module_version": "1.5.0",
      "_model_name": "DescriptionStyleModel",
      "_view_count": null,
      "_view_module": "@jupyter-widgets/base",
      "_view_module_version": "1.2.0",
      "_view_name": "StyleView",
      "description_width": ""
     }
    },
    "1dc78e23549e4f23a5c8b7270870e848": {
     "model_module": "@jupyter-widgets/controls",
     "model_module_version": "1.5.0",
     "model_name": "HBoxModel",
     "state": {
      "_dom_classes": [],
      "_model_module": "@jupyter-widgets/controls",
      "_model_module_version": "1.5.0",
      "_model_name": "HBoxModel",
      "_view_count": null,
      "_view_module": "@jupyter-widgets/controls",
      "_view_module_version": "1.5.0",
      "_view_name": "HBoxView",
      "box_style": "",
      "children": [
       "IPY_MODEL_3347118a46cf49849f14a63968123bb5",
       "IPY_MODEL_ae4085daf7974802b08a130c68fc5822",
       "IPY_MODEL_37c66de59f37462bbe83534a584ee2a3"
      ],
      "layout": "IPY_MODEL_8795a8b7db3845209ef5ac9d059b6b9d"
     }
    },
    "211dd72ef9444b07917d587a66792702": {
     "model_module": "@jupyter-widgets/controls",
     "model_module_version": "1.5.0",
     "model_name": "ProgressStyleModel",
     "state": {
      "_model_module": "@jupyter-widgets/controls",
      "_model_module_version": "1.5.0",
      "_model_name": "ProgressStyleModel",
      "_view_count": null,
      "_view_module": "@jupyter-widgets/base",
      "_view_module_version": "1.2.0",
      "_view_name": "StyleView",
      "bar_color": null,
      "description_width": ""
     }
    },
    "27067ce81281487ca1d82c1f5a0b2b9a": {
     "model_module": "@jupyter-widgets/base",
     "model_module_version": "1.2.0",
     "model_name": "LayoutModel",
     "state": {
      "_model_module": "@jupyter-widgets/base",
      "_model_module_version": "1.2.0",
      "_model_name": "LayoutModel",
      "_view_count": null,
      "_view_module": "@jupyter-widgets/base",
      "_view_module_version": "1.2.0",
      "_view_name": "LayoutView",
      "align_content": null,
      "align_items": null,
      "align_self": null,
      "border": null,
      "bottom": null,
      "display": null,
      "flex": null,
      "flex_flow": null,
      "grid_area": null,
      "grid_auto_columns": null,
      "grid_auto_flow": null,
      "grid_auto_rows": null,
      "grid_column": null,
      "grid_gap": null,
      "grid_row": null,
      "grid_template_areas": null,
      "grid_template_columns": null,
      "grid_template_rows": null,
      "height": null,
      "justify_content": null,
      "justify_items": null,
      "left": null,
      "margin": null,
      "max_height": null,
      "max_width": null,
      "min_height": null,
      "min_width": null,
      "object_fit": null,
      "object_position": null,
      "order": null,
      "overflow": null,
      "overflow_x": null,
      "overflow_y": null,
      "padding": null,
      "right": null,
      "top": null,
      "visibility": null,
      "width": null
     }
    },
    "2bf6ccfe45994627aa524c74340388eb": {
     "model_module": "@jupyter-widgets/controls",
     "model_module_version": "1.5.0",
     "model_name": "ProgressStyleModel",
     "state": {
      "_model_module": "@jupyter-widgets/controls",
      "_model_module_version": "1.5.0",
      "_model_name": "ProgressStyleModel",
      "_view_count": null,
      "_view_module": "@jupyter-widgets/base",
      "_view_module_version": "1.2.0",
      "_view_name": "StyleView",
      "bar_color": null,
      "description_width": ""
     }
    },
    "30ce20111cd14d43b73d6c050e6e1ae5": {
     "model_module": "@jupyter-widgets/base",
     "model_module_version": "1.2.0",
     "model_name": "LayoutModel",
     "state": {
      "_model_module": "@jupyter-widgets/base",
      "_model_module_version": "1.2.0",
      "_model_name": "LayoutModel",
      "_view_count": null,
      "_view_module": "@jupyter-widgets/base",
      "_view_module_version": "1.2.0",
      "_view_name": "LayoutView",
      "align_content": null,
      "align_items": null,
      "align_self": null,
      "border": null,
      "bottom": null,
      "display": null,
      "flex": null,
      "flex_flow": null,
      "grid_area": null,
      "grid_auto_columns": null,
      "grid_auto_flow": null,
      "grid_auto_rows": null,
      "grid_column": null,
      "grid_gap": null,
      "grid_row": null,
      "grid_template_areas": null,
      "grid_template_columns": null,
      "grid_template_rows": null,
      "height": null,
      "justify_content": null,
      "justify_items": null,
      "left": null,
      "margin": null,
      "max_height": null,
      "max_width": null,
      "min_height": null,
      "min_width": null,
      "object_fit": null,
      "object_position": null,
      "order": null,
      "overflow": null,
      "overflow_x": null,
      "overflow_y": null,
      "padding": null,
      "right": null,
      "top": null,
      "visibility": null,
      "width": null
     }
    },
    "31dee1517710491bb38383b2de73c64d": {
     "model_module": "@jupyter-widgets/controls",
     "model_module_version": "1.5.0",
     "model_name": "FloatProgressModel",
     "state": {
      "_dom_classes": [],
      "_model_module": "@jupyter-widgets/controls",
      "_model_module_version": "1.5.0",
      "_model_name": "FloatProgressModel",
      "_view_count": null,
      "_view_module": "@jupyter-widgets/controls",
      "_view_module_version": "1.5.0",
      "_view_name": "ProgressView",
      "bar_style": "success",
      "description": "",
      "description_tooltip": null,
      "layout": "IPY_MODEL_be1538ff3fd64530bbefe18ecd152d3e",
      "max": 1971,
      "min": 0,
      "orientation": "horizontal",
      "style": "IPY_MODEL_211dd72ef9444b07917d587a66792702",
      "value": 1971
     }
    },
    "32c598436a2644beb22999785a1885ef": {
     "model_module": "@jupyter-widgets/controls",
     "model_module_version": "1.5.0",
     "model_name": "HTMLModel",
     "state": {
      "_dom_classes": [],
      "_model_module": "@jupyter-widgets/controls",
      "_model_module_version": "1.5.0",
      "_model_name": "HTMLModel",
      "_view_count": null,
      "_view_module": "@jupyter-widgets/controls",
      "_view_module_version": "1.5.0",
      "_view_name": "HTMLView",
      "description": "",
      "description_tooltip": null,
      "layout": "IPY_MODEL_35a7c05519454f4db95f6e2911fae35e",
      "placeholder": "​",
      "style": "IPY_MODEL_48f2c85ad73a47108db1041f4edbe64d",
      "value": " 3/3 [00:00&lt;00:00,  5.38KB/s]"
     }
    },
    "3347118a46cf49849f14a63968123bb5": {
     "model_module": "@jupyter-widgets/controls",
     "model_module_version": "1.5.0",
     "model_name": "HTMLModel",
     "state": {
      "_dom_classes": [],
      "_model_module": "@jupyter-widgets/controls",
      "_model_module_version": "1.5.0",
      "_model_name": "HTMLModel",
      "_view_count": null,
      "_view_module": "@jupyter-widgets/controls",
      "_view_module_version": "1.5.0",
      "_view_name": "HTMLView",
      "description": "",
      "description_tooltip": null,
      "layout": "IPY_MODEL_27067ce81281487ca1d82c1f5a0b2b9a",
      "placeholder": "​",
      "style": "IPY_MODEL_8eab4d065a674a8782bab260ea09c4f2",
      "value": "Generate report structure: 100%"
     }
    },
    "337e212047e649b0ac6a918e0c6e8381": {
     "model_module": "@jupyter-widgets/base",
     "model_module_version": "1.2.0",
     "model_name": "LayoutModel",
     "state": {
      "_model_module": "@jupyter-widgets/base",
      "_model_module_version": "1.2.0",
      "_model_name": "LayoutModel",
      "_view_count": null,
      "_view_module": "@jupyter-widgets/base",
      "_view_module_version": "1.2.0",
      "_view_name": "LayoutView",
      "align_content": null,
      "align_items": null,
      "align_self": null,
      "border": null,
      "bottom": null,
      "display": null,
      "flex": null,
      "flex_flow": null,
      "grid_area": null,
      "grid_auto_columns": null,
      "grid_auto_flow": null,
      "grid_auto_rows": null,
      "grid_column": null,
      "grid_gap": null,
      "grid_row": null,
      "grid_template_areas": null,
      "grid_template_columns": null,
      "grid_template_rows": null,
      "height": null,
      "justify_content": null,
      "justify_items": null,
      "left": null,
      "margin": null,
      "max_height": null,
      "max_width": null,
      "min_height": null,
      "min_width": null,
      "object_fit": null,
      "object_position": null,
      "order": null,
      "overflow": null,
      "overflow_x": null,
      "overflow_y": null,
      "padding": null,
      "right": null,
      "top": null,
      "visibility": null,
      "width": null
     }
    },
    "35a7c05519454f4db95f6e2911fae35e": {
     "model_module": "@jupyter-widgets/base",
     "model_module_version": "1.2.0",
     "model_name": "LayoutModel",
     "state": {
      "_model_module": "@jupyter-widgets/base",
      "_model_module_version": "1.2.0",
      "_model_name": "LayoutModel",
      "_view_count": null,
      "_view_module": "@jupyter-widgets/base",
      "_view_module_version": "1.2.0",
      "_view_name": "LayoutView",
      "align_content": null,
      "align_items": null,
      "align_self": null,
      "border": null,
      "bottom": null,
      "display": null,
      "flex": null,
      "flex_flow": null,
      "grid_area": null,
      "grid_auto_columns": null,
      "grid_auto_flow": null,
      "grid_auto_rows": null,
      "grid_column": null,
      "grid_gap": null,
      "grid_row": null,
      "grid_template_areas": null,
      "grid_template_columns": null,
      "grid_template_rows": null,
      "height": null,
      "justify_content": null,
      "justify_items": null,
      "left": null,
      "margin": null,
      "max_height": null,
      "max_width": null,
      "min_height": null,
      "min_width": null,
      "object_fit": null,
      "object_position": null,
      "order": null,
      "overflow": null,
      "overflow_x": null,
      "overflow_y": null,
      "padding": null,
      "right": null,
      "top": null,
      "visibility": null,
      "width": null
     }
    },
    "37c66de59f37462bbe83534a584ee2a3": {
     "model_module": "@jupyter-widgets/controls",
     "model_module_version": "1.5.0",
     "model_name": "HTMLModel",
     "state": {
      "_dom_classes": [],
      "_model_module": "@jupyter-widgets/controls",
      "_model_module_version": "1.5.0",
      "_model_name": "HTMLModel",
      "_view_count": null,
      "_view_module": "@jupyter-widgets/controls",
      "_view_module_version": "1.5.0",
      "_view_name": "HTMLView",
      "description": "",
      "description_tooltip": null,
      "layout": "IPY_MODEL_8034b9d4d15341b2925b24402be424c9",
      "placeholder": "​",
      "style": "IPY_MODEL_6ceff0541d0244a694ed328d766fe1ad",
      "value": " 1/1 [00:08&lt;00:00,  8.09s/it]"
     }
    },
    "41e01814145d4c8c97e1e51b49d558d6": {
     "model_module": "@jupyter-widgets/base",
     "model_module_version": "1.2.0",
     "model_name": "LayoutModel",
     "state": {
      "_model_module": "@jupyter-widgets/base",
      "_model_module_version": "1.2.0",
      "_model_name": "LayoutModel",
      "_view_count": null,
      "_view_module": "@jupyter-widgets/base",
      "_view_module_version": "1.2.0",
      "_view_name": "LayoutView",
      "align_content": null,
      "align_items": null,
      "align_self": null,
      "border": null,
      "bottom": null,
      "display": null,
      "flex": null,
      "flex_flow": null,
      "grid_area": null,
      "grid_auto_columns": null,
      "grid_auto_flow": null,
      "grid_auto_rows": null,
      "grid_column": null,
      "grid_gap": null,
      "grid_row": null,
      "grid_template_areas": null,
      "grid_template_columns": null,
      "grid_template_rows": null,
      "height": null,
      "justify_content": null,
      "justify_items": null,
      "left": null,
      "margin": null,
      "max_height": null,
      "max_width": null,
      "min_height": null,
      "min_width": null,
      "object_fit": null,
      "object_position": null,
      "order": null,
      "overflow": null,
      "overflow_x": null,
      "overflow_y": null,
      "padding": null,
      "right": null,
      "top": null,
      "visibility": null,
      "width": null
     }
    },
    "467c5676b03844a290f31c008afce209": {
     "model_module": "@jupyter-widgets/controls",
     "model_module_version": "1.5.0",
     "model_name": "HBoxModel",
     "state": {
      "_dom_classes": [],
      "_model_module": "@jupyter-widgets/controls",
      "_model_module_version": "1.5.0",
      "_model_name": "HBoxModel",
      "_view_count": null,
      "_view_module": "@jupyter-widgets/controls",
      "_view_module_version": "1.5.0",
      "_view_name": "HBoxView",
      "box_style": "",
      "children": [
       "IPY_MODEL_b780269ebd68448cbf51d3969da1f122",
       "IPY_MODEL_db8a2cb9aca442b88196deffae9f4d7e",
       "IPY_MODEL_b81c840d52fd4b48b8bb77c33339380c"
      ],
      "layout": "IPY_MODEL_f2f5a385f0d6456eaf01bd6b38b83641"
     }
    },
    "47130d4e4d9347f98ab9d59f2d6be920": {
     "model_module": "@jupyter-widgets/base",
     "model_module_version": "1.2.0",
     "model_name": "LayoutModel",
     "state": {
      "_model_module": "@jupyter-widgets/base",
      "_model_module_version": "1.2.0",
      "_model_name": "LayoutModel",
      "_view_count": null,
      "_view_module": "@jupyter-widgets/base",
      "_view_module_version": "1.2.0",
      "_view_name": "LayoutView",
      "align_content": null,
      "align_items": null,
      "align_self": null,
      "border": null,
      "bottom": null,
      "display": null,
      "flex": null,
      "flex_flow": null,
      "grid_area": null,
      "grid_auto_columns": null,
      "grid_auto_flow": null,
      "grid_auto_rows": null,
      "grid_column": null,
      "grid_gap": null,
      "grid_row": null,
      "grid_template_areas": null,
      "grid_template_columns": null,
      "grid_template_rows": null,
      "height": null,
      "justify_content": null,
      "justify_items": null,
      "left": null,
      "margin": null,
      "max_height": null,
      "max_width": null,
      "min_height": null,
      "min_width": null,
      "object_fit": null,
      "object_position": null,
      "order": null,
      "overflow": null,
      "overflow_x": null,
      "overflow_y": null,
      "padding": null,
      "right": null,
      "top": null,
      "visibility": null,
      "width": null
     }
    },
    "48ab59530903488cbd827bf59e4b1824": {
     "model_module": "@jupyter-widgets/controls",
     "model_module_version": "1.5.0",
     "model_name": "HTMLModel",
     "state": {
      "_dom_classes": [],
      "_model_module": "@jupyter-widgets/controls",
      "_model_module_version": "1.5.0",
      "_model_name": "HTMLModel",
      "_view_count": null,
      "_view_module": "@jupyter-widgets/controls",
      "_view_module_version": "1.5.0",
      "_view_name": "HTMLView",
      "description": "",
      "description_tooltip": null,
      "layout": "IPY_MODEL_47130d4e4d9347f98ab9d59f2d6be920",
      "placeholder": "​",
      "style": "IPY_MODEL_6d19200d68f94a20a9abab52074ef614",
      "value": "100%"
     }
    },
    "48f2c85ad73a47108db1041f4edbe64d": {
     "model_module": "@jupyter-widgets/controls",
     "model_module_version": "1.5.0",
     "model_name": "DescriptionStyleModel",
     "state": {
      "_model_module": "@jupyter-widgets/controls",
      "_model_module_version": "1.5.0",
      "_model_name": "DescriptionStyleModel",
      "_view_count": null,
      "_view_module": "@jupyter-widgets/base",
      "_view_module_version": "1.2.0",
      "_view_name": "StyleView",
      "description_width": ""
     }
    },
    "492240f2ce6c46c09423ba877ed783cd": {
     "model_module": "@jupyter-widgets/base",
     "model_module_version": "1.2.0",
     "model_name": "LayoutModel",
     "state": {
      "_model_module": "@jupyter-widgets/base",
      "_model_module_version": "1.2.0",
      "_model_name": "LayoutModel",
      "_view_count": null,
      "_view_module": "@jupyter-widgets/base",
      "_view_module_version": "1.2.0",
      "_view_name": "LayoutView",
      "align_content": null,
      "align_items": null,
      "align_self": null,
      "border": null,
      "bottom": null,
      "display": null,
      "flex": null,
      "flex_flow": null,
      "grid_area": null,
      "grid_auto_columns": null,
      "grid_auto_flow": null,
      "grid_auto_rows": null,
      "grid_column": null,
      "grid_gap": null,
      "grid_row": null,
      "grid_template_areas": null,
      "grid_template_columns": null,
      "grid_template_rows": null,
      "height": null,
      "justify_content": null,
      "justify_items": null,
      "left": null,
      "margin": null,
      "max_height": null,
      "max_width": null,
      "min_height": null,
      "min_width": null,
      "object_fit": null,
      "object_position": null,
      "order": null,
      "overflow": null,
      "overflow_x": null,
      "overflow_y": null,
      "padding": null,
      "right": null,
      "top": null,
      "visibility": null,
      "width": null
     }
    },
    "4bbc39fb5f2c470193afae3666ba5b54": {
     "model_module": "@jupyter-widgets/controls",
     "model_module_version": "1.5.0",
     "model_name": "ProgressStyleModel",
     "state": {
      "_model_module": "@jupyter-widgets/controls",
      "_model_module_version": "1.5.0",
      "_model_name": "ProgressStyleModel",
      "_view_count": null,
      "_view_module": "@jupyter-widgets/base",
      "_view_module_version": "1.2.0",
      "_view_name": "StyleView",
      "bar_color": null,
      "description_width": ""
     }
    },
    "4cbc8c79094942caa11b2a5c56395c7c": {
     "model_module": "@jupyter-widgets/controls",
     "model_module_version": "1.5.0",
     "model_name": "HTMLModel",
     "state": {
      "_dom_classes": [],
      "_model_module": "@jupyter-widgets/controls",
      "_model_module_version": "1.5.0",
      "_model_name": "HTMLModel",
      "_view_count": null,
      "_view_module": "@jupyter-widgets/controls",
      "_view_module_version": "1.5.0",
      "_view_name": "HTMLView",
      "description": "",
      "description_tooltip": null,
      "layout": "IPY_MODEL_89e6287d42794cfe9e0e8833f3401dc0",
      "placeholder": "​",
      "style": "IPY_MODEL_a83080648e6942ab99ad26b7ab30d62e",
      "value": " 1971/1971 [00:00&lt;00:00, 9775.63KB/s]"
     }
    },
    "4e27d92afd8449648837dfbbff484417": {
     "model_module": "@jupyter-widgets/controls",
     "model_module_version": "1.5.0",
     "model_name": "HTMLModel",
     "state": {
      "_dom_classes": [],
      "_model_module": "@jupyter-widgets/controls",
      "_model_module_version": "1.5.0",
      "_model_name": "HTMLModel",
      "_view_count": null,
      "_view_module": "@jupyter-widgets/controls",
      "_view_module_version": "1.5.0",
      "_view_name": "HTMLView",
      "description": "",
      "description_tooltip": null,
      "layout": "IPY_MODEL_5dce4f679e0b44a7bddd69c737ce997f",
      "placeholder": "​",
      "style": "IPY_MODEL_1d8538337bc74194849c4ef1587c6255",
      "value": " 1/1 [00:04&lt;00:00,  4.78s/it]"
     }
    },
    "4ff3b90cdb4e477995c1c542be1d247f": {
     "model_module": "@jupyter-widgets/controls",
     "model_module_version": "1.5.0",
     "model_name": "DescriptionStyleModel",
     "state": {
      "_model_module": "@jupyter-widgets/controls",
      "_model_module_version": "1.5.0",
      "_model_name": "DescriptionStyleModel",
      "_view_count": null,
      "_view_module": "@jupyter-widgets/base",
      "_view_module_version": "1.2.0",
      "_view_name": "StyleView",
      "description_width": ""
     }
    },
    "57258020a1fb4cf1a68b2b728f42aee0": {
     "model_module": "@jupyter-widgets/base",
     "model_module_version": "1.2.0",
     "model_name": "LayoutModel",
     "state": {
      "_model_module": "@jupyter-widgets/base",
      "_model_module_version": "1.2.0",
      "_model_name": "LayoutModel",
      "_view_count": null,
      "_view_module": "@jupyter-widgets/base",
      "_view_module_version": "1.2.0",
      "_view_name": "LayoutView",
      "align_content": null,
      "align_items": null,
      "align_self": null,
      "border": null,
      "bottom": null,
      "display": null,
      "flex": null,
      "flex_flow": null,
      "grid_area": null,
      "grid_auto_columns": null,
      "grid_auto_flow": null,
      "grid_auto_rows": null,
      "grid_column": null,
      "grid_gap": null,
      "grid_row": null,
      "grid_template_areas": null,
      "grid_template_columns": null,
      "grid_template_rows": null,
      "height": null,
      "justify_content": null,
      "justify_items": null,
      "left": null,
      "margin": null,
      "max_height": null,
      "max_width": null,
      "min_height": null,
      "min_width": null,
      "object_fit": null,
      "object_position": null,
      "order": null,
      "overflow": null,
      "overflow_x": null,
      "overflow_y": null,
      "padding": null,
      "right": null,
      "top": null,
      "visibility": null,
      "width": null
     }
    },
    "5dce4f679e0b44a7bddd69c737ce997f": {
     "model_module": "@jupyter-widgets/base",
     "model_module_version": "1.2.0",
     "model_name": "LayoutModel",
     "state": {
      "_model_module": "@jupyter-widgets/base",
      "_model_module_version": "1.2.0",
      "_model_name": "LayoutModel",
      "_view_count": null,
      "_view_module": "@jupyter-widgets/base",
      "_view_module_version": "1.2.0",
      "_view_name": "LayoutView",
      "align_content": null,
      "align_items": null,
      "align_self": null,
      "border": null,
      "bottom": null,
      "display": null,
      "flex": null,
      "flex_flow": null,
      "grid_area": null,
      "grid_auto_columns": null,
      "grid_auto_flow": null,
      "grid_auto_rows": null,
      "grid_column": null,
      "grid_gap": null,
      "grid_row": null,
      "grid_template_areas": null,
      "grid_template_columns": null,
      "grid_template_rows": null,
      "height": null,
      "justify_content": null,
      "justify_items": null,
      "left": null,
      "margin": null,
      "max_height": null,
      "max_width": null,
      "min_height": null,
      "min_width": null,
      "object_fit": null,
      "object_position": null,
      "order": null,
      "overflow": null,
      "overflow_x": null,
      "overflow_y": null,
      "padding": null,
      "right": null,
      "top": null,
      "visibility": null,
      "width": null
     }
    },
    "6364297eeda24bd29e13ae6234e5d9c2": {
     "model_module": "@jupyter-widgets/controls",
     "model_module_version": "1.5.0",
     "model_name": "HTMLModel",
     "state": {
      "_dom_classes": [],
      "_model_module": "@jupyter-widgets/controls",
      "_model_module_version": "1.5.0",
      "_model_name": "HTMLModel",
      "_view_count": null,
      "_view_module": "@jupyter-widgets/controls",
      "_view_module_version": "1.5.0",
      "_view_name": "HTMLView",
      "description": "",
      "description_tooltip": null,
      "layout": "IPY_MODEL_d0a8733532a845c68bde44a48b3b84b2",
      "placeholder": "​",
      "style": "IPY_MODEL_8cd0a2b0061d4e69aa96639c03df6360",
      "value": "Render HTML: 100%"
     }
    },
    "6ad903acb3df43e39cc2f1e4d19a8da9": {
     "model_module": "@jupyter-widgets/base",
     "model_module_version": "1.2.0",
     "model_name": "LayoutModel",
     "state": {
      "_model_module": "@jupyter-widgets/base",
      "_model_module_version": "1.2.0",
      "_model_name": "LayoutModel",
      "_view_count": null,
      "_view_module": "@jupyter-widgets/base",
      "_view_module_version": "1.2.0",
      "_view_name": "LayoutView",
      "align_content": null,
      "align_items": null,
      "align_self": null,
      "border": null,
      "bottom": null,
      "display": null,
      "flex": null,
      "flex_flow": null,
      "grid_area": null,
      "grid_auto_columns": null,
      "grid_auto_flow": null,
      "grid_auto_rows": null,
      "grid_column": null,
      "grid_gap": null,
      "grid_row": null,
      "grid_template_areas": null,
      "grid_template_columns": null,
      "grid_template_rows": null,
      "height": null,
      "justify_content": null,
      "justify_items": null,
      "left": null,
      "margin": null,
      "max_height": null,
      "max_width": null,
      "min_height": null,
      "min_width": null,
      "object_fit": null,
      "object_position": null,
      "order": null,
      "overflow": null,
      "overflow_x": null,
      "overflow_y": null,
      "padding": null,
      "right": null,
      "top": null,
      "visibility": null,
      "width": null
     }
    },
    "6ceff0541d0244a694ed328d766fe1ad": {
     "model_module": "@jupyter-widgets/controls",
     "model_module_version": "1.5.0",
     "model_name": "DescriptionStyleModel",
     "state": {
      "_model_module": "@jupyter-widgets/controls",
      "_model_module_version": "1.5.0",
      "_model_name": "DescriptionStyleModel",
      "_view_count": null,
      "_view_module": "@jupyter-widgets/base",
      "_view_module_version": "1.2.0",
      "_view_name": "StyleView",
      "description_width": ""
     }
    },
    "6d19200d68f94a20a9abab52074ef614": {
     "model_module": "@jupyter-widgets/controls",
     "model_module_version": "1.5.0",
     "model_name": "DescriptionStyleModel",
     "state": {
      "_model_module": "@jupyter-widgets/controls",
      "_model_module_version": "1.5.0",
      "_model_name": "DescriptionStyleModel",
      "_view_count": null,
      "_view_module": "@jupyter-widgets/base",
      "_view_module_version": "1.2.0",
      "_view_name": "StyleView",
      "description_width": ""
     }
    },
    "8034b9d4d15341b2925b24402be424c9": {
     "model_module": "@jupyter-widgets/base",
     "model_module_version": "1.2.0",
     "model_name": "LayoutModel",
     "state": {
      "_model_module": "@jupyter-widgets/base",
      "_model_module_version": "1.2.0",
      "_model_name": "LayoutModel",
      "_view_count": null,
      "_view_module": "@jupyter-widgets/base",
      "_view_module_version": "1.2.0",
      "_view_name": "LayoutView",
      "align_content": null,
      "align_items": null,
      "align_self": null,
      "border": null,
      "bottom": null,
      "display": null,
      "flex": null,
      "flex_flow": null,
      "grid_area": null,
      "grid_auto_columns": null,
      "grid_auto_flow": null,
      "grid_auto_rows": null,
      "grid_column": null,
      "grid_gap": null,
      "grid_row": null,
      "grid_template_areas": null,
      "grid_template_columns": null,
      "grid_template_rows": null,
      "height": null,
      "justify_content": null,
      "justify_items": null,
      "left": null,
      "margin": null,
      "max_height": null,
      "max_width": null,
      "min_height": null,
      "min_width": null,
      "object_fit": null,
      "object_position": null,
      "order": null,
      "overflow": null,
      "overflow_x": null,
      "overflow_y": null,
      "padding": null,
      "right": null,
      "top": null,
      "visibility": null,
      "width": null
     }
    },
    "8795a8b7db3845209ef5ac9d059b6b9d": {
     "model_module": "@jupyter-widgets/base",
     "model_module_version": "1.2.0",
     "model_name": "LayoutModel",
     "state": {
      "_model_module": "@jupyter-widgets/base",
      "_model_module_version": "1.2.0",
      "_model_name": "LayoutModel",
      "_view_count": null,
      "_view_module": "@jupyter-widgets/base",
      "_view_module_version": "1.2.0",
      "_view_name": "LayoutView",
      "align_content": null,
      "align_items": null,
      "align_self": null,
      "border": null,
      "bottom": null,
      "display": null,
      "flex": null,
      "flex_flow": null,
      "grid_area": null,
      "grid_auto_columns": null,
      "grid_auto_flow": null,
      "grid_auto_rows": null,
      "grid_column": null,
      "grid_gap": null,
      "grid_row": null,
      "grid_template_areas": null,
      "grid_template_columns": null,
      "grid_template_rows": null,
      "height": null,
      "justify_content": null,
      "justify_items": null,
      "left": null,
      "margin": null,
      "max_height": null,
      "max_width": null,
      "min_height": null,
      "min_width": null,
      "object_fit": null,
      "object_position": null,
      "order": null,
      "overflow": null,
      "overflow_x": null,
      "overflow_y": null,
      "padding": null,
      "right": null,
      "top": null,
      "visibility": null,
      "width": null
     }
    },
    "89e6287d42794cfe9e0e8833f3401dc0": {
     "model_module": "@jupyter-widgets/base",
     "model_module_version": "1.2.0",
     "model_name": "LayoutModel",
     "state": {
      "_model_module": "@jupyter-widgets/base",
      "_model_module_version": "1.2.0",
      "_model_name": "LayoutModel",
      "_view_count": null,
      "_view_module": "@jupyter-widgets/base",
      "_view_module_version": "1.2.0",
      "_view_name": "LayoutView",
      "align_content": null,
      "align_items": null,
      "align_self": null,
      "border": null,
      "bottom": null,
      "display": null,
      "flex": null,
      "flex_flow": null,
      "grid_area": null,
      "grid_auto_columns": null,
      "grid_auto_flow": null,
      "grid_auto_rows": null,
      "grid_column": null,
      "grid_gap": null,
      "grid_row": null,
      "grid_template_areas": null,
      "grid_template_columns": null,
      "grid_template_rows": null,
      "height": null,
      "justify_content": null,
      "justify_items": null,
      "left": null,
      "margin": null,
      "max_height": null,
      "max_width": null,
      "min_height": null,
      "min_width": null,
      "object_fit": null,
      "object_position": null,
      "order": null,
      "overflow": null,
      "overflow_x": null,
      "overflow_y": null,
      "padding": null,
      "right": null,
      "top": null,
      "visibility": null,
      "width": null
     }
    },
    "8b89567e354a4e40a1172f82916a511c": {
     "model_module": "@jupyter-widgets/controls",
     "model_module_version": "1.5.0",
     "model_name": "HBoxModel",
     "state": {
      "_dom_classes": [],
      "_model_module": "@jupyter-widgets/controls",
      "_model_module_version": "1.5.0",
      "_model_name": "HBoxModel",
      "_view_count": null,
      "_view_module": "@jupyter-widgets/controls",
      "_view_module_version": "1.5.0",
      "_view_name": "HBoxView",
      "box_style": "",
      "children": [
       "IPY_MODEL_fc31b040db6c4d4aa48c642408bb1dd4",
       "IPY_MODEL_31dee1517710491bb38383b2de73c64d",
       "IPY_MODEL_4cbc8c79094942caa11b2a5c56395c7c"
      ],
      "layout": "IPY_MODEL_e8b207d9f4264815a5eb80159e03ddb1"
     }
    },
    "8cd0a2b0061d4e69aa96639c03df6360": {
     "model_module": "@jupyter-widgets/controls",
     "model_module_version": "1.5.0",
     "model_name": "DescriptionStyleModel",
     "state": {
      "_model_module": "@jupyter-widgets/controls",
      "_model_module_version": "1.5.0",
      "_model_name": "DescriptionStyleModel",
      "_view_count": null,
      "_view_module": "@jupyter-widgets/base",
      "_view_module_version": "1.2.0",
      "_view_name": "StyleView",
      "description_width": ""
     }
    },
    "8eab4d065a674a8782bab260ea09c4f2": {
     "model_module": "@jupyter-widgets/controls",
     "model_module_version": "1.5.0",
     "model_name": "DescriptionStyleModel",
     "state": {
      "_model_module": "@jupyter-widgets/controls",
      "_model_module_version": "1.5.0",
      "_model_name": "DescriptionStyleModel",
      "_view_count": null,
      "_view_module": "@jupyter-widgets/base",
      "_view_module_version": "1.2.0",
      "_view_name": "StyleView",
      "description_width": ""
     }
    },
    "906cd9ed90ad47858431e96c0d1a2795": {
     "model_module": "@jupyter-widgets/base",
     "model_module_version": "1.2.0",
     "model_name": "LayoutModel",
     "state": {
      "_model_module": "@jupyter-widgets/base",
      "_model_module_version": "1.2.0",
      "_model_name": "LayoutModel",
      "_view_count": null,
      "_view_module": "@jupyter-widgets/base",
      "_view_module_version": "1.2.0",
      "_view_name": "LayoutView",
      "align_content": null,
      "align_items": null,
      "align_self": null,
      "border": null,
      "bottom": null,
      "display": null,
      "flex": null,
      "flex_flow": null,
      "grid_area": null,
      "grid_auto_columns": null,
      "grid_auto_flow": null,
      "grid_auto_rows": null,
      "grid_column": null,
      "grid_gap": null,
      "grid_row": null,
      "grid_template_areas": null,
      "grid_template_columns": null,
      "grid_template_rows": null,
      "height": null,
      "justify_content": null,
      "justify_items": null,
      "left": null,
      "margin": null,
      "max_height": null,
      "max_width": null,
      "min_height": null,
      "min_width": null,
      "object_fit": null,
      "object_position": null,
      "order": null,
      "overflow": null,
      "overflow_x": null,
      "overflow_y": null,
      "padding": null,
      "right": null,
      "top": null,
      "visibility": null,
      "width": null
     }
    },
    "94dc15d966db4637b335c61bd2f7c2ec": {
     "model_module": "@jupyter-widgets/controls",
     "model_module_version": "1.5.0",
     "model_name": "DescriptionStyleModel",
     "state": {
      "_model_module": "@jupyter-widgets/controls",
      "_model_module_version": "1.5.0",
      "_model_name": "DescriptionStyleModel",
      "_view_count": null,
      "_view_module": "@jupyter-widgets/base",
      "_view_module_version": "1.2.0",
      "_view_name": "StyleView",
      "description_width": ""
     }
    },
    "956516e1194f4450b9d4c8e5c1f0977a": {
     "model_module": "@jupyter-widgets/base",
     "model_module_version": "1.2.0",
     "model_name": "LayoutModel",
     "state": {
      "_model_module": "@jupyter-widgets/base",
      "_model_module_version": "1.2.0",
      "_model_name": "LayoutModel",
      "_view_count": null,
      "_view_module": "@jupyter-widgets/base",
      "_view_module_version": "1.2.0",
      "_view_name": "LayoutView",
      "align_content": null,
      "align_items": null,
      "align_self": null,
      "border": null,
      "bottom": null,
      "display": null,
      "flex": null,
      "flex_flow": null,
      "grid_area": null,
      "grid_auto_columns": null,
      "grid_auto_flow": null,
      "grid_auto_rows": null,
      "grid_column": null,
      "grid_gap": null,
      "grid_row": null,
      "grid_template_areas": null,
      "grid_template_columns": null,
      "grid_template_rows": null,
      "height": null,
      "justify_content": null,
      "justify_items": null,
      "left": null,
      "margin": null,
      "max_height": null,
      "max_width": null,
      "min_height": null,
      "min_width": null,
      "object_fit": null,
      "object_position": null,
      "order": null,
      "overflow": null,
      "overflow_x": null,
      "overflow_y": null,
      "padding": null,
      "right": null,
      "top": null,
      "visibility": null,
      "width": null
     }
    },
    "9e12d145b4194735b50cd0e175da6662": {
     "model_module": "@jupyter-widgets/base",
     "model_module_version": "1.2.0",
     "model_name": "LayoutModel",
     "state": {
      "_model_module": "@jupyter-widgets/base",
      "_model_module_version": "1.2.0",
      "_model_name": "LayoutModel",
      "_view_count": null,
      "_view_module": "@jupyter-widgets/base",
      "_view_module_version": "1.2.0",
      "_view_name": "LayoutView",
      "align_content": null,
      "align_items": null,
      "align_self": null,
      "border": null,
      "bottom": null,
      "display": null,
      "flex": null,
      "flex_flow": null,
      "grid_area": null,
      "grid_auto_columns": null,
      "grid_auto_flow": null,
      "grid_auto_rows": null,
      "grid_column": null,
      "grid_gap": null,
      "grid_row": null,
      "grid_template_areas": null,
      "grid_template_columns": null,
      "grid_template_rows": null,
      "height": null,
      "justify_content": null,
      "justify_items": null,
      "left": null,
      "margin": null,
      "max_height": null,
      "max_width": null,
      "min_height": null,
      "min_width": null,
      "object_fit": null,
      "object_position": null,
      "order": null,
      "overflow": null,
      "overflow_x": null,
      "overflow_y": null,
      "padding": null,
      "right": null,
      "top": null,
      "visibility": null,
      "width": null
     }
    },
    "9f3657a8b98e4728a1b3d98116550981": {
     "model_module": "@jupyter-widgets/controls",
     "model_module_version": "1.5.0",
     "model_name": "HBoxModel",
     "state": {
      "_dom_classes": [],
      "_model_module": "@jupyter-widgets/controls",
      "_model_module_version": "1.5.0",
      "_model_name": "HBoxModel",
      "_view_count": null,
      "_view_module": "@jupyter-widgets/controls",
      "_view_module_version": "1.5.0",
      "_view_name": "HBoxView",
      "box_style": "",
      "children": [
       "IPY_MODEL_6364297eeda24bd29e13ae6234e5d9c2",
       "IPY_MODEL_b416ee454d844e3f8176567b352807c8",
       "IPY_MODEL_4e27d92afd8449648837dfbbff484417"
      ],
      "layout": "IPY_MODEL_d177c3f540a8461ebfa238c19cbba19d"
     }
    },
    "a45bd7fed3ab40b2ae9da19bea0051be": {
     "model_module": "@jupyter-widgets/controls",
     "model_module_version": "1.5.0",
     "model_name": "DescriptionStyleModel",
     "state": {
      "_model_module": "@jupyter-widgets/controls",
      "_model_module_version": "1.5.0",
      "_model_name": "DescriptionStyleModel",
      "_view_count": null,
      "_view_module": "@jupyter-widgets/base",
      "_view_module_version": "1.2.0",
      "_view_name": "StyleView",
      "description_width": ""
     }
    },
    "a83080648e6942ab99ad26b7ab30d62e": {
     "model_module": "@jupyter-widgets/controls",
     "model_module_version": "1.5.0",
     "model_name": "DescriptionStyleModel",
     "state": {
      "_model_module": "@jupyter-widgets/controls",
      "_model_module_version": "1.5.0",
      "_model_name": "DescriptionStyleModel",
      "_view_count": null,
      "_view_module": "@jupyter-widgets/base",
      "_view_module_version": "1.2.0",
      "_view_name": "StyleView",
      "description_width": ""
     }
    },
    "ae4085daf7974802b08a130c68fc5822": {
     "model_module": "@jupyter-widgets/controls",
     "model_module_version": "1.5.0",
     "model_name": "FloatProgressModel",
     "state": {
      "_dom_classes": [],
      "_model_module": "@jupyter-widgets/controls",
      "_model_module_version": "1.5.0",
      "_model_name": "FloatProgressModel",
      "_view_count": null,
      "_view_module": "@jupyter-widgets/controls",
      "_view_module_version": "1.5.0",
      "_view_name": "ProgressView",
      "bar_style": "success",
      "description": "",
      "description_tooltip": null,
      "layout": "IPY_MODEL_57258020a1fb4cf1a68b2b728f42aee0",
      "max": 1,
      "min": 0,
      "orientation": "horizontal",
      "style": "IPY_MODEL_133eaa5acb994a4abeb6a64dbae8b997",
      "value": 1
     }
    },
    "b416ee454d844e3f8176567b352807c8": {
     "model_module": "@jupyter-widgets/controls",
     "model_module_version": "1.5.0",
     "model_name": "FloatProgressModel",
     "state": {
      "_dom_classes": [],
      "_model_module": "@jupyter-widgets/controls",
      "_model_module_version": "1.5.0",
      "_model_name": "FloatProgressModel",
      "_view_count": null,
      "_view_module": "@jupyter-widgets/controls",
      "_view_module_version": "1.5.0",
      "_view_name": "ProgressView",
      "bar_style": "success",
      "description": "",
      "description_tooltip": null,
      "layout": "IPY_MODEL_41e01814145d4c8c97e1e51b49d558d6",
      "max": 1,
      "min": 0,
      "orientation": "horizontal",
      "style": "IPY_MODEL_19df0d3f78db4cd5a6560a4536e14232",
      "value": 1
     }
    },
    "b780269ebd68448cbf51d3969da1f122": {
     "model_module": "@jupyter-widgets/controls",
     "model_module_version": "1.5.0",
     "model_name": "HTMLModel",
     "state": {
      "_dom_classes": [],
      "_model_module": "@jupyter-widgets/controls",
      "_model_module_version": "1.5.0",
      "_model_name": "HTMLModel",
      "_view_count": null,
      "_view_module": "@jupyter-widgets/controls",
      "_view_module_version": "1.5.0",
      "_view_name": "HTMLView",
      "description": "",
      "description_tooltip": null,
      "layout": "IPY_MODEL_9e12d145b4194735b50cd0e175da6662",
      "placeholder": "​",
      "style": "IPY_MODEL_a45bd7fed3ab40b2ae9da19bea0051be",
      "value": "Export report to file: 100%"
     }
    },
    "b7fd518dd7ee44d48d515bb647d56a3c": {
     "model_module": "@jupyter-widgets/base",
     "model_module_version": "1.2.0",
     "model_name": "LayoutModel",
     "state": {
      "_model_module": "@jupyter-widgets/base",
      "_model_module_version": "1.2.0",
      "_model_name": "LayoutModel",
      "_view_count": null,
      "_view_module": "@jupyter-widgets/base",
      "_view_module_version": "1.2.0",
      "_view_name": "LayoutView",
      "align_content": null,
      "align_items": null,
      "align_self": null,
      "border": null,
      "bottom": null,
      "display": null,
      "flex": null,
      "flex_flow": null,
      "grid_area": null,
      "grid_auto_columns": null,
      "grid_auto_flow": null,
      "grid_auto_rows": null,
      "grid_column": null,
      "grid_gap": null,
      "grid_row": null,
      "grid_template_areas": null,
      "grid_template_columns": null,
      "grid_template_rows": null,
      "height": null,
      "justify_content": null,
      "justify_items": null,
      "left": null,
      "margin": null,
      "max_height": null,
      "max_width": null,
      "min_height": null,
      "min_width": null,
      "object_fit": null,
      "object_position": null,
      "order": null,
      "overflow": null,
      "overflow_x": null,
      "overflow_y": null,
      "padding": null,
      "right": null,
      "top": null,
      "visibility": null,
      "width": null
     }
    },
    "b81c840d52fd4b48b8bb77c33339380c": {
     "model_module": "@jupyter-widgets/controls",
     "model_module_version": "1.5.0",
     "model_name": "HTMLModel",
     "state": {
      "_dom_classes": [],
      "_model_module": "@jupyter-widgets/controls",
      "_model_module_version": "1.5.0",
      "_model_name": "HTMLModel",
      "_view_count": null,
      "_view_module": "@jupyter-widgets/controls",
      "_view_module_version": "1.5.0",
      "_view_name": "HTMLView",
      "description": "",
      "description_tooltip": null,
      "layout": "IPY_MODEL_492240f2ce6c46c09423ba877ed783cd",
      "placeholder": "​",
      "style": "IPY_MODEL_94dc15d966db4637b335c61bd2f7c2ec",
      "value": " 1/1 [00:00&lt;00:00, 12.41it/s]"
     }
    },
    "be1538ff3fd64530bbefe18ecd152d3e": {
     "model_module": "@jupyter-widgets/base",
     "model_module_version": "1.2.0",
     "model_name": "LayoutModel",
     "state": {
      "_model_module": "@jupyter-widgets/base",
      "_model_module_version": "1.2.0",
      "_model_name": "LayoutModel",
      "_view_count": null,
      "_view_module": "@jupyter-widgets/base",
      "_view_module_version": "1.2.0",
      "_view_name": "LayoutView",
      "align_content": null,
      "align_items": null,
      "align_self": null,
      "border": null,
      "bottom": null,
      "display": null,
      "flex": null,
      "flex_flow": null,
      "grid_area": null,
      "grid_auto_columns": null,
      "grid_auto_flow": null,
      "grid_auto_rows": null,
      "grid_column": null,
      "grid_gap": null,
      "grid_row": null,
      "grid_template_areas": null,
      "grid_template_columns": null,
      "grid_template_rows": null,
      "height": null,
      "justify_content": null,
      "justify_items": null,
      "left": null,
      "margin": null,
      "max_height": null,
      "max_width": null,
      "min_height": null,
      "min_width": null,
      "object_fit": null,
      "object_position": null,
      "order": null,
      "overflow": null,
      "overflow_x": null,
      "overflow_y": null,
      "padding": null,
      "right": null,
      "top": null,
      "visibility": null,
      "width": null
     }
    },
    "be84857a1576469db69b3a111f2e3c81": {
     "model_module": "@jupyter-widgets/controls",
     "model_module_version": "1.5.0",
     "model_name": "HTMLModel",
     "state": {
      "_dom_classes": [],
      "_model_module": "@jupyter-widgets/controls",
      "_model_module_version": "1.5.0",
      "_model_name": "HTMLModel",
      "_view_count": null,
      "_view_module": "@jupyter-widgets/controls",
      "_view_module_version": "1.5.0",
      "_view_name": "HTMLView",
      "description": "",
      "description_tooltip": null,
      "layout": "IPY_MODEL_30ce20111cd14d43b73d6c050e6e1ae5",
      "placeholder": "​",
      "style": "IPY_MODEL_ce7a820eda4c4a268334d7f4bb255145",
      "value": " 150/150 [00:36&lt;00:00,  4.62it/s, Completed]"
     }
    },
    "c1a882ef442d4c199d9e88773fe54b26": {
     "model_module": "@jupyter-widgets/controls",
     "model_module_version": "1.5.0",
     "model_name": "HTMLModel",
     "state": {
      "_dom_classes": [],
      "_model_module": "@jupyter-widgets/controls",
      "_model_module_version": "1.5.0",
      "_model_name": "HTMLModel",
      "_view_count": null,
      "_view_module": "@jupyter-widgets/controls",
      "_view_module_version": "1.5.0",
      "_view_name": "HTMLView",
      "description": "",
      "description_tooltip": null,
      "layout": "IPY_MODEL_6ad903acb3df43e39cc2f1e4d19a8da9",
      "placeholder": "​",
      "style": "IPY_MODEL_f6a81f831a3e439e81d1200b6e0a6c22",
      "value": "Summarize dataset: 100%"
     }
    },
    "c4c9cbb61af04b25a540245a2f04adee": {
     "model_module": "@jupyter-widgets/controls",
     "model_module_version": "1.5.0",
     "model_name": "FloatProgressModel",
     "state": {
      "_dom_classes": [],
      "_model_module": "@jupyter-widgets/controls",
      "_model_module_version": "1.5.0",
      "_model_name": "FloatProgressModel",
      "_view_count": null,
      "_view_module": "@jupyter-widgets/controls",
      "_view_module_version": "1.5.0",
      "_view_name": "ProgressView",
      "bar_style": "success",
      "description": "",
      "description_tooltip": null,
      "layout": "IPY_MODEL_b7fd518dd7ee44d48d515bb647d56a3c",
      "max": 3,
      "min": 0,
      "orientation": "horizontal",
      "style": "IPY_MODEL_4bbc39fb5f2c470193afae3666ba5b54",
      "value": 3
     }
    },
    "ce7a820eda4c4a268334d7f4bb255145": {
     "model_module": "@jupyter-widgets/controls",
     "model_module_version": "1.5.0",
     "model_name": "DescriptionStyleModel",
     "state": {
      "_model_module": "@jupyter-widgets/controls",
      "_model_module_version": "1.5.0",
      "_model_name": "DescriptionStyleModel",
      "_view_count": null,
      "_view_module": "@jupyter-widgets/base",
      "_view_module_version": "1.2.0",
      "_view_name": "StyleView",
      "description_width": ""
     }
    },
    "cef2e0d6e9314b96b031cbad27c49443": {
     "model_module": "@jupyter-widgets/base",
     "model_module_version": "1.2.0",
     "model_name": "LayoutModel",
     "state": {
      "_model_module": "@jupyter-widgets/base",
      "_model_module_version": "1.2.0",
      "_model_name": "LayoutModel",
      "_view_count": null,
      "_view_module": "@jupyter-widgets/base",
      "_view_module_version": "1.2.0",
      "_view_name": "LayoutView",
      "align_content": null,
      "align_items": null,
      "align_self": null,
      "border": null,
      "bottom": null,
      "display": null,
      "flex": null,
      "flex_flow": null,
      "grid_area": null,
      "grid_auto_columns": null,
      "grid_auto_flow": null,
      "grid_auto_rows": null,
      "grid_column": null,
      "grid_gap": null,
      "grid_row": null,
      "grid_template_areas": null,
      "grid_template_columns": null,
      "grid_template_rows": null,
      "height": null,
      "justify_content": null,
      "justify_items": null,
      "left": null,
      "margin": null,
      "max_height": null,
      "max_width": null,
      "min_height": null,
      "min_width": null,
      "object_fit": null,
      "object_position": null,
      "order": null,
      "overflow": null,
      "overflow_x": null,
      "overflow_y": null,
      "padding": null,
      "right": null,
      "top": null,
      "visibility": null,
      "width": null
     }
    },
    "d0a8733532a845c68bde44a48b3b84b2": {
     "model_module": "@jupyter-widgets/base",
     "model_module_version": "1.2.0",
     "model_name": "LayoutModel",
     "state": {
      "_model_module": "@jupyter-widgets/base",
      "_model_module_version": "1.2.0",
      "_model_name": "LayoutModel",
      "_view_count": null,
      "_view_module": "@jupyter-widgets/base",
      "_view_module_version": "1.2.0",
      "_view_name": "LayoutView",
      "align_content": null,
      "align_items": null,
      "align_self": null,
      "border": null,
      "bottom": null,
      "display": null,
      "flex": null,
      "flex_flow": null,
      "grid_area": null,
      "grid_auto_columns": null,
      "grid_auto_flow": null,
      "grid_auto_rows": null,
      "grid_column": null,
      "grid_gap": null,
      "grid_row": null,
      "grid_template_areas": null,
      "grid_template_columns": null,
      "grid_template_rows": null,
      "height": null,
      "justify_content": null,
      "justify_items": null,
      "left": null,
      "margin": null,
      "max_height": null,
      "max_width": null,
      "min_height": null,
      "min_width": null,
      "object_fit": null,
      "object_position": null,
      "order": null,
      "overflow": null,
      "overflow_x": null,
      "overflow_y": null,
      "padding": null,
      "right": null,
      "top": null,
      "visibility": null,
      "width": null
     }
    },
    "d177c3f540a8461ebfa238c19cbba19d": {
     "model_module": "@jupyter-widgets/base",
     "model_module_version": "1.2.0",
     "model_name": "LayoutModel",
     "state": {
      "_model_module": "@jupyter-widgets/base",
      "_model_module_version": "1.2.0",
      "_model_name": "LayoutModel",
      "_view_count": null,
      "_view_module": "@jupyter-widgets/base",
      "_view_module_version": "1.2.0",
      "_view_name": "LayoutView",
      "align_content": null,
      "align_items": null,
      "align_self": null,
      "border": null,
      "bottom": null,
      "display": null,
      "flex": null,
      "flex_flow": null,
      "grid_area": null,
      "grid_auto_columns": null,
      "grid_auto_flow": null,
      "grid_auto_rows": null,
      "grid_column": null,
      "grid_gap": null,
      "grid_row": null,
      "grid_template_areas": null,
      "grid_template_columns": null,
      "grid_template_rows": null,
      "height": null,
      "justify_content": null,
      "justify_items": null,
      "left": null,
      "margin": null,
      "max_height": null,
      "max_width": null,
      "min_height": null,
      "min_width": null,
      "object_fit": null,
      "object_position": null,
      "order": null,
      "overflow": null,
      "overflow_x": null,
      "overflow_y": null,
      "padding": null,
      "right": null,
      "top": null,
      "visibility": null,
      "width": null
     }
    },
    "d57be4b11b4e4443ac2fe1436cf1d633": {
     "model_module": "@jupyter-widgets/base",
     "model_module_version": "1.2.0",
     "model_name": "LayoutModel",
     "state": {
      "_model_module": "@jupyter-widgets/base",
      "_model_module_version": "1.2.0",
      "_model_name": "LayoutModel",
      "_view_count": null,
      "_view_module": "@jupyter-widgets/base",
      "_view_module_version": "1.2.0",
      "_view_name": "LayoutView",
      "align_content": null,
      "align_items": null,
      "align_self": null,
      "border": null,
      "bottom": null,
      "display": null,
      "flex": null,
      "flex_flow": null,
      "grid_area": null,
      "grid_auto_columns": null,
      "grid_auto_flow": null,
      "grid_auto_rows": null,
      "grid_column": null,
      "grid_gap": null,
      "grid_row": null,
      "grid_template_areas": null,
      "grid_template_columns": null,
      "grid_template_rows": null,
      "height": null,
      "justify_content": null,
      "justify_items": null,
      "left": null,
      "margin": null,
      "max_height": null,
      "max_width": null,
      "min_height": null,
      "min_width": null,
      "object_fit": null,
      "object_position": null,
      "order": null,
      "overflow": null,
      "overflow_x": null,
      "overflow_y": null,
      "padding": null,
      "right": null,
      "top": null,
      "visibility": null,
      "width": null
     }
    },
    "da6849b758724420a2c2a3e7c5c3f505": {
     "model_module": "@jupyter-widgets/controls",
     "model_module_version": "1.5.0",
     "model_name": "HBoxModel",
     "state": {
      "_dom_classes": [],
      "_model_module": "@jupyter-widgets/controls",
      "_model_module_version": "1.5.0",
      "_model_name": "HBoxModel",
      "_view_count": null,
      "_view_module": "@jupyter-widgets/controls",
      "_view_module_version": "1.5.0",
      "_view_name": "HBoxView",
      "box_style": "",
      "children": [
       "IPY_MODEL_48ab59530903488cbd827bf59e4b1824",
       "IPY_MODEL_c4c9cbb61af04b25a540245a2f04adee",
       "IPY_MODEL_32c598436a2644beb22999785a1885ef"
      ],
      "layout": "IPY_MODEL_956516e1194f4450b9d4c8e5c1f0977a"
     }
    },
    "db8a2cb9aca442b88196deffae9f4d7e": {
     "model_module": "@jupyter-widgets/controls",
     "model_module_version": "1.5.0",
     "model_name": "FloatProgressModel",
     "state": {
      "_dom_classes": [],
      "_model_module": "@jupyter-widgets/controls",
      "_model_module_version": "1.5.0",
      "_model_name": "FloatProgressModel",
      "_view_count": null,
      "_view_module": "@jupyter-widgets/controls",
      "_view_module_version": "1.5.0",
      "_view_name": "ProgressView",
      "bar_style": "success",
      "description": "",
      "description_tooltip": null,
      "layout": "IPY_MODEL_337e212047e649b0ac6a918e0c6e8381",
      "max": 1,
      "min": 0,
      "orientation": "horizontal",
      "style": "IPY_MODEL_f8796a8e4f5445609938d6ee9f7ab925",
      "value": 1
     }
    },
    "e8b207d9f4264815a5eb80159e03ddb1": {
     "model_module": "@jupyter-widgets/base",
     "model_module_version": "1.2.0",
     "model_name": "LayoutModel",
     "state": {
      "_model_module": "@jupyter-widgets/base",
      "_model_module_version": "1.2.0",
      "_model_name": "LayoutModel",
      "_view_count": null,
      "_view_module": "@jupyter-widgets/base",
      "_view_module_version": "1.2.0",
      "_view_name": "LayoutView",
      "align_content": null,
      "align_items": null,
      "align_self": null,
      "border": null,
      "bottom": null,
      "display": null,
      "flex": null,
      "flex_flow": null,
      "grid_area": null,
      "grid_auto_columns": null,
      "grid_auto_flow": null,
      "grid_auto_rows": null,
      "grid_column": null,
      "grid_gap": null,
      "grid_row": null,
      "grid_template_areas": null,
      "grid_template_columns": null,
      "grid_template_rows": null,
      "height": null,
      "justify_content": null,
      "justify_items": null,
      "left": null,
      "margin": null,
      "max_height": null,
      "max_width": null,
      "min_height": null,
      "min_width": null,
      "object_fit": null,
      "object_position": null,
      "order": null,
      "overflow": null,
      "overflow_x": null,
      "overflow_y": null,
      "padding": null,
      "right": null,
      "top": null,
      "visibility": null,
      "width": null
     }
    },
    "f2f5a385f0d6456eaf01bd6b38b83641": {
     "model_module": "@jupyter-widgets/base",
     "model_module_version": "1.2.0",
     "model_name": "LayoutModel",
     "state": {
      "_model_module": "@jupyter-widgets/base",
      "_model_module_version": "1.2.0",
      "_model_name": "LayoutModel",
      "_view_count": null,
      "_view_module": "@jupyter-widgets/base",
      "_view_module_version": "1.2.0",
      "_view_name": "LayoutView",
      "align_content": null,
      "align_items": null,
      "align_self": null,
      "border": null,
      "bottom": null,
      "display": null,
      "flex": null,
      "flex_flow": null,
      "grid_area": null,
      "grid_auto_columns": null,
      "grid_auto_flow": null,
      "grid_auto_rows": null,
      "grid_column": null,
      "grid_gap": null,
      "grid_row": null,
      "grid_template_areas": null,
      "grid_template_columns": null,
      "grid_template_rows": null,
      "height": null,
      "justify_content": null,
      "justify_items": null,
      "left": null,
      "margin": null,
      "max_height": null,
      "max_width": null,
      "min_height": null,
      "min_width": null,
      "object_fit": null,
      "object_position": null,
      "order": null,
      "overflow": null,
      "overflow_x": null,
      "overflow_y": null,
      "padding": null,
      "right": null,
      "top": null,
      "visibility": null,
      "width": null
     }
    },
    "f6a81f831a3e439e81d1200b6e0a6c22": {
     "model_module": "@jupyter-widgets/controls",
     "model_module_version": "1.5.0",
     "model_name": "DescriptionStyleModel",
     "state": {
      "_model_module": "@jupyter-widgets/controls",
      "_model_module_version": "1.5.0",
      "_model_name": "DescriptionStyleModel",
      "_view_count": null,
      "_view_module": "@jupyter-widgets/base",
      "_view_module_version": "1.2.0",
      "_view_name": "StyleView",
      "description_width": ""
     }
    },
    "f8796a8e4f5445609938d6ee9f7ab925": {
     "model_module": "@jupyter-widgets/controls",
     "model_module_version": "1.5.0",
     "model_name": "ProgressStyleModel",
     "state": {
      "_model_module": "@jupyter-widgets/controls",
      "_model_module_version": "1.5.0",
      "_model_name": "ProgressStyleModel",
      "_view_count": null,
      "_view_module": "@jupyter-widgets/base",
      "_view_module_version": "1.2.0",
      "_view_name": "StyleView",
      "bar_color": null,
      "description_width": ""
     }
    },
    "fc31b040db6c4d4aa48c642408bb1dd4": {
     "model_module": "@jupyter-widgets/controls",
     "model_module_version": "1.5.0",
     "model_name": "HTMLModel",
     "state": {
      "_dom_classes": [],
      "_model_module": "@jupyter-widgets/controls",
      "_model_module_version": "1.5.0",
      "_model_name": "HTMLModel",
      "_view_count": null,
      "_view_module": "@jupyter-widgets/controls",
      "_view_module_version": "1.5.0",
      "_view_name": "HTMLView",
      "description": "",
      "description_tooltip": null,
      "layout": "IPY_MODEL_906cd9ed90ad47858431e96c0d1a2795",
      "placeholder": "​",
      "style": "IPY_MODEL_4ff3b90cdb4e477995c1c542be1d247f",
      "value": "100%"
     }
    },
    "fc9a3ee5d69741128e51dfe33943eb5f": {
     "model_module": "@jupyter-widgets/controls",
     "model_module_version": "1.5.0",
     "model_name": "FloatProgressModel",
     "state": {
      "_dom_classes": [],
      "_model_module": "@jupyter-widgets/controls",
      "_model_module_version": "1.5.0",
      "_model_name": "FloatProgressModel",
      "_view_count": null,
      "_view_module": "@jupyter-widgets/controls",
      "_view_module_version": "1.5.0",
      "_view_name": "ProgressView",
      "bar_style": "success",
      "description": "",
      "description_tooltip": null,
      "layout": "IPY_MODEL_cef2e0d6e9314b96b031cbad27c49443",
      "max": 5,
      "min": 0,
      "orientation": "horizontal",
      "style": "IPY_MODEL_2bf6ccfe45994627aa524c74340388eb",
      "value": 5
     }
    }
   }
  }
 },
 "nbformat": 4,
 "nbformat_minor": 0
}
