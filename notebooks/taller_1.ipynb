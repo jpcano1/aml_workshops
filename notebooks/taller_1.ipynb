{
 "cells": [
  {
   "cell_type": "markdown",
   "id": "773488f4",
   "metadata": {
    "id": "rft1MP5eCPav"
   },
   "source": [
    "# **Análisis con Machine Learning**\n",
    "## **Taller 1**\n",
    "#### **Andrea Bayona - Juan Pablo Cano**\n",
    "\n",
    "\n",
    "En la actualidad, el sector inmobiliario ruso está en pleno auge. Ofrece muchas oportunidades emocionantes y un alto rendimiento en cuanto a estilos de vida e inversiones. El mercado inmobiliario lleva varios años en fase de crecimiento, lo que significa que todavía se pueden encontrar propiedades a precios muy atractivos, pero es muy probable que aumenten en el futuro. Para poder entender el mercado, una inmobiliaria rusa le ha brindado la información de la venta de más de 45 mil inmuebles entre los años de 2018 y 2021. Y quieren entender cuáles son las características principales que inciden en los precios de venta, para poder proponer planes de construcción de inmuebles en las áreas urbanas disponibles, que tomen en cuenta estas características."
   ]
  },
  {
   "cell_type": "code",
   "execution_count": 3,
   "id": "8f1efaf8",
   "metadata": {
    "colab": {
     "base_uri": "https://localhost:8080/",
     "height": 67,
     "referenced_widgets": [
      "f36e5fc2011e4610ab7023be86219b84",
      "c415eeb92f7043e8b96a57a0b2f66de0",
      "573acf786cbc45c99c7929bf26ac3803",
      "0fbc465aa99244fb826cd8c2d708a2b0",
      "a5ce9451dee94807a0167712ab0ea83e",
      "787091749c8c4cc6b4e1e1abc81a99c9",
      "d520ac2d610c442fbd45003ad6c49e45",
      "1db1e8f04e58403eb3961e8e2a0d2848",
      "6fcd4db153e6466795b5d7d9ca9fed0c",
      "817bda5a33ca4889ae21d17274e36833",
      "78e0622191554a49a350cbe47d5fbc50"
     ]
    },
    "id": "Tb2Jg3f9jx-S",
    "outputId": "ce24700f-f124-47de-9608-bd6ac01065de"
   },
   "outputs": [
    {
     "name": "stdout",
     "output_type": "stream",
     "text": [
      "shred: setup_colab_general.py: failed to open for writing: No such file or directory\n"
     ]
    },
    {
     "name": "stderr",
     "output_type": "stream",
     "text": [
      "100%|██████████| 3/3 [00:00<00:00, 1461.77KB/s]"
     ]
    },
    {
     "name": "stdout",
     "output_type": "stream",
     "text": [
      "General Functions Enabled Successfully\n"
     ]
    },
    {
     "name": "stderr",
     "output_type": "stream",
     "text": [
      "\n"
     ]
    }
   ],
   "source": [
    "!shred -u setup_colab_general.py\n",
    "!wget -q \"https://github.com/jpcano1/python_utils/raw/main/setup_colab_general.py\" -O setup_colab_general.py\n",
    "import setup_colab_general as setup_general\n",
    "\n",
    "setup_general.setup_general()"
   ]
  },
  {
   "cell_type": "code",
   "execution_count": null,
   "id": "8084b3d8",
   "metadata": {
    "id": "yqAdW4WNlYXN"
   },
   "outputs": [],
   "source": [
    "!pip install --disable-pip-version-check --progress-bar off -q https://github.com/pandas-profiling/pandas-profiling/archive/master.zip\n",
    "!pip install --disable-pip-version-check --progress-bar off -q tabulate"
   ]
  },
  {
   "cell_type": "markdown",
   "id": "bfb131f5",
   "metadata": {
    "id": "Am5V_Yb1ntVC",
    "lines_to_next_cell": 0
   },
   "source": [
    "## **Importando la librerías necesarias**"
   ]
  },
  {
   "cell_type": "code",
   "execution_count": 1,
   "id": "75b62735",
   "metadata": {
    "id": "ebTvp-cCwAsQ"
   },
   "outputs": [],
   "source": [
    "import os\n",
    "\n",
    "import matplotlib.pyplot as plt\n",
    "\n",
    "plt.style.use(\"seaborn-deep\")\n",
    "\n",
    "import mlflow\n",
    "\n",
    "# Librerías extras\n",
    "import itertools\n",
    "from typing import Optional\n",
    "\n",
    "import numpy as np\n",
    "import pandas as pd\n",
    "#import pandas_profiling\n",
    "from sklearn.base import BaseEstimator, TransformerMixin\n",
    "from sklearn.linear_model import Lasso, LinearRegression, Ridge\n",
    "from sklearn.metrics import mean_absolute_error, mean_squared_error, r2_score\n",
    "from sklearn.model_selection import GridSearchCV, train_test_split\n",
    "from sklearn.pipeline import Pipeline\n",
    "from sklearn.preprocessing import PolynomialFeatures, StandardScaler\n",
    "from tabulate import tabulate\n",
    "\n",
    "from utils import general as gen"
   ]
  },
  {
   "cell_type": "code",
   "execution_count": 5,
   "id": "408b2bd1",
   "metadata": {
    "colab": {
     "base_uri": "https://localhost:8080/",
     "referenced_widgets": [
      "8f32ac9affd94093a82965446c22a1d6",
      "4b1d20d0b9e74ee89d8ef7268f013fe8",
      "d9286e6079d14ad88f1a39687feeea4b",
      "7532de9b083d4a978579b7e9d5d01f24",
      "18a0f8191bf0443e8a41e252a4fa9a4a",
      "1773c0cda1864c4884dcbaef0bfab8db",
      "489c0dea7aca4a038221829119dd6b2c",
      "72647a8834254e5084010cdd80b9feec",
      "d6b1b23f40124546884d41b134d3bc8b",
      "e96c2b8830294aa9a4cda6782992a319",
      "e31accab95874bca9428ad25996f8dbe"
     ]
    },
    "id": "CtzhV51Hwa5p",
    "outputId": "f479c4a9-fe08-458e-dc21-2cd5c9e10a96"
   },
   "outputs": [
    {
     "name": "stderr",
     "output_type": "stream",
     "text": [
      "100%|██████████| 1971/1971 [00:00<00:00, 17044.71KB/s]\n"
     ]
    }
   ],
   "source": [
    "data_url = (\n",
    "    \"https://raw.githubusercontent.com/\"\n",
    "    \"Camilojaravila/202210_MINE-4206_ANAL\"\n",
    "    \"ISIS_CON_MACHINE_LEARNING/main/Taller%\"\n",
    "    \"201/russian_prices.csv\"\n",
    ")\n",
    "gen.download_content(data_url, filename=\"russian_prices.csv\")"
   ]
  },
  {
   "cell_type": "markdown",
   "id": "f05f47f6",
   "metadata": {
    "id": "IuYNGV_wnxjN"
   },
   "source": [
    "## **Lectura y perfilamiento**\n",
    "\n",
    "### **Diccionario de Datos**\n",
    "La inmobiliaria ha construido el siguiente diccionario de datos:\n",
    "\n",
    "* date - Fecha de publicación del anuncio.\n",
    "* time - Tiempo que la publicación estuvo activo.\n",
    "* geo_lat - Latitud.\n",
    "* geo_lon - Longitud.\n",
    "* region - Region de Rusia. Hay 85 regiones en total.\n",
    "* building_type - Tipo de Fachada. 0 - Other. 1 - Panel. 2 - Monolithic. 3 - * Brick. 4 - Blocky. 5 - Wooden.\n",
    "* object_type - Tipo de Apartmento. 1 - Secondary real estate market; 2 - New * building.\n",
    "* level - Piso del Apartamento.\n",
    "* levels - Número de pisos.\n",
    "* rooms - Número de Habitaciones. Si el valor es \"-1\", Significa que es un \"studio apartment\".\n",
    "* area - Área total del apartamento (m2).\n",
    "* kitchen_area - Área de la Cocina (m2).\n",
    "* price - Precio. En rublos"
   ]
  },
  {
   "cell_type": "markdown",
   "id": "5753fc18",
   "metadata": {
    "id": "tvVbLTlBE6mh"
   },
   "source": [
    "A continuación, se leen los datos y se revisan las primeras líneas para verficar que la carga fue exitosa"
   ]
  },
  {
   "cell_type": "code",
   "execution_count": 2,
   "id": "d8ba2b53",
   "metadata": {
    "id": "kj0nEuMvxWad"
   },
   "outputs": [],
   "source": [
    "russian_prices_df = pd.read_csv(\"data/russian_prices.csv\")"
   ]
  },
  {
   "cell_type": "code",
   "execution_count": 3,
   "id": "aaa35a77",
   "metadata": {
    "colab": {
     "base_uri": "https://localhost:8080/"
    },
    "id": "2wS1sFwMj6uO",
    "outputId": "1a289b70-6d2f-43ff-c40f-b98ecaba21d7"
   },
   "outputs": [
    {
     "data": {
      "text/plain": "   Unnamed: 0    price        date      time    geo_lat    geo_lon  region  \\\n0       14040  3900000  2018-09-10  12:40:14  55.786480  49.223459  2922.0   \n1       24608  4250000  2018-09-11  17:26:15  55.905045  37.393578    81.0   \n2       76636  4340360  2018-09-18  02:35:04  59.882717  30.451298  2661.0   \n3       31944  8000000  2018-09-12  21:40:17  55.640462  37.359415     3.0   \n4       82427  2750000  2018-09-18  06:18:38  55.042053  82.940926  9654.0   \n\n   building_type  level  levels  rooms   area  kitchen_area  object_type  \n0            1.0   10.0    11.0    3.0  67.00          8.80          1.0  \n1            1.0   25.0    25.0    1.0  39.00         10.50          1.0  \n2            0.0    4.0    27.0    1.0  57.11         11.38          1.0  \n3            1.0    1.0    17.0    3.0  74.50         10.00          1.0  \n4            1.0    1.0     5.0    2.0  44.60          6.00          1.0  ",
      "text/html": "<div>\n<style scoped>\n    .dataframe tbody tr th:only-of-type {\n        vertical-align: middle;\n    }\n\n    .dataframe tbody tr th {\n        vertical-align: top;\n    }\n\n    .dataframe thead th {\n        text-align: right;\n    }\n</style>\n<table border=\"1\" class=\"dataframe\">\n  <thead>\n    <tr style=\"text-align: right;\">\n      <th></th>\n      <th>Unnamed: 0</th>\n      <th>price</th>\n      <th>date</th>\n      <th>time</th>\n      <th>geo_lat</th>\n      <th>geo_lon</th>\n      <th>region</th>\n      <th>building_type</th>\n      <th>level</th>\n      <th>levels</th>\n      <th>rooms</th>\n      <th>area</th>\n      <th>kitchen_area</th>\n      <th>object_type</th>\n    </tr>\n  </thead>\n  <tbody>\n    <tr>\n      <th>0</th>\n      <td>14040</td>\n      <td>3900000</td>\n      <td>2018-09-10</td>\n      <td>12:40:14</td>\n      <td>55.786480</td>\n      <td>49.223459</td>\n      <td>2922.0</td>\n      <td>1.0</td>\n      <td>10.0</td>\n      <td>11.0</td>\n      <td>3.0</td>\n      <td>67.00</td>\n      <td>8.80</td>\n      <td>1.0</td>\n    </tr>\n    <tr>\n      <th>1</th>\n      <td>24608</td>\n      <td>4250000</td>\n      <td>2018-09-11</td>\n      <td>17:26:15</td>\n      <td>55.905045</td>\n      <td>37.393578</td>\n      <td>81.0</td>\n      <td>1.0</td>\n      <td>25.0</td>\n      <td>25.0</td>\n      <td>1.0</td>\n      <td>39.00</td>\n      <td>10.50</td>\n      <td>1.0</td>\n    </tr>\n    <tr>\n      <th>2</th>\n      <td>76636</td>\n      <td>4340360</td>\n      <td>2018-09-18</td>\n      <td>02:35:04</td>\n      <td>59.882717</td>\n      <td>30.451298</td>\n      <td>2661.0</td>\n      <td>0.0</td>\n      <td>4.0</td>\n      <td>27.0</td>\n      <td>1.0</td>\n      <td>57.11</td>\n      <td>11.38</td>\n      <td>1.0</td>\n    </tr>\n    <tr>\n      <th>3</th>\n      <td>31944</td>\n      <td>8000000</td>\n      <td>2018-09-12</td>\n      <td>21:40:17</td>\n      <td>55.640462</td>\n      <td>37.359415</td>\n      <td>3.0</td>\n      <td>1.0</td>\n      <td>1.0</td>\n      <td>17.0</td>\n      <td>3.0</td>\n      <td>74.50</td>\n      <td>10.00</td>\n      <td>1.0</td>\n    </tr>\n    <tr>\n      <th>4</th>\n      <td>82427</td>\n      <td>2750000</td>\n      <td>2018-09-18</td>\n      <td>06:18:38</td>\n      <td>55.042053</td>\n      <td>82.940926</td>\n      <td>9654.0</td>\n      <td>1.0</td>\n      <td>1.0</td>\n      <td>5.0</td>\n      <td>2.0</td>\n      <td>44.60</td>\n      <td>6.00</td>\n      <td>1.0</td>\n    </tr>\n  </tbody>\n</table>\n</div>"
     },
     "execution_count": 3,
     "metadata": {},
     "output_type": "execute_result"
    }
   ],
   "source": [
    "russian_prices_df.head()"
   ]
  },
  {
   "cell_type": "code",
   "execution_count": 4,
   "id": "3d8a8c3e",
   "metadata": {
    "colab": {
     "base_uri": "https://localhost:8080/"
    },
    "id": "wfg_2vpIj8-_",
    "outputId": "61788701-a72e-4bbe-b3d6-1e872a8e9268"
   },
   "outputs": [
    {
     "name": "stdout",
     "output_type": "stream",
     "text": [
      "<class 'pandas.core.frame.DataFrame'>\n",
      "RangeIndex: 67762 entries, 0 to 67761\n",
      "Data columns (total 14 columns):\n",
      " #   Column         Non-Null Count  Dtype  \n",
      "---  ------         --------------  -----  \n",
      " 0   Unnamed: 0     67762 non-null  int64  \n",
      " 1   price          67762 non-null  int64  \n",
      " 2   date           67762 non-null  object \n",
      " 3   time           67762 non-null  object \n",
      " 4   geo_lat        67762 non-null  float64\n",
      " 5   geo_lon        67762 non-null  float64\n",
      " 6   region         67761 non-null  float64\n",
      " 7   building_type  67761 non-null  float64\n",
      " 8   level          67761 non-null  float64\n",
      " 9   levels         67761 non-null  float64\n",
      " 10  rooms          67761 non-null  float64\n",
      " 11  area           67761 non-null  float64\n",
      " 12  kitchen_area   67761 non-null  float64\n",
      " 13  object_type    67761 non-null  float64\n",
      "dtypes: float64(10), int64(2), object(2)\n",
      "memory usage: 7.2+ MB\n"
     ]
    }
   ],
   "source": [
    "russian_prices_df.info()"
   ]
  },
  {
   "cell_type": "code",
   "execution_count": null,
   "id": "18f5807f",
   "metadata": {
    "id": "Wl1BKpS4xAw2"
   },
   "outputs": [],
   "source": [
    "profiler = pandas_profiling.ProfileReport(russian_prices_df, dark_mode=True)"
   ]
  },
  {
   "cell_type": "markdown",
   "id": "ea085c05",
   "metadata": {
    "id": "zfOPUCD0wNxc"
   },
   "source": [
    "- El perfilamiento se encuentra en los anexos."
   ]
  },
  {
   "cell_type": "code",
   "execution_count": null,
   "id": "8cecfc6a",
   "metadata": {
    "colab": {
     "base_uri": "https://localhost:8080/",
     "referenced_widgets": [
      "43552aa81edb4d549039620ba4f5e219",
      "59b1f7c7890044eeabc09b440ec2179b",
      "658be1c5915748eaa1e145ee16025c68",
      "cb1a99b1c43047e4b18dbe88cfce10bb",
      "5528a149e1da4d76ad182fb73fb7d540",
      "8bac1b90e20549ccb5954d64b329229e",
      "ff378d55cf9d471abe1a70f9fae5a2a4",
      "5de5caaef3224713b8baff7e03b672e7",
      "f532373581a14500a9a52b55643d0cd2",
      "c044d2abff9e4234b24282312d63aabb",
      "497800d0848f40478c2385c362944b70",
      "e9ac7ae4f4e148d49189cf2e82e10b85",
      "1b86aad8a58d4855850c7da938397545",
      "a84574e678d54475adccd2f1830d98b7",
      "6fba2332a3904402bc5849ca2ec8d8b4",
      "c7f19e79908a4580b9c21802660c16eb",
      "3f000da7a9554c85b81577680406a5fc",
      "035209bb241840ecba66b532383e2fe3",
      "ff6d580988ea484d88dc3652b597200b",
      "d7b21b39409e4a9896e8b9c89ee719df",
      "3595af6e985442b2b03a99eb45e392a6",
      "1aa66f2d218c46f1b1977bdd4a06a29f",
      "62da8655840a48588d5f17c851a7704e",
      "9a019b58dde1427ba137691ce5a9ca45",
      "fcb628673ba54f3aa18bac9e19ae479d",
      "6b1d0ddca02b4a5080e3a14f09617876",
      "43f62b6498844699824740203cbad04e",
      "29389e45904e4f659450c955be8e340a",
      "aa6e881d2ce446be9e270244ba2ad91c",
      "c3a3d6c6bf954f8bbfbb4280e2c60474",
      "83ffe96d67304724be8a594b3c78eaa5",
      "ceba62c299b34d2088bc8e0f7e2ef3b6",
      "92d0c71528b44bff96eccedd65a8f1b0",
      "8167ec02a4c548ffade77e4532441af5",
      "db235209d453453aa12a51c2a3cdec89",
      "8b896ac119904b918f4dc458b111a726",
      "5655bc92cc4b4d14a0a94092217beb32",
      "f9157981d403417ebcba1ee5551479cc",
      "a33e61b591394ddfb951523aa84a2e52",
      "6396e9cb24de43598929c0e0fc8c620a",
      "e431c4fce170458f87f822281db1e3d6",
      "b7cee479ea9e45e181ff7997e2cd2ca8",
      "1dced353eb414a9392a77d9c41c1de95",
      "b9c729011d924b4699445652699f8503"
     ]
    },
    "id": "ztSi0cuPxffs",
    "outputId": "0213797c-0761-4293-c541-e30ca32dfa90"
   },
   "outputs": [],
   "source": [
    "if not os.path.exists(\"profiling_reports\"):\n",
    "    os.makedirs(\"profiling_reports\")\n",
    "profiler.to_file(\"profiling_reports/russian_prices_profile.html\")"
   ]
  },
  {
   "cell_type": "markdown",
   "id": "e61ff23f",
   "metadata": {
    "id": "oO11RRE2VWAN"
   },
   "source": [
    "- Las siguientes columnas se eliminaron bajo el supuesto de que no son necesarias para el objetivo de negocio. La primera columna es un identificador de propiedad, ergo, no es significativa. Las columnas `time` y `date` son columnas relacionadas a la publicación, más no a la propiedad perse, por lo tanto, no son significativas para nuestro modelo."
   ]
  },
  {
   "cell_type": "code",
   "execution_count": 5,
   "id": "4f6ea84c",
   "metadata": {
    "id": "xUQji5iQi4oY"
   },
   "outputs": [],
   "source": [
    "columns_to_delete = [\n",
    "    \"Unnamed: 0\",\n",
    "    \"time\",\n",
    "    \"date\",\n",
    "]"
   ]
  },
  {
   "cell_type": "code",
   "execution_count": 6,
   "id": "e13afef3",
   "metadata": {
    "id": "HuVpJcPpjox-"
   },
   "outputs": [],
   "source": [
    "russian_prices_df.drop(columns=columns_to_delete, inplace=True)"
   ]
  },
  {
   "cell_type": "markdown",
   "id": "72d1527e",
   "metadata": {
    "id": "k9tWqKeNsACK"
   },
   "source": [
    "- Todas las columnas con valores nulos fueron removidas"
   ]
  },
  {
   "cell_type": "code",
   "execution_count": 7,
   "id": "603f3153",
   "metadata": {
    "id": "rdgm3ridkZhS"
   },
   "outputs": [],
   "source": [
    "russian_prices_df.dropna(inplace=True)"
   ]
  },
  {
   "cell_type": "code",
   "execution_count": 8,
   "id": "4ed796fb",
   "metadata": {
    "colab": {
     "base_uri": "https://localhost:8080/"
    },
    "id": "2fvSWw_hj1wS",
    "outputId": "aea14985-ac08-4ddb-c820-f8e4e371ecd8"
   },
   "outputs": [
    {
     "name": "stdout",
     "output_type": "stream",
     "text": [
      "<class 'pandas.core.frame.DataFrame'>\n",
      "Int64Index: 67761 entries, 0 to 67761\n",
      "Data columns (total 11 columns):\n",
      " #   Column         Non-Null Count  Dtype  \n",
      "---  ------         --------------  -----  \n",
      " 0   price          67761 non-null  int64  \n",
      " 1   geo_lat        67761 non-null  float64\n",
      " 2   geo_lon        67761 non-null  float64\n",
      " 3   region         67761 non-null  float64\n",
      " 4   building_type  67761 non-null  float64\n",
      " 5   level          67761 non-null  float64\n",
      " 6   levels         67761 non-null  float64\n",
      " 7   rooms          67761 non-null  float64\n",
      " 8   area           67761 non-null  float64\n",
      " 9   kitchen_area   67761 non-null  float64\n",
      " 10  object_type    67761 non-null  float64\n",
      "dtypes: float64(10), int64(1)\n",
      "memory usage: 6.2 MB\n"
     ]
    }
   ],
   "source": [
    "russian_prices_df.info()"
   ]
  },
  {
   "cell_type": "code",
   "execution_count": 9,
   "id": "a315f401",
   "metadata": {
    "id": "NXiS5wFokqHi"
   },
   "outputs": [],
   "source": [
    "russian_prices_df = russian_prices_df.apply(lambda x: x.astype(\"int32\"))\n",
    "russian_prices_df[\"object_type\"] = russian_prices_df[\"object_type\"].apply(\n",
    "    lambda x: 2 if x == 11 else x\n",
    ")\n",
    "russian_prices_df[\"rooms\"] = russian_prices_df[\"rooms\"].apply(lambda x: -1 if x == -2 else x)"
   ]
  },
  {
   "cell_type": "code",
   "execution_count": 10,
   "id": "137026b8",
   "metadata": {
    "id": "dYivdCPnwfuo"
   },
   "outputs": [],
   "source": [
    "rows_to_drop = russian_prices_df.query(\n",
    "    \"kitchen_area + 5 >= area | area <= 10 | price <= 2000\"\n",
    ").index\n",
    "russian_prices_df = russian_prices_df.drop(rows_to_drop).reset_index(drop=True)"
   ]
  },
  {
   "cell_type": "code",
   "execution_count": 11,
   "id": "1c839516",
   "metadata": {
    "id": "V7BDrFLJmcN9"
   },
   "outputs": [],
   "source": [
    "X, y = russian_prices_df.drop(\"price\", axis=1), russian_prices_df[\"price\"]"
   ]
  },
  {
   "cell_type": "code",
   "execution_count": 12,
   "id": "b8c6bb8b",
   "metadata": {
    "id": "Gh_LIlQTmm0S"
   },
   "outputs": [],
   "source": [
    "full_X_train, X_test, full_y_train, y_test = train_test_split(\n",
    "    X, y, test_size=0.2, random_state=1234\n",
    ")\n",
    "X_train, X_val, y_train, y_val = train_test_split(\n",
    "    full_X_train, full_y_train, test_size=0.2, random_state=1234\n",
    ")"
   ]
  },
  {
   "cell_type": "code",
   "execution_count": 13,
   "id": "46c4510a",
   "metadata": {
    "colab": {
     "base_uri": "https://localhost:8080/"
    },
    "id": "eEtwMvsAmogC",
    "outputId": "4362362f-68c0-4c00-d671-495085c99382"
   },
   "outputs": [
    {
     "data": {
      "text/plain": "((43323, 10), (43323,))"
     },
     "execution_count": 13,
     "metadata": {},
     "output_type": "execute_result"
    }
   ],
   "source": [
    "X_train.shape, y_train.shape"
   ]
  },
  {
   "cell_type": "code",
   "execution_count": 14,
   "id": "601f8b64",
   "metadata": {
    "colab": {
     "base_uri": "https://localhost:8080/"
    },
    "id": "M3JwOPusnIpn",
    "outputId": "66c0f45e-ed9e-4e7a-bc3e-ab59c717bc4a"
   },
   "outputs": [
    {
     "data": {
      "text/plain": "((10831, 10), (10831,))"
     },
     "execution_count": 14,
     "metadata": {},
     "output_type": "execute_result"
    }
   ],
   "source": [
    "X_val.shape, y_val.shape"
   ]
  },
  {
   "cell_type": "code",
   "execution_count": 15,
   "id": "0cb0d83b",
   "metadata": {
    "colab": {
     "base_uri": "https://localhost:8080/"
    },
    "id": "0QveAb5em00v",
    "outputId": "c75a4fc7-79a8-4c3f-b185-8b02830bd599"
   },
   "outputs": [
    {
     "data": {
      "text/plain": "((13539, 10), (13539,))"
     },
     "execution_count": 15,
     "metadata": {},
     "output_type": "execute_result"
    }
   ],
   "source": [
    "X_test.shape, y_test.shape"
   ]
  },
  {
   "cell_type": "markdown",
   "id": "32410c8d",
   "metadata": {
    "id": "rP-CN-yeoJ_9"
   },
   "source": [
    "## **Modelamiento**"
   ]
  },
  {
   "cell_type": "markdown",
   "id": "e7a1ebc6",
   "metadata": {
    "id": "16UKiXe_TM12"
   },
   "source": [
    "### **Regresión Polinómial**\n",
    "#### **Entrenamiento (Sin estandarización)**"
   ]
  },
  {
   "cell_type": "markdown",
   "id": "0c671c36",
   "metadata": {
    "id": "zHyXQXfb2qAG"
   },
   "source": [
    "Se define la clase para realizar la transformación polinomial de nuetras variables"
   ]
  },
  {
   "cell_type": "code",
   "execution_count": 18,
   "id": "6cc2bf95",
   "metadata": {
    "id": "1EeXFbK_pP7a"
   },
   "outputs": [],
   "source": [
    "class ToPolynomial(BaseEstimator, TransformerMixin):\n",
    "    def __init__(self, k: int = 2) -> None:\n",
    "        self.k = k\n",
    "\n",
    "    def fit(self, X, y):\n",
    "        return self\n",
    "\n",
    "    def transform(\n",
    "        self, \n",
    "        X: pd.DataFrame, \n",
    "        y: Optional[pd.Series] = None,\n",
    "    ) -> pd.DataFrame:\n",
    "        columns = X.columns\n",
    "        X_train_pol = pd.concat(\n",
    "            [X ** (i + 1) for i in range(self.k)], axis=1\n",
    "        )  # Polinomios sin interacciones\n",
    "        X_train_pol.columns = np.reshape(\n",
    "            [[i + \" \" + str(j + 1) for i in columns] for j in range(self.k)], -1\n",
    "        )\n",
    "        temp = pd.concat(\n",
    "            [X[i[0]] * X[i[1]] for i in list(itertools.combinations(columns, 2))], axis=1\n",
    "        )  # Combinaciones sólo de grado 1\n",
    "        temp.columns = [\" \".join(i) for i in list(itertools.combinations(columns, 2))]\n",
    "        X_train_pol = pd.concat([X_train_pol, temp], axis=1)\n",
    "        return X_train_pol"
   ]
  },
  {
   "cell_type": "markdown",
   "id": "c6bba519",
   "metadata": {
    "id": "Fj3hG4RM2wLO"
   },
   "source": [
    "Se crea un pipeline para encapsular los pasos de entrenamiento de nuestro modelo. Primero se realiza la transformación polinamial de las variables y estas se utilizan para entrenar el modelo de regresión lineal."
   ]
  },
  {
   "cell_type": "code",
   "execution_count": null,
   "id": "7e104338",
   "metadata": {
    "colab": {
     "base_uri": "https://localhost:8080/"
    },
    "id": "2yMSJKDloOZi",
    "outputId": "de3292b9-2b6c-42ee-ebb0-e0af96d5e87d"
   },
   "outputs": [],
   "source": [
    "estimators = [(\"polinomial\", ToPolynomial()), (\"regresion\", LinearRegression())]\n",
    "\n",
    "pipe_pol = Pipeline(estimators)\n",
    "\n",
    "pipe_pol.fit(X_train, y_train)"
   ]
  },
  {
   "cell_type": "markdown",
   "id": "00e64e7c",
   "metadata": {
    "id": "0G2Ruy0T4DUD"
   },
   "source": [
    " Parámetros entrenados por la Regresión Polinomial"
   ]
  },
  {
   "cell_type": "code",
   "execution_count": null,
   "id": "7d3ddfe0",
   "metadata": {
    "colab": {
     "base_uri": "https://localhost:8080/"
    },
    "id": "eCPY09nsTcWK",
    "outputId": "2ca0f684-34c3-482b-c1ed-6dcc3ac6f9b2"
   },
   "outputs": [],
   "source": [
    "reg_lineal = pipe_pol[\"regresion\"]\n",
    "\n",
    "print(\"Intercept: \", reg_lineal.intercept_)\n",
    "print(\"Coefficients: \", reg_lineal.coef_)"
   ]
  },
  {
   "cell_type": "markdown",
   "id": "29948a2b",
   "metadata": {
    "id": "epQPSIhSTWXo"
   },
   "source": [
    "#### **Validación (Sin estandarización)**"
   ]
  },
  {
   "cell_type": "code",
   "execution_count": null,
   "id": "313e8ae0",
   "metadata": {
    "colab": {
     "base_uri": "https://localhost:8080/"
    },
    "id": "-epy5ZCTT2hd",
    "outputId": "15884a59-7aca-42a3-dad3-1307f841f369"
   },
   "outputs": [],
   "source": [
    "y_pred = pipe_pol.predict(X_val)\n",
    "y_pred"
   ]
  },
  {
   "cell_type": "code",
   "execution_count": null,
   "id": "95f0b3e1",
   "metadata": {
    "colab": {
     "base_uri": "https://localhost:8080/"
    },
    "id": "UzYpZljfT9qv",
    "lines_to_next_cell": 2,
    "outputId": "8971380f-21df-46e7-8982-391455700b5b"
   },
   "outputs": [],
   "source": [
    "r2_poly = r2_score(y_val, y_pred)\n",
    "mse_poly = mean_squared_error(y_val, y_pred)\n",
    "mae_poly = mean_absolute_error(y_val, y_pred)\n",
    "\n",
    "print(\"------------ Polynomial Regression ------------\")\n",
    "print(f\"R2-score: {r2_poly:.7f}\")\n",
    "print(f\"Residual sum of squares (MSE): {mse_poly:.5f}\")\n",
    "print(f\"Mean absolute error: {mae_poly:.5f}\")"
   ]
  },
  {
   "cell_type": "markdown",
   "id": "ab33927f",
   "metadata": {
    "id": "hWv4uZTyeZ1l"
   },
   "source": [
    "#### **Comportamiento de los datos reales vs los datos predecidos**"
   ]
  },
  {
   "cell_type": "code",
   "execution_count": null,
   "id": "1b4d19aa",
   "metadata": {
    "id": "lt_fp3tjdVJy"
   },
   "outputs": [],
   "source": [
    "%matplotlib inline\n",
    "\n",
    "\n",
    "def draw_chart(y_val_p, y_pred_p, title, legend):\n",
    "    fig, axs = plt.subplots(1, figsize=(20, 10))\n",
    "\n",
    "    xvals = list(range(len(y_val_p[:50])))\n",
    "    axs.plot(xvals, y_pred_p[:50], \"bo-\", label=legend)\n",
    "    axs.plot(xvals, y_val_p[:50], \"ro-\", label=\"Real\")\n",
    "\n",
    "    axs.set(title=title, ylabel=y_train.name)\n",
    "    axs.legend()\n",
    "\n",
    "    plt.tight_layout()\n",
    "    plt.show()"
   ]
  },
  {
   "cell_type": "code",
   "execution_count": null,
   "id": "b18c04ff",
   "metadata": {
    "colab": {
     "base_uri": "https://localhost:8080/",
     "height": 729
    },
    "id": "HA1FneL3hcOX",
    "outputId": "6d31ad8a-ad46-415b-b9f1-0a04504241df"
   },
   "outputs": [],
   "source": [
    "draw_chart(y_val, y_pred, \"Predicción con Regresión Polinomial\", \"Regresión Polinomial\")"
   ]
  },
  {
   "cell_type": "markdown",
   "id": "dc981d07",
   "metadata": {
    "id": "2L9PZ3OiPh9H"
   },
   "source": [
    "#### **Entrenamiento (Con estandarización)**"
   ]
  },
  {
   "cell_type": "code",
   "execution_count": 19,
   "id": "6f37123d",
   "metadata": {
    "colab": {
     "base_uri": "https://localhost:8080/"
    },
    "id": "WfoASDJqPhMt",
    "outputId": "365908bf-eec1-497a-f4db-ca22cc66fa37"
   },
   "outputs": [
    {
     "data": {
      "text/plain": "Pipeline(steps=[('polinomial', ToPolynomial()),\n                ('normalizar', StandardScaler()),\n                ('regresion', LinearRegression())])"
     },
     "execution_count": 19,
     "metadata": {},
     "output_type": "execute_result"
    }
   ],
   "source": [
    "estimators_2 = [\n",
    "    (\"polinomial\", ToPolynomial()),\n",
    "    (\"normalizar\", StandardScaler()),\n",
    "    (\"regresion\", LinearRegression()),\n",
    "]\n",
    "\n",
    "pipe_pol_s = Pipeline(estimators_2)\n",
    "\n",
    "pipe_pol_s.fit(X_train, y_train)"
   ]
  },
  {
   "cell_type": "markdown",
   "id": "167976cf",
   "metadata": {
    "id": "H6VmO045P6MN"
   },
   "source": [
    " Parámetros entrenados por la Regresión Polinomial"
   ]
  },
  {
   "cell_type": "code",
   "execution_count": null,
   "id": "13fa6d16",
   "metadata": {
    "colab": {
     "base_uri": "https://localhost:8080/"
    },
    "id": "h0C0dPUTQZfw",
    "outputId": "74a2f6ba-0d3d-462b-91f6-5d83be0ffea4"
   },
   "outputs": [],
   "source": [
    "reg_lineal_s = pipe_pol_s[\"regresion\"]\n",
    "\n",
    "print(\"Intercept: \", reg_lineal_s.intercept_)\n",
    "print(\"Coefficients: \", reg_lineal_s.coef_)"
   ]
  },
  {
   "cell_type": "markdown",
   "id": "8d4be6c0",
   "metadata": {
    "id": "xIYXvQSOQjqP"
   },
   "source": [
    "#### **Validación (Con estandarización)**"
   ]
  },
  {
   "cell_type": "code",
   "execution_count": null,
   "id": "c91d471e",
   "metadata": {
    "colab": {
     "base_uri": "https://localhost:8080/"
    },
    "id": "w5I-DSlPQpO7",
    "outputId": "fce4b816-88c8-43d1-9d18-54fd6b318b64"
   },
   "outputs": [],
   "source": [
    "y_pred_1b = pipe_pol_s.predict(X_val)\n",
    "y_pred_1b"
   ]
  },
  {
   "cell_type": "code",
   "execution_count": null,
   "id": "f0a02971",
   "metadata": {
    "colab": {
     "base_uri": "https://localhost:8080/"
    },
    "id": "DA3xqeyjQ1X9",
    "outputId": "489e69b3-10e1-4d03-9140-f580a5de423c"
   },
   "outputs": [],
   "source": [
    "r2_poly_s = r2_score(y_val, y_pred_1b)\n",
    "mse_poly_s = mean_squared_error(y_val, y_pred_1b)\n",
    "mae_poly_s = mean_absolute_error(y_val, y_pred_1b)\n",
    "\n",
    "print(\"------------ Polynomial Regression ------------\")\n",
    "print(f\"R2-score: {r2_poly_s:.7f}\")\n",
    "print(f\"Residual sum of squares (MSE): {mse_poly_s:.5f}\")\n",
    "print(f\"Mean absolute error: {mae_poly_s:.5f}\")"
   ]
  },
  {
   "cell_type": "markdown",
   "id": "dfed5e3d",
   "metadata": {
    "id": "0TwCRPfGRFve"
   },
   "source": [
    "#### **Comportamiento de los datos reales vs los datos predecidos**"
   ]
  },
  {
   "cell_type": "code",
   "execution_count": null,
   "id": "1682f562",
   "metadata": {
    "colab": {
     "base_uri": "https://localhost:8080/",
     "height": 729
    },
    "id": "9pWcfymsRGYG",
    "outputId": "6ef5214c-bcbf-430a-989d-41a036201963"
   },
   "outputs": [],
   "source": [
    "%matplotlib inline\n",
    "draw_chart(\n",
    "    y_val,\n",
    "    y_pred_1b,\n",
    "    \"Predicción con Regresión Polinomial (con estandarización)\",\n",
    "    \"Regresión Polinomial\",\n",
    ")"
   ]
  },
  {
   "cell_type": "markdown",
   "id": "981c9cfe",
   "metadata": {
    "id": "ud_HEwjZoOrq"
   },
   "source": [
    "### **Regresión Ridge**\n",
    "#### **Entrenamiento (Sin estandarización)**\n",
    "\n"
   ]
  },
  {
   "cell_type": "code",
   "execution_count": null,
   "id": "efde24c9",
   "metadata": {
    "colab": {
     "base_uri": "https://localhost:8080/"
    },
    "id": "rnnb_rWBoRHa",
    "outputId": "538b5f4a-cac6-4919-babf-d9a095c15c05"
   },
   "outputs": [],
   "source": [
    "ridge_reg = Ridge()\n",
    "ridge_reg.fit(X_train, y_train)"
   ]
  },
  {
   "cell_type": "code",
   "execution_count": null,
   "id": "ed9acaba",
   "metadata": {
    "colab": {
     "base_uri": "https://localhost:8080/"
    },
    "id": "xe1WtO-IiepT",
    "outputId": "fdc0f7eb-78d2-4143-c21e-9e227f36c78a"
   },
   "outputs": [],
   "source": [
    "ridge_coef = dict(zip(X_train.columns, ridge_reg.coef_))\n",
    "ridge_coef"
   ]
  },
  {
   "cell_type": "markdown",
   "id": "96a7d268",
   "metadata": {
    "id": "Zdx6xzlXdN0b"
   },
   "source": [
    "#### **Validación**"
   ]
  },
  {
   "cell_type": "code",
   "execution_count": null,
   "id": "2adaca96",
   "metadata": {
    "id": "26Wmz50fdRx5"
   },
   "outputs": [],
   "source": [
    "y_pred_2 = ridge_reg.predict(X_val)"
   ]
  },
  {
   "cell_type": "code",
   "execution_count": null,
   "id": "5aebad1e",
   "metadata": {
    "colab": {
     "base_uri": "https://localhost:8080/"
    },
    "id": "EvQB0EHsi_Fm",
    "outputId": "03d2c814-640b-4820-c993-f5ef9ccbc785"
   },
   "outputs": [],
   "source": [
    "r2_ridge = r2_score(y_val, y_pred_2)\n",
    "mse_ridge = mean_squared_error(y_val, y_pred_2)\n",
    "mae_ridge = mean_absolute_error(y_val, y_pred_2)\n",
    "\n",
    "print(\"------------ Ridge ------------\")\n",
    "print(f\"R2-score: {r2_ridge:.7f}\")\n",
    "print(f\"Residual sum of squares (MSE): {mse_ridge:.5f}\")\n",
    "print(f\"Mean absolute error: {mae_ridge:.5f}\")"
   ]
  },
  {
   "cell_type": "markdown",
   "id": "afff666f",
   "metadata": {
    "id": "UkIx8aTSe8JA"
   },
   "source": [
    "#### **Comportamiento de los datos reales vs los datos predecidos**"
   ]
  },
  {
   "cell_type": "code",
   "execution_count": null,
   "id": "d7aef070",
   "metadata": {
    "colab": {
     "base_uri": "https://localhost:8080/",
     "height": 729
    },
    "id": "bkaeBDIuevsV",
    "outputId": "84b6d593-b37d-4859-b5fb-02403bb6967c"
   },
   "outputs": [],
   "source": [
    "%matplotlib inline\n",
    "draw_chart(y_val, y_pred_2, \"Predicción con regresion Ridge\", \"Regresion Ridge\")"
   ]
  },
  {
   "cell_type": "markdown",
   "id": "56d78185",
   "metadata": {
    "id": "9Pd-sS9eYGzD"
   },
   "source": [
    "#### **Entrenamiento (Con estandarización)**"
   ]
  },
  {
   "cell_type": "code",
   "execution_count": null,
   "id": "004b52be",
   "metadata": {
    "colab": {
     "base_uri": "https://localhost:8080/"
    },
    "id": "wcsl9CmhYJ_7",
    "outputId": "87b33712-c50b-48bd-a95e-c8c1f9a916d1"
   },
   "outputs": [],
   "source": [
    "pipeline_ridge = Pipeline(\n",
    "    [\n",
    "        (\"scaler\", StandardScaler()),\n",
    "        (\"regressor\", Ridge()),\n",
    "    ],\n",
    ")\n",
    "\n",
    "pipeline_ridge.fit(X_train, y_train)"
   ]
  },
  {
   "cell_type": "code",
   "execution_count": null,
   "id": "c8fb7895",
   "metadata": {
    "colab": {
     "base_uri": "https://localhost:8080/"
    },
    "id": "lLkPRJlSZZvS",
    "outputId": "cb398eb4-7f8d-45aa-f485-dc7b8ca62319"
   },
   "outputs": [],
   "source": [
    "ridge_coef = dict(zip(X_train.columns, pipeline_ridge.steps[1][1].coef_))\n",
    "ridge_coef"
   ]
  },
  {
   "cell_type": "markdown",
   "id": "3c50da5e",
   "metadata": {
    "id": "dflufl4waDcF"
   },
   "source": [
    "#### **Validación**"
   ]
  },
  {
   "cell_type": "code",
   "execution_count": null,
   "id": "eaa7690e",
   "metadata": {
    "id": "6SYHTEbBaHiw"
   },
   "outputs": [],
   "source": [
    "y_pred_2b = pipeline_ridge.predict(X_val)"
   ]
  },
  {
   "cell_type": "code",
   "execution_count": null,
   "id": "e6cf84e3",
   "metadata": {
    "colab": {
     "base_uri": "https://localhost:8080/"
    },
    "id": "EelZTCKzaMSL",
    "outputId": "7728db79-cd20-4f04-f94a-60ddd0489289"
   },
   "outputs": [],
   "source": [
    "r2_ridge_s = r2_score(y_val, y_pred_2b)\n",
    "mse_ridge_s = mean_squared_error(y_val, y_pred_2b)\n",
    "mae_ridge_s = mean_absolute_error(y_val, y_pred_2b)\n",
    "\n",
    "print(\"------------ Ridge (Con estandarización) ------------\")\n",
    "print(f\"R2-score: {r2_ridge_s:.7f}\")\n",
    "print(f\"Residual sum of squares (MSE): {mse_ridge_s:.5f}\")\n",
    "print(f\"Mean absolute error: {mae_ridge_s:.5f}\")"
   ]
  },
  {
   "cell_type": "markdown",
   "id": "1038163c",
   "metadata": {
    "id": "rbeZ9Bc2gxRu"
   },
   "source": [
    "#### **Comportamiento de los datos reales vs los datos predecidos**"
   ]
  },
  {
   "cell_type": "code",
   "execution_count": null,
   "id": "1ba0b090",
   "metadata": {
    "colab": {
     "base_uri": "https://localhost:8080/"
    },
    "id": "JRh9LRiNigzY",
    "outputId": "a1a96ea3-df1c-4366-da30-a625f913521f"
   },
   "outputs": [],
   "source": [
    "%matplotlib inline\n",
    "draw_chart(\n",
    "    y_val, y_pred_2b, \"Predicción con regresion Ridge (Con estandarización)\", \"Regresion Ridge\"\n",
    ")"
   ]
  },
  {
   "cell_type": "markdown",
   "id": "add52082",
   "metadata": {
    "id": "mQ_FoF7RoRX9"
   },
   "source": [
    "### **Regresión Lasso**\n",
    "#### **Entrenamiento (Sin estandarización)**"
   ]
  },
  {
   "cell_type": "code",
   "execution_count": null,
   "id": "e2b7d7d6",
   "metadata": {
    "colab": {
     "base_uri": "https://localhost:8080/"
    },
    "id": "TLdd00Wdm69O",
    "outputId": "e74fa362-6a4f-4f75-ceec-7ab3e051ca69"
   },
   "outputs": [],
   "source": [
    "lasso_reg = Lasso()\n",
    "lasso_reg.fit(X_train, y_train)"
   ]
  },
  {
   "cell_type": "code",
   "execution_count": null,
   "id": "387fa081",
   "metadata": {
    "colab": {
     "base_uri": "https://localhost:8080/"
    },
    "id": "atcLgUTkoaKF",
    "outputId": "60b2b2c5-dc4d-4db4-c7d6-0680047148ee"
   },
   "outputs": [],
   "source": [
    "lasso_coef = dict(zip(X_train.columns, lasso_reg.coef_))\n",
    "lasso_coef"
   ]
  },
  {
   "cell_type": "markdown",
   "id": "436b872e",
   "metadata": {
    "id": "NE0rheOho8Oj"
   },
   "source": [
    "#### **Validación**"
   ]
  },
  {
   "cell_type": "code",
   "execution_count": null,
   "id": "32212728",
   "metadata": {
    "id": "yRCL86NIokX6"
   },
   "outputs": [],
   "source": [
    "y_pred_3 = lasso_reg.predict(X_val)"
   ]
  },
  {
   "cell_type": "code",
   "execution_count": null,
   "id": "0e2b437d",
   "metadata": {
    "colab": {
     "base_uri": "https://localhost:8080/"
    },
    "id": "htf4tAfFbPDT",
    "outputId": "10d2e563-2f80-45a6-b373-355d5a554da7"
   },
   "outputs": [],
   "source": [
    "r2_lasso = r2_score(y_val, y_pred_3)\n",
    "mse_lasso = mean_squared_error(y_val, y_pred_3)\n",
    "mae_lasso = mean_absolute_error(y_val, y_pred_3)\n",
    "\n",
    "print(\"------------ Lasso ------------\")\n",
    "print(f\"R2-score: {r2_lasso:.4f}\")\n",
    "print(f\"Residual sum of squares (MSE): {mse_lasso:.5f}\")\n",
    "print(f\"Mean absolute error: {mae_lasso:.5f}\")"
   ]
  },
  {
   "cell_type": "markdown",
   "id": "4a08098d",
   "metadata": {
    "id": "VMbo3Ep9kWGZ"
   },
   "source": [
    "#### **Comportamiento de los datos reales vs los datos predecidos**"
   ]
  },
  {
   "cell_type": "code",
   "execution_count": null,
   "id": "1c20528d",
   "metadata": {
    "colab": {
     "base_uri": "https://localhost:8080/"
    },
    "id": "xeorxVPNkeMg",
    "outputId": "8741cd6e-692d-412a-fc08-699b4d269218"
   },
   "outputs": [],
   "source": [
    "%matplotlib inline\n",
    "draw_chart(y_val, y_pred_3, \"Predicción con regresion Lasso\", \"Regresion Lasso\")"
   ]
  },
  {
   "cell_type": "markdown",
   "id": "ce6b9a0b",
   "metadata": {
    "id": "FCjiiBzKcbTY"
   },
   "source": [
    "#### **Entrenamiento (Con estandarización)**"
   ]
  },
  {
   "cell_type": "code",
   "execution_count": null,
   "id": "c380e852",
   "metadata": {
    "colab": {
     "base_uri": "https://localhost:8080/"
    },
    "id": "Em51FsVrr62S",
    "outputId": "ce820441-1436-4d4a-ce70-f44d2003e55b"
   },
   "outputs": [],
   "source": [
    "pipeline = Pipeline(\n",
    "    [\n",
    "        (\"scaler\", StandardScaler()),\n",
    "        (\"regressor\", Lasso()),\n",
    "    ],\n",
    ")\n",
    "\n",
    "pipeline.fit(X_train, y_train)"
   ]
  },
  {
   "cell_type": "code",
   "execution_count": null,
   "id": "8efafef2",
   "metadata": {
    "colab": {
     "base_uri": "https://localhost:8080/"
    },
    "id": "QuqmS5LTdjr9",
    "outputId": "10de4b6b-69e5-4baf-a215-2c43c6a928dd"
   },
   "outputs": [],
   "source": [
    "lasso_coef = dict(zip(X_train.columns, pipeline.steps[1][1].coef_))\n",
    "lasso_coef"
   ]
  },
  {
   "cell_type": "markdown",
   "id": "5df9879d",
   "metadata": {
    "id": "TYpXgaMxdv77"
   },
   "source": [
    "#### **Validación**"
   ]
  },
  {
   "cell_type": "code",
   "execution_count": null,
   "id": "a1fb98ef",
   "metadata": {
    "id": "TguKWWZwdn9a"
   },
   "outputs": [],
   "source": [
    "y_pred_3b = pipeline.predict(X_val)"
   ]
  },
  {
   "cell_type": "code",
   "execution_count": null,
   "id": "4cb2a720",
   "metadata": {
    "colab": {
     "base_uri": "https://localhost:8080/"
    },
    "id": "Bv_znLZ-dxlq",
    "outputId": "6175e388-6104-4395-f6a7-4e9eb0e37922"
   },
   "outputs": [],
   "source": [
    "r2_lasso_s = r2_score(y_val, y_pred_3b)\n",
    "mse_lasso_s = mean_squared_error(y_val, y_pred_3b)\n",
    "mae_lasso_s = mean_absolute_error(y_val, y_pred_3b)\n",
    "\n",
    "print(\"------------ Lasso (Con estandarización) ------------\")\n",
    "print(f\"R2-score: {r2_lasso_s:.7f}\")\n",
    "print(f\"Residual sum of squares (MSE): {mse_lasso_s:.5f}\")\n",
    "print(f\"Mean absolute error: {mae_lasso_s:.5f}\")"
   ]
  },
  {
   "cell_type": "markdown",
   "id": "a48243f9",
   "metadata": {
    "id": "rA8zBvMtkYIp"
   },
   "source": [
    "#### **Comportamiento de los datos reales vs los datos predecidos**"
   ]
  },
  {
   "cell_type": "code",
   "execution_count": null,
   "id": "79a08f8c",
   "metadata": {
    "colab": {
     "base_uri": "https://localhost:8080/"
    },
    "id": "WvJeqiEAky85",
    "outputId": "b8a56fa3-2e1c-45c1-d04e-e87866aca8c4"
   },
   "outputs": [],
   "source": [
    "%matplotlib inline\n",
    "draw_chart(\n",
    "    y_val, y_pred_3b, \"Predicción con regresion Lasso (Con estandarización)\", \"Regresion Lasso\"\n",
    ")"
   ]
  },
  {
   "cell_type": "markdown",
   "id": "587408bd",
   "metadata": {
    "id": "8-9QFqjSlfFJ"
   },
   "source": [
    "### **Selección del mejor modelo**\n",
    "Tabla comparativa con los resultados de las métricas R2, MSE y MAE para los 3 modelos entrenados."
   ]
  },
  {
   "cell_type": "code",
   "execution_count": null,
   "id": "cd5b2bb9",
   "metadata": {
    "colab": {
     "base_uri": "https://localhost:8080/"
    },
    "id": "lWomqAnlmJK7",
    "outputId": "d14db8d7-2eff-489a-e2eb-4fd951555ff2"
   },
   "outputs": [],
   "source": [
    "info = {\n",
    "    \"Model\": [\n",
    "        \"Poly Regression\",\n",
    "        \"Poly Regression (con S)\",\n",
    "        \"Ridge\",\n",
    "        \"Ridge (con S)\",\n",
    "        \"Lasso\",\n",
    "        \"Lasso (con S)\",\n",
    "    ],\n",
    "    \"R2\": [r2_poly, r2_poly_s, r2_ridge, r2_ridge_s, r2_lasso, r2_lasso_s],\n",
    "    \"MSE\": [mse_poly, mse_poly_s, mse_ridge, mse_ridge_s, mse_ridge, mse_lasso_s],\n",
    "    \"MAE\": [mae_poly, mae_poly_s, mae_ridge, mae_ridge_s, mae_lasso, mae_lasso_s],\n",
    "}\n",
    "\n",
    "print(tabulate(info, headers=\"keys\", tablefmt=\"fancy_grid\"))"
   ]
  },
  {
   "cell_type": "markdown",
   "id": "025abd0e",
   "metadata": {
    "id": "ewVS7PkQd_1B"
   },
   "source": [
    "### **Optimización de hiperparámetros para el mejor modelo**"
   ]
  },
  {
   "cell_type": "code",
   "execution_count": 20,
   "id": "fab84209",
   "metadata": {
    "id": "eWSPKRNod7fJ"
   },
   "outputs": [],
   "source": [
    "parameters = {\"polinomial__k\": [2, 3, 4, 5], \"normalizar\": [StandardScaler(), \"passthrough\"]}\n",
    "\n",
    "grid_search = GridSearchCV(\n",
    "    pipe_pol_s, parameters, verbose=2, scoring=\"neg_mean_squared_error\", cv=5, n_jobs=-1\n",
    ")"
   ]
  },
  {
   "cell_type": "code",
   "execution_count": 21,
   "id": "7b95f598",
   "metadata": {
    "colab": {
     "base_uri": "https://localhost:8080/"
    },
    "id": "PYd51X78SOoF",
    "outputId": "c15c344d-f0d1-4fbc-d199-c3b318ad5f8a"
   },
   "outputs": [
    {
     "name": "stdout",
     "output_type": "stream",
     "text": [
      "Fitting 5 folds for each of 8 candidates, totalling 40 fits\n"
     ]
    },
    {
     "data": {
      "text/plain": "GridSearchCV(cv=5,\n             estimator=Pipeline(steps=[('polinomial', ToPolynomial()),\n                                       ('normalizar', StandardScaler()),\n                                       ('regresion', LinearRegression())]),\n             n_jobs=-1,\n             param_grid={'normalizar': [StandardScaler(), 'passthrough'],\n                         'polinomial__k': [2, 3, 4, 5]},\n             scoring='neg_mean_squared_error', verbose=2)"
     },
     "execution_count": 21,
     "metadata": {},
     "output_type": "execute_result"
    }
   ],
   "source": [
    "grid_search.fit(X_train, y_train)"
   ]
  },
  {
   "cell_type": "code",
   "execution_count": 22,
   "id": "231d99e5",
   "metadata": {
    "colab": {
     "base_uri": "https://localhost:8080/",
     "height": 711
    },
    "id": "GIPcgonDTMwX",
    "outputId": "8578c137-d2cc-4da6-eb96-c34b941823c6"
   },
   "outputs": [
    {
     "data": {
      "text/plain": "   mean_fit_time  std_fit_time  mean_score_time  std_score_time  \\\n0       2.230566      0.728896         0.043791        0.025204   \n1       2.458300      0.355636         0.038500        0.018551   \n2       4.648090      1.042260         0.062044        0.026727   \n3       4.713295      1.206722         0.079715        0.023995   \n4       0.909371      0.203408         0.045597        0.007191   \n5       1.057661      0.208787         0.059519        0.004267   \n6       1.272626      0.098832         0.061997        0.007388   \n7       1.048163      0.041725         0.027402        0.007712   \n\n   param_normalizar param_polinomial__k  \\\n0  StandardScaler()                   2   \n1  StandardScaler()                   3   \n2  StandardScaler()                   4   \n3  StandardScaler()                   5   \n4       passthrough                   2   \n5       passthrough                   3   \n6       passthrough                   4   \n7       passthrough                   5   \n\n                                              params  split0_test_score  \\\n0  {'normalizar': StandardScaler(), 'polinomial__...      -1.882278e+13   \n1  {'normalizar': StandardScaler(), 'polinomial__...      -1.852645e+13   \n2  {'normalizar': StandardScaler(), 'polinomial__...      -1.838550e+13   \n3  {'normalizar': StandardScaler(), 'polinomial__...      -1.841628e+13   \n4  {'normalizar': 'passthrough', 'polinomial__k': 2}      -1.872107e+13   \n5  {'normalizar': 'passthrough', 'polinomial__k': 3}      -1.852645e+13   \n6  {'normalizar': 'passthrough', 'polinomial__k': 4}      -1.838550e+13   \n7  {'normalizar': 'passthrough', 'polinomial__k': 5}      -1.841628e+13   \n\n   split1_test_score  split2_test_score  split3_test_score  split4_test_score  \\\n0      -5.990306e+14      -1.381967e+14      -2.598604e+14      -8.305997e+13   \n1      -5.967178e+14      -1.380976e+14      -2.579953e+14      -9.827160e+13   \n2      -5.967385e+14      -1.377751e+14      -2.587333e+14      -9.769336e+13   \n3      -5.969015e+14      -1.377724e+14      -2.633939e+14      -9.775850e+13   \n4      -5.988684e+14      -1.383023e+14      -2.598677e+14      -8.313671e+13   \n5      -5.967178e+14      -1.380976e+14      -2.579953e+14      -9.827160e+13   \n6      -5.967385e+14      -1.377751e+14      -2.587333e+14      -9.769336e+13   \n7      -5.969015e+14      -1.377724e+14      -2.633939e+14      -9.775850e+13   \n\n   mean_test_score  std_test_score  rank_test_score  \n0    -2.197941e+14    2.055089e+14                2  \n1    -2.219218e+14    2.027111e+14                5  \n2    -2.218652e+14    2.028709e+14                3  \n3    -2.228485e+14    2.030948e+14                7  \n4    -2.197792e+14    2.054506e+14                1  \n5    -2.219218e+14    2.027111e+14                6  \n6    -2.218652e+14    2.028709e+14                4  \n7    -2.228485e+14    2.030948e+14                8  ",
      "text/html": "<div>\n<style scoped>\n    .dataframe tbody tr th:only-of-type {\n        vertical-align: middle;\n    }\n\n    .dataframe tbody tr th {\n        vertical-align: top;\n    }\n\n    .dataframe thead th {\n        text-align: right;\n    }\n</style>\n<table border=\"1\" class=\"dataframe\">\n  <thead>\n    <tr style=\"text-align: right;\">\n      <th></th>\n      <th>mean_fit_time</th>\n      <th>std_fit_time</th>\n      <th>mean_score_time</th>\n      <th>std_score_time</th>\n      <th>param_normalizar</th>\n      <th>param_polinomial__k</th>\n      <th>params</th>\n      <th>split0_test_score</th>\n      <th>split1_test_score</th>\n      <th>split2_test_score</th>\n      <th>split3_test_score</th>\n      <th>split4_test_score</th>\n      <th>mean_test_score</th>\n      <th>std_test_score</th>\n      <th>rank_test_score</th>\n    </tr>\n  </thead>\n  <tbody>\n    <tr>\n      <th>0</th>\n      <td>2.230566</td>\n      <td>0.728896</td>\n      <td>0.043791</td>\n      <td>0.025204</td>\n      <td>StandardScaler()</td>\n      <td>2</td>\n      <td>{'normalizar': StandardScaler(), 'polinomial__...</td>\n      <td>-1.882278e+13</td>\n      <td>-5.990306e+14</td>\n      <td>-1.381967e+14</td>\n      <td>-2.598604e+14</td>\n      <td>-8.305997e+13</td>\n      <td>-2.197941e+14</td>\n      <td>2.055089e+14</td>\n      <td>2</td>\n    </tr>\n    <tr>\n      <th>1</th>\n      <td>2.458300</td>\n      <td>0.355636</td>\n      <td>0.038500</td>\n      <td>0.018551</td>\n      <td>StandardScaler()</td>\n      <td>3</td>\n      <td>{'normalizar': StandardScaler(), 'polinomial__...</td>\n      <td>-1.852645e+13</td>\n      <td>-5.967178e+14</td>\n      <td>-1.380976e+14</td>\n      <td>-2.579953e+14</td>\n      <td>-9.827160e+13</td>\n      <td>-2.219218e+14</td>\n      <td>2.027111e+14</td>\n      <td>5</td>\n    </tr>\n    <tr>\n      <th>2</th>\n      <td>4.648090</td>\n      <td>1.042260</td>\n      <td>0.062044</td>\n      <td>0.026727</td>\n      <td>StandardScaler()</td>\n      <td>4</td>\n      <td>{'normalizar': StandardScaler(), 'polinomial__...</td>\n      <td>-1.838550e+13</td>\n      <td>-5.967385e+14</td>\n      <td>-1.377751e+14</td>\n      <td>-2.587333e+14</td>\n      <td>-9.769336e+13</td>\n      <td>-2.218652e+14</td>\n      <td>2.028709e+14</td>\n      <td>3</td>\n    </tr>\n    <tr>\n      <th>3</th>\n      <td>4.713295</td>\n      <td>1.206722</td>\n      <td>0.079715</td>\n      <td>0.023995</td>\n      <td>StandardScaler()</td>\n      <td>5</td>\n      <td>{'normalizar': StandardScaler(), 'polinomial__...</td>\n      <td>-1.841628e+13</td>\n      <td>-5.969015e+14</td>\n      <td>-1.377724e+14</td>\n      <td>-2.633939e+14</td>\n      <td>-9.775850e+13</td>\n      <td>-2.228485e+14</td>\n      <td>2.030948e+14</td>\n      <td>7</td>\n    </tr>\n    <tr>\n      <th>4</th>\n      <td>0.909371</td>\n      <td>0.203408</td>\n      <td>0.045597</td>\n      <td>0.007191</td>\n      <td>passthrough</td>\n      <td>2</td>\n      <td>{'normalizar': 'passthrough', 'polinomial__k': 2}</td>\n      <td>-1.872107e+13</td>\n      <td>-5.988684e+14</td>\n      <td>-1.383023e+14</td>\n      <td>-2.598677e+14</td>\n      <td>-8.313671e+13</td>\n      <td>-2.197792e+14</td>\n      <td>2.054506e+14</td>\n      <td>1</td>\n    </tr>\n    <tr>\n      <th>5</th>\n      <td>1.057661</td>\n      <td>0.208787</td>\n      <td>0.059519</td>\n      <td>0.004267</td>\n      <td>passthrough</td>\n      <td>3</td>\n      <td>{'normalizar': 'passthrough', 'polinomial__k': 3}</td>\n      <td>-1.852645e+13</td>\n      <td>-5.967178e+14</td>\n      <td>-1.380976e+14</td>\n      <td>-2.579953e+14</td>\n      <td>-9.827160e+13</td>\n      <td>-2.219218e+14</td>\n      <td>2.027111e+14</td>\n      <td>6</td>\n    </tr>\n    <tr>\n      <th>6</th>\n      <td>1.272626</td>\n      <td>0.098832</td>\n      <td>0.061997</td>\n      <td>0.007388</td>\n      <td>passthrough</td>\n      <td>4</td>\n      <td>{'normalizar': 'passthrough', 'polinomial__k': 4}</td>\n      <td>-1.838550e+13</td>\n      <td>-5.967385e+14</td>\n      <td>-1.377751e+14</td>\n      <td>-2.587333e+14</td>\n      <td>-9.769336e+13</td>\n      <td>-2.218652e+14</td>\n      <td>2.028709e+14</td>\n      <td>4</td>\n    </tr>\n    <tr>\n      <th>7</th>\n      <td>1.048163</td>\n      <td>0.041725</td>\n      <td>0.027402</td>\n      <td>0.007712</td>\n      <td>passthrough</td>\n      <td>5</td>\n      <td>{'normalizar': 'passthrough', 'polinomial__k': 5}</td>\n      <td>-1.841628e+13</td>\n      <td>-5.969015e+14</td>\n      <td>-1.377724e+14</td>\n      <td>-2.633939e+14</td>\n      <td>-9.775850e+13</td>\n      <td>-2.228485e+14</td>\n      <td>2.030948e+14</td>\n      <td>8</td>\n    </tr>\n  </tbody>\n</table>\n</div>"
     },
     "execution_count": 22,
     "metadata": {},
     "output_type": "execute_result"
    }
   ],
   "source": [
    "best_model = grid_search.best_estimator_\n",
    "\n",
    "pd.DataFrame(grid_search.cv_results_)"
   ]
  },
  {
   "cell_type": "code",
   "execution_count": 23,
   "id": "8fac93ab",
   "metadata": {
    "colab": {
     "base_uri": "https://localhost:8080/"
    },
    "id": "w_kM-BRhTPcj",
    "outputId": "46490f76-64fb-4ceb-dfce-5891719a0aec"
   },
   "outputs": [
    {
     "data": {
      "text/plain": "{'normalizar': 'passthrough', 'polinomial__k': 2}"
     },
     "execution_count": 23,
     "metadata": {},
     "output_type": "execute_result"
    }
   ],
   "source": [
    "grid_search.best_params_"
   ]
  },
  {
   "cell_type": "code",
   "execution_count": 27,
   "id": "531e2b7e",
   "metadata": {
    "id": "iS-M3gxsTgNX"
   },
   "outputs": [],
   "source": [
    "y_pred_final = best_model.predict(X_val)\n",
    "y_pred_final_e = best_model.predict(X_train)"
   ]
  },
  {
   "cell_type": "code",
   "execution_count": 28,
   "id": "a145d81f",
   "metadata": {
    "colab": {
     "base_uri": "https://localhost:8080/"
    },
    "id": "pxwDgaI4Tg4X",
    "outputId": "b1db8efc-3a22-4b57-cf6f-f202af0de1de"
   },
   "outputs": [
    {
     "name": "stdout",
     "output_type": "stream",
     "text": [
      "------------ Polynomial Regression Entrenamiento------------\n",
      "R2-score: 0.1258109\n",
      "Residual sum of squares (MSE): 210995665535383.34375\n",
      "Mean absolute error: 2261211.54627\n",
      "------------ Polynomial Regression Validacion ------------\n",
      "R2-score: 0.0468936\n",
      "Residual sum of squares (MSE): 829070445907963.25000\n",
      "Mean absolute error: 2711813.51661\n"
     ]
    }
   ],
   "source": [
    "r2_final_e = r2_score(y_train, y_pred_final_e)\n",
    "mse_def_e = mean_squared_error(y_train, y_pred_final_e)\n",
    "mae_poly_final_e = mean_absolute_error(y_train, y_pred_final_e)\n",
    "\n",
    "print(\"------------ Polynomial Regression Entrenamiento------------\")\n",
    "print(f\"R2-score: {r2_final_e:.7f}\")\n",
    "print(f\"Residual sum of squares (MSE): {mse_def_e:.5f}\")\n",
    "print(f\"Mean absolute error: {mae_poly_final_e:.5f}\")\n",
    "\n",
    "r2_final = r2_score(y_val, y_pred_final)\n",
    "mse_def = mean_squared_error(y_val, y_pred_final)\n",
    "mae_poly_final = mean_absolute_error(y_val, y_pred_final)\n",
    "\n",
    "print(\"------------ Polynomial Regression Validacion ------------\")\n",
    "print(f\"R2-score: {r2_final:.7f}\")\n",
    "print(f\"Residual sum of squares (MSE): {mse_def:.5f}\")\n",
    "print(f\"Mean absolute error: {mae_poly_final:.5f}\")"
   ]
  },
  {
   "cell_type": "markdown",
   "id": "00f4556c",
   "metadata": {
    "id": "O4adCe_SUJ7e"
   },
   "source": [
    "#### **Comportamiento de los datos reales vs los datos predecidos**"
   ]
  },
  {
   "cell_type": "code",
   "execution_count": null,
   "id": "f902702f",
   "metadata": {
    "colab": {
     "base_uri": "https://localhost:8080/",
     "height": 729
    },
    "id": "f9BUndGKUp_7",
    "outputId": "cfabc291-087a-494a-e612-c0e7319c2da6"
   },
   "outputs": [],
   "source": [
    "draw_chart(y_val, y_pred_final, \"Predicción con Regresión Polinomial\", \"Regresión Polinomial\")"
   ]
  },
  {
   "cell_type": "markdown",
   "id": "408c27de",
   "metadata": {
    "id": "ds0LmmujVqOr"
   },
   "source": [
    "Variables del modelo"
   ]
  },
  {
   "cell_type": "code",
   "execution_count": 24,
   "id": "1e5b8208",
   "metadata": {
    "colab": {
     "base_uri": "https://localhost:8080/",
     "height": 441
    },
    "id": "lOpX332AVstA",
    "outputId": "ebbace87-82cc-4e3b-9440-f8d8c10d08b7"
   },
   "outputs": [
    {
     "name": "stdout",
     "output_type": "stream",
     "text": [
      "Intercepto: 25817566.72375145\n"
     ]
    },
    {
     "data": {
      "text/plain": "                    Variable     Parámetro\n0                 Intercepto  2.581757e+07\n1                  geo_lat 1 -8.920764e+05\n2                  geo_lon 1  5.642950e+04\n3                   region 1 -1.082217e+03\n4            building_type 1  2.765057e+06\n..                       ...           ...\n61        rooms kitchen_area  1.113114e+05\n62         rooms object_type  7.938914e+05\n63         area kitchen_area -8.627138e+02\n64          area object_type -1.151075e+05\n65  kitchen_area object_type  6.149566e+05\n\n[66 rows x 2 columns]",
      "text/html": "<div>\n<style scoped>\n    .dataframe tbody tr th:only-of-type {\n        vertical-align: middle;\n    }\n\n    .dataframe tbody tr th {\n        vertical-align: top;\n    }\n\n    .dataframe thead th {\n        text-align: right;\n    }\n</style>\n<table border=\"1\" class=\"dataframe\">\n  <thead>\n    <tr style=\"text-align: right;\">\n      <th></th>\n      <th>Variable</th>\n      <th>Parámetro</th>\n    </tr>\n  </thead>\n  <tbody>\n    <tr>\n      <th>0</th>\n      <td>Intercepto</td>\n      <td>2.581757e+07</td>\n    </tr>\n    <tr>\n      <th>1</th>\n      <td>geo_lat 1</td>\n      <td>-8.920764e+05</td>\n    </tr>\n    <tr>\n      <th>2</th>\n      <td>geo_lon 1</td>\n      <td>5.642950e+04</td>\n    </tr>\n    <tr>\n      <th>3</th>\n      <td>region 1</td>\n      <td>-1.082217e+03</td>\n    </tr>\n    <tr>\n      <th>4</th>\n      <td>building_type 1</td>\n      <td>2.765057e+06</td>\n    </tr>\n    <tr>\n      <th>...</th>\n      <td>...</td>\n      <td>...</td>\n    </tr>\n    <tr>\n      <th>61</th>\n      <td>rooms kitchen_area</td>\n      <td>1.113114e+05</td>\n    </tr>\n    <tr>\n      <th>62</th>\n      <td>rooms object_type</td>\n      <td>7.938914e+05</td>\n    </tr>\n    <tr>\n      <th>63</th>\n      <td>area kitchen_area</td>\n      <td>-8.627138e+02</td>\n    </tr>\n    <tr>\n      <th>64</th>\n      <td>area object_type</td>\n      <td>-1.151075e+05</td>\n    </tr>\n    <tr>\n      <th>65</th>\n      <td>kitchen_area object_type</td>\n      <td>6.149566e+05</td>\n    </tr>\n  </tbody>\n</table>\n<p>66 rows × 2 columns</p>\n</div>"
     },
     "execution_count": 24,
     "metadata": {},
     "output_type": "execute_result"
    }
   ],
   "source": [
    "reg_model = best_model[\"regresion\"]\n",
    "fake_df = best_model[\"polinomial\"].transform(X_val)\n",
    "print(f\"Intercepto: {reg_model.intercept_}\")\n",
    "coef = list(\n",
    "    zip([\"Intercepto\"] + list(fake_df.columns), [reg_model.intercept_] + list(reg_model.coef_))\n",
    ")\n",
    "coef = pd.DataFrame(coef, columns=[\"Variable\", \"Parámetro\"])\n",
    "coef"
   ]
  },
  {
   "cell_type": "code",
   "execution_count": null,
   "id": "e9ebf460",
   "metadata": {
    "colab": {
     "base_uri": "https://localhost:8080/",
     "height": 423
    },
    "id": "EUvheoTsW2SN",
    "outputId": "3d3be266-8902-46ca-99a6-5b96133a7a82"
   },
   "outputs": [],
   "source": [
    "coef.sort_values(\"Parámetro\")"
   ]
  },
  {
   "cell_type": "code",
   "execution_count": null,
   "id": "d54caf54",
   "metadata": {
    "colab": {
     "base_uri": "https://localhost:8080/",
     "height": 80
    },
    "id": "b0ErhLliWldS",
    "outputId": "d3274cd1-6d86-4569-d98a-20efc2405833"
   },
   "outputs": [],
   "source": [
    "coef[coef[\"Parámetro\"].between(-1, 1)]"
   ]
  },
  {
   "cell_type": "code",
   "execution_count": 33,
   "id": "096cc773",
   "metadata": {
    "colab": {
     "base_uri": "https://localhost:8080/"
    },
    "id": "6gZhsvIYXJOf",
    "outputId": "8a9fe673-463a-46a5-e780-e476c287a42b"
   },
   "outputs": [
    {
     "data": {
      "text/plain": [
       "ModelInfo(artifact_path='taller_1_model', flavors={'python_function': {'model_path': 'model.pkl', 'loader_module': 'mlflow.sklearn', 'python_version': '3.9.5', 'env': 'conda.yaml'}, 'sklearn': {'pickled_model': 'model.pkl', 'sklearn_version': '1.0.2', 'serialization_format': 'cloudpickle'}}, model_uri='runs:/08d1e242de90475a99139f391851cf4b/taller_1_model', model_uuid='459716fad5904814b75c15b9fdd3a0b7', run_id='08d1e242de90475a99139f391851cf4b', saved_input_example_info=None, signature_dict=None, utc_time_created='2022-02-23 03:32:54.581765')"
      ]
     },
     "execution_count": 33,
     "metadata": {},
     "output_type": "execute_result"
    }
   ],
   "source": [
    "mlflow.sklearn.log_model(best_model, \"taller_1_model\")"
   ]
  },
  {
   "cell_type": "code",
   "execution_count": null,
   "id": "66e4a97e",
   "metadata": {},
   "outputs": [],
   "source": []
  }
 ],
 "metadata": {
  "jupytext": {
   "encoding": "# -*- coding: utf-8 -*-",
   "main_language": "python"
  },
  "kernelspec": {
   "display_name": "Python 3",
   "name": "python3"
  }
 },
 "nbformat": 4,
 "nbformat_minor": 5
}